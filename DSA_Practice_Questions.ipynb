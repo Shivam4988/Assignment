{
  "nbformat": 4,
  "nbformat_minor": 0,
  "metadata": {
    "colab": {
      "provenance": [],
      "authorship_tag": "ABX9TyO9TpNi2o1YcbECUJYOOtzR",
      "include_colab_link": true
    },
    "kernelspec": {
      "name": "python3",
      "display_name": "Python 3"
    },
    "language_info": {
      "name": "python"
    }
  },
  "cells": [
    {
      "cell_type": "markdown",
      "metadata": {
        "id": "view-in-github",
        "colab_type": "text"
      },
      "source": [
        "<a href=\"https://colab.research.google.com/github/Shivam4988/Assignment/blob/main/DSA_Practice_Questions.ipynb\" target=\"_parent\"><img src=\"https://colab.research.google.com/assets/colab-badge.svg\" alt=\"Open In Colab\"/></a>"
      ]
    },
    {
      "cell_type": "markdown",
      "source": [
        "### 1. Define a doubly linked list\n",
        "\n",
        "A doubly linked list is a type of linked list where each node contains three components:\n",
        "\n",
        "**Data:** The value stored in the node.\n",
        "\n",
        "**Next Pointer:** A reference (or link) to the next node in the sequence.\n",
        "\n",
        "**Previous Pointer:** A reference to the previous node in the sequence.\n",
        "\n",
        "This bidirectional linkage allows traversal in both forward and backward directions, unlike a singly linked list. The first node (head) has a prev pointer set to null, and the last node (tail) has a next pointer set to null.\n",
        "\n"
      ],
      "metadata": {
        "id": "bURWNxWwX5Ps"
      }
    },
    {
      "cell_type": "markdown",
      "source": [
        "### 2. Write a function to reverse a linked list in-place\n",
        "\n",
        "Approach: Use three pointers (prev, current, next) to reverse the links iteratively."
      ],
      "metadata": {
        "id": "VlxBvosrZjon"
      }
    },
    {
      "cell_type": "code",
      "source": [
        "class ListNode:\n",
        "    def __init__(self, val=0, next=None):\n",
        "        self.val = val\n",
        "        self.next = next\n",
        "\n",
        "def reverse_list(head):\n",
        "    prev = None\n",
        "    current = head\n",
        "    while current:\n",
        "        next_node = current.next\n",
        "        current.next = prev\n",
        "        prev = current\n",
        "        current = next_node\n",
        "    return prev"
      ],
      "metadata": {
        "id": "CSp_wZa8Ztxx"
      },
      "execution_count": 4,
      "outputs": []
    },
    {
      "cell_type": "markdown",
      "source": [
        "### 3. Detect cycle in a linked list\n",
        "Approach: Floyd’s Tortoise and Hare algorithm (two pointers).\n",
        "\n"
      ],
      "metadata": {
        "id": "AX7kdTJEZwWd"
      }
    },
    {
      "cell_type": "code",
      "source": [
        "def has_cycle(head):\n",
        "    slow = head\n",
        "    fast = head\n",
        "    while fast and fast.next:\n",
        "        slow = slow.next\n",
        "        fast = fast.next.next\n",
        "        if slow == fast:\n",
        "            return True\n",
        "    return False"
      ],
      "metadata": {
        "id": "MR7CagNgZ3Ug"
      },
      "execution_count": 5,
      "outputs": []
    },
    {
      "cell_type": "markdown",
      "source": [
        "### 4. Merge two sorted linked lists\n",
        "Approach: Use a dummy node to build the merged list by comparing nodes."
      ],
      "metadata": {
        "id": "Y_f-M8KHZ6Qv"
      }
    },
    {
      "cell_type": "code",
      "source": [
        "def merge_two_lists(l1, l2):\n",
        "    dummy = ListNode()\n",
        "    tail = dummy\n",
        "    while l1 and l2:\n",
        "        if l1.val <= l2.val:\n",
        "            tail.next = l1\n",
        "            l1 = l1.next\n",
        "        else:\n",
        "            tail.next = l2\n",
        "            l2 = l2.next\n",
        "        tail = tail.next\n",
        "    tail.next = l1 if l1 else l2\n",
        "    return dummy.next"
      ],
      "metadata": {
        "id": "4ol8zPEjaAOO"
      },
      "execution_count": 6,
      "outputs": []
    },
    {
      "cell_type": "markdown",
      "source": [
        "### 5. Remove nth node from the end\n",
        "Approach: Two pointers with a gap of n nodes."
      ],
      "metadata": {
        "id": "FzJDlfwqaCrh"
      }
    },
    {
      "cell_type": "code",
      "source": [
        "def remove_nth_from_end(head, n):\n",
        "    dummy = ListNode(0, head)\n",
        "    fast = slow = dummy\n",
        "    for _ in range(n + 1):\n",
        "        fast = fast.next\n",
        "    while fast:\n",
        "        fast = fast.next\n",
        "        slow = slow.next\n",
        "    slow.next = slow.next.next\n",
        "    return dummy.next"
      ],
      "metadata": {
        "id": "S0IjA4F-aHJ4"
      },
      "execution_count": 7,
      "outputs": []
    },
    {
      "cell_type": "markdown",
      "source": [
        "### 6. Remove duplicates from a sorted linked list\n",
        "Approach: Iterate and skip duplicates.\n",
        "\n"
      ],
      "metadata": {
        "id": "R4wksk2eaJwb"
      }
    },
    {
      "cell_type": "code",
      "source": [
        "def delete_duplicates(head):\n",
        "    current = head\n",
        "    while current and current.next:\n",
        "        if current.val == current.next.val:\n",
        "            current.next = current.next.next\n",
        "        else:\n",
        "            current = current.next\n",
        "    return head"
      ],
      "metadata": {
        "id": "Z52Qtv40aOiY"
      },
      "execution_count": 8,
      "outputs": []
    },
    {
      "cell_type": "markdown",
      "source": [
        "### 7. Find the intersection of two linked lists\n",
        "Approach: Align the lengths and traverse both lists."
      ],
      "metadata": {
        "id": "qwnFpq4eaTqo"
      }
    },
    {
      "cell_type": "code",
      "source": [
        "def get_intersection_node(headA, headB):\n",
        "    lenA, lenB = 0, 0\n",
        "    currA, currB = headA, headB\n",
        "    # Calculate lengths\n",
        "    while currA:\n",
        "        lenA += 1\n",
        "        currA = currA.next\n",
        "    while currB:\n",
        "        lenB += 1\n",
        "        currB = currB.next\n",
        "    # Align pointers\n",
        "    currA, currB = headA, headB\n",
        "    for _ in range(abs(lenA - lenB)):\n",
        "        if lenA > lenB:\n",
        "            currA = currA.next\n",
        "        else:\n",
        "            currB = currB.next\n",
        "    # Find intersection\n",
        "    while currA and currB:\n",
        "        if currA == currB:\n",
        "            return currA\n",
        "        currA = currA.next\n",
        "        currB = currB.next\n",
        "    return None"
      ],
      "metadata": {
        "id": "V4PGIyLKc9wq"
      },
      "execution_count": 9,
      "outputs": []
    },
    {
      "cell_type": "markdown",
      "source": [
        "### 8. Rotate a linked list by k positions\n",
        "Approach: Connect tail to head, find new tail, and break the link."
      ],
      "metadata": {
        "id": "XLo-sjv-dA1G"
      }
    },
    {
      "cell_type": "code",
      "source": [
        "def rotate_right(head, k):\n",
        "    if not head:\n",
        "        return None\n",
        "    # Compute length\n",
        "    tail = head\n",
        "    length = 1\n",
        "    while tail.next:\n",
        "        tail = tail.next\n",
        "        length += 1\n",
        "    k = k % length\n",
        "    if k == 0:\n",
        "        return head\n",
        "    # Make circular\n",
        "    tail.next = head\n",
        "    # Find new tail\n",
        "    new_tail = head\n",
        "    for _ in range(length - k - 1):\n",
        "        new_tail = new_tail.next\n",
        "    new_head = new_tail.next\n",
        "    new_tail.next = None\n",
        "    return new_head"
      ],
      "metadata": {
        "id": "Km3AMAJOdEis"
      },
      "execution_count": 10,
      "outputs": []
    },
    {
      "cell_type": "markdown",
      "source": [
        "### 9. Add Two Numbers Represented by LinkedLists\n",
        "Approach: Digit-wise addition with carry."
      ],
      "metadata": {
        "id": "FO48djbddHQ9"
      }
    },
    {
      "cell_type": "code",
      "source": [
        "def add_two_numbers(l1, l2):\n",
        "    dummy = ListNode()\n",
        "    current = dummy\n",
        "    carry = 0\n",
        "    while l1 or l2 or carry:\n",
        "        sum_val = carry\n",
        "        if l1:\n",
        "            sum_val += l1.val\n",
        "            l1 = l1.next\n",
        "        if l2:\n",
        "            sum_val += l2.val\n",
        "            l2 = l2.next\n",
        "        carry, val = divmod(sum_val, 10)\n",
        "        current.next = ListNode(val)\n",
        "        current = current.next\n",
        "    return dummy.next"
      ],
      "metadata": {
        "id": "u-aS_4JgdN6K"
      },
      "execution_count": 11,
      "outputs": []
    },
    {
      "cell_type": "markdown",
      "source": [
        "### 10. Clone a Linked List with next and Random Pointer\n",
        "Approach: Insert copied nodes next to originals, set random links, then split."
      ],
      "metadata": {
        "id": "5d-CzSGZdPVY"
      }
    },
    {
      "cell_type": "code",
      "source": [
        "class Node:\n",
        "    def __init__(self, x, next=None, random=None):\n",
        "        self.val = x\n",
        "        self.next = next\n",
        "        self.random = random\n",
        "\n",
        "def copy_random_list(head):\n",
        "    if not head:\n",
        "        return None\n",
        "    # Step 1: Insert copies\n",
        "    current = head\n",
        "    while current:\n",
        "        copy = Node(current.val)\n",
        "        copy.next = current.next\n",
        "        current.next = copy\n",
        "        current = copy.next\n",
        "    # Step 2: Set random pointers\n",
        "    current = head\n",
        "    while current:\n",
        "        if current.random:\n",
        "            current.next.random = current.random.next\n",
        "        current = current.next.next\n",
        "    # Step 3: Split the lists\n",
        "    old = head\n",
        "    new_head = head.next\n",
        "    current = new_head\n",
        "    while old:\n",
        "        old.next = old.next.next\n",
        "        old = old.next\n",
        "        if current.next:\n",
        "            current.next = current.next.next\n",
        "            current = current.next\n",
        "    return new_head"
      ],
      "metadata": {
        "id": "ymF7WpE5dUA1"
      },
      "execution_count": 12,
      "outputs": []
    },
    {
      "cell_type": "code",
      "source": [],
      "metadata": {
        "id": "bicjFVLrdbd8"
      },
      "execution_count": null,
      "outputs": []
    }
  ]
}