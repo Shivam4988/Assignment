{
  "nbformat": 4,
  "nbformat_minor": 0,
  "metadata": {
    "colab": {
      "provenance": [],
      "authorship_tag": "ABX9TyMa9zvV6YstP5NPV3DB/7Dd",
      "include_colab_link": true
    },
    "kernelspec": {
      "name": "python3",
      "display_name": "Python 3"
    },
    "language_info": {
      "name": "python"
    }
  },
  "cells": [
    {
      "cell_type": "markdown",
      "metadata": {
        "id": "view-in-github",
        "colab_type": "text"
      },
      "source": [
        "<a href=\"https://colab.research.google.com/github/Shivam4988/Assignment/blob/main/Recursion.ipynb\" target=\"_parent\"><img src=\"https://colab.research.google.com/assets/colab-badge.svg\" alt=\"Open In Colab\"/></a>"
      ]
    },
    {
      "cell_type": "markdown",
      "source": [
        "### Q.1 Tower of Hanoi Python Program and Explanation"
      ],
      "metadata": {
        "id": "iYPRqGEZnmL9"
      }
    },
    {
      "cell_type": "code",
      "execution_count": 1,
      "metadata": {
        "colab": {
          "base_uri": "https://localhost:8080/"
        },
        "id": "tlTXSgnMnjfN",
        "outputId": "d42b23d6-9298-42af-ceb9-63ca3100363a"
      },
      "outputs": [
        {
          "output_type": "stream",
          "name": "stdout",
          "text": [
            "Move disk 1 from A to C\n",
            "Move disk 2 from A to B\n",
            "Move disk 1 from C to B\n",
            "Move disk 3 from A to C\n",
            "Move disk 1 from B to A\n",
            "Move disk 2 from B to C\n",
            "Move disk 1 from A to C\n"
          ]
        }
      ],
      "source": [
        "def tower_of_hanoi(n, source, auxiliary, target):\n",
        "    if n == 1:\n",
        "        print(f\"Move disk 1 from {source} to {target}\")\n",
        "        return\n",
        "    tower_of_hanoi(n-1, source, target, auxiliary)\n",
        "    print(f\"Move disk {n} from {source} to {target}\")\n",
        "    tower_of_hanoi(n-1, auxiliary, source, target)\n",
        "\n",
        "# Test with 3 disks\n",
        "tower_of_hanoi(3, 'A', 'B', 'C')"
      ]
    },
    {
      "cell_type": "markdown",
      "source": [
        "**Explanation:**\n",
        "\n",
        "Recursively moves disks between rods by breaking the problem into smaller subproblems. Base case handles the smallest disk. Output for 3 disks matches the required sequence."
      ],
      "metadata": {
        "id": "qxMRTCSwnvtK"
      }
    },
    {
      "cell_type": "markdown",
      "source": [
        "### Q.2 Minimum Operations to Convert Word1 to Word2 (Edit Distance)"
      ],
      "metadata": {
        "id": "vUSG_eucnzIk"
      }
    },
    {
      "cell_type": "code",
      "source": [
        "def min_distance(word1, word2):\n",
        "    if not word1:\n",
        "        return len(word2)\n",
        "    if not word2:\n",
        "        return len(word1)\n",
        "    if word1[-1] == word2[-1]:\n",
        "        return min_distance(word1[:-1], word2[:-1])\n",
        "    return 1 + min(\n",
        "        min_distance(word1, word2[:-1]),       # Insert\n",
        "        min_distance(word1[:-1], word2),        # Delete\n",
        "        min_distance(word1[:-1], word2[:-1])     # Replace\n",
        "    )\n",
        "\n",
        "# Example test\n",
        "print(min_distance(\"horse\", \"ros\"))  # Output: 3"
      ],
      "metadata": {
        "colab": {
          "base_uri": "https://localhost:8080/"
        },
        "id": "M5NYtYtTn3JZ",
        "outputId": "035b1f62-2bb4-4b8b-ba83-5905b69aaf5c"
      },
      "execution_count": 2,
      "outputs": [
        {
          "output_type": "stream",
          "name": "stdout",
          "text": [
            "3\n"
          ]
        }
      ]
    },
    {
      "cell_type": "markdown",
      "source": [
        "### Q.3 Max Value of Array [13, 1, -3, 22, 5]"
      ],
      "metadata": {
        "id": "M0kVQSYzn_g6"
      }
    },
    {
      "cell_type": "code",
      "source": [
        "def find_max(arr):\n",
        "    if len(arr) == 1:\n",
        "        return arr[0]\n",
        "    rest_max = find_max(arr[1:])\n",
        "    return max(arr[0], rest_max)\n",
        "\n",
        "# Test\n",
        "arr = [13, 1, -3, 22, 5]\n",
        "print(find_max(arr))  # Output: 22"
      ],
      "metadata": {
        "colab": {
          "base_uri": "https://localhost:8080/"
        },
        "id": "kSznpR9PoAx6",
        "outputId": "ab6e5e8a-a34f-4c5c-c873-36c8009bf7f4"
      },
      "execution_count": 3,
      "outputs": [
        {
          "output_type": "stream",
          "name": "stdout",
          "text": [
            "22\n"
          ]
        }
      ]
    },
    {
      "cell_type": "markdown",
      "source": [
        "**Explanation:** Recursively compares the first element with the max of the remaining elements."
      ],
      "metadata": {
        "id": "PRRcL9ZXoELW"
      }
    },
    {
      "cell_type": "markdown",
      "source": [
        "### Q.4 Sum of Array [92, 23, 15, -20, 10]"
      ],
      "metadata": {
        "id": "32TtSQkPoHvw"
      }
    },
    {
      "cell_type": "code",
      "source": [
        "def array_sum(arr):\n",
        "    if not arr:\n",
        "        return 0\n",
        "    return arr[0] + array_sum(arr[1:])\n",
        "\n",
        "# Test\n",
        "arr = [92, 23, 15, -20, 10]\n",
        "print(array_sum(arr))  # Output: 120"
      ],
      "metadata": {
        "colab": {
          "base_uri": "https://localhost:8080/"
        },
        "id": "D3m4Nb3RoKF2",
        "outputId": "b07ab5f3-bcb5-49b1-af23-336433a08878"
      },
      "execution_count": 4,
      "outputs": [
        {
          "output_type": "stream",
          "name": "stdout",
          "text": [
            "120\n"
          ]
        }
      ]
    },
    {
      "cell_type": "markdown",
      "source": [
        "### Q.5 Armstrong Number Check"
      ],
      "metadata": {
        "id": "GvxGgd8OoNlD"
      }
    },
    {
      "cell_type": "code",
      "source": [
        "def is_armstrong(n):\n",
        "    def count_digits(x):\n",
        "        if x == 0:\n",
        "            return 0\n",
        "        return 1 + count_digits(x // 10)\n",
        "\n",
        "    def sum_powers(x, power):\n",
        "        if x == 0:\n",
        "            return 0\n",
        "        return (x % 10) ** power + sum_powers(x // 10, power)\n",
        "\n",
        "    num_digits = count_digits(n)\n",
        "    return \"Yes\" if sum_powers(n, num_digits) == n else \"No\"\n",
        "\n",
        "# Tests\n",
        "print(is_armstrong(153))  # Output: Yes\n",
        "print(is_armstrong(134))  # Output: No"
      ],
      "metadata": {
        "colab": {
          "base_uri": "https://localhost:8080/"
        },
        "id": "Q8HjRhSHoREX",
        "outputId": "c0fc33a7-9aa2-4b0f-a062-e6ff990eb6b1"
      },
      "execution_count": 5,
      "outputs": [
        {
          "output_type": "stream",
          "name": "stdout",
          "text": [
            "Yes\n",
            "No\n"
          ]
        }
      ]
    },
    {
      "cell_type": "markdown",
      "source": [
        "**Explanation:**\n",
        "\n",
        "count_digits calculates the number of digits recursively.\n",
        "\n",
        "sum_powers computes the sum of each digit raised to the total number of digits.\n",
        "\n",
        "Returns \"Yes\" if the sum equals the original number.\n",
        "\n"
      ],
      "metadata": {
        "id": "G3vlnRIloUBA"
      }
    },
    {
      "cell_type": "code",
      "source": [],
      "metadata": {
        "id": "x19MyNFDoZVm"
      },
      "execution_count": null,
      "outputs": []
    }
  ]
}