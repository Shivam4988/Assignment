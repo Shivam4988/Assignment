{
  "nbformat": 4,
  "nbformat_minor": 0,
  "metadata": {
    "colab": {
      "provenance": [],
      "authorship_tag": "ABX9TyNJZLnM1ezQPMXqlt+0IeaE",
      "include_colab_link": true
    },
    "kernelspec": {
      "name": "python3",
      "display_name": "Python 3"
    },
    "language_info": {
      "name": "python"
    }
  },
  "cells": [
    {
      "cell_type": "markdown",
      "metadata": {
        "id": "view-in-github",
        "colab_type": "text"
      },
      "source": [
        "<a href=\"https://colab.research.google.com/github/Shivam4988/Assignment/blob/main/Web_API_%26_Flask.ipynb\" target=\"_parent\"><img src=\"https://colab.research.google.com/assets/colab-badge.svg\" alt=\"Open In Colab\"/></a>"
      ]
    },
    {
      "cell_type": "markdown",
      "source": [
        "### 1. What is a Web API?\n",
        "A Web API is an interface that enables communication between software applications over the internet using HTTP, typically returning data in formats like JSON or XML."
      ],
      "metadata": {
        "id": "NszAGy6wl5jP"
      }
    },
    {
      "cell_type": "markdown",
      "source": [
        "### 2. How does a Web API differ from a web service?\n",
        "All web services are APIs, but not all APIs are web services. Web services specifically use standardized protocols (e.g., SOAP, REST) over a network, while Web APIs are broader and may use various communication methods.\n",
        "\n"
      ],
      "metadata": {
        "id": "fjIAsK6qmLBs"
      }
    },
    {
      "cell_type": "markdown",
      "source": [
        "### 3. Benefits of using Web APIs in software development?\n",
        "Interoperability, modularity, platform independence, scalability, and enabling third-party integrations."
      ],
      "metadata": {
        "id": "PPXlWQdEmduC"
      }
    },
    {
      "cell_type": "markdown",
      "source": [
        "### 4. Difference between SOAP and RESTful APIs?\n",
        "SOAP is a protocol with strict standards (XML-based), while REST is an architectural style (HTTP-based, stateless, JSON/XML). REST is more flexible and lightweight."
      ],
      "metadata": {
        "id": "c0QZ0iSgmi_1"
      }
    },
    {
      "cell_type": "markdown",
      "source": [
        "### 5. What is JSON and its use in Web APIs?\n",
        "JSON (JavaScript Object Notation) is a lightweight data-interchange format. It’s widely used in Web APIs for its readability and compatibility with JavaScript."
      ],
      "metadata": {
        "id": "cvxk7y_TmoTH"
      }
    },
    {
      "cell_type": "markdown",
      "source": [
        "### 6. Popular Web API protocols other than REST?\n",
        "SOAP, GraphQL, gRPC, WebSocket, XML-RPC."
      ],
      "metadata": {
        "id": "uuwfdJRHm0cc"
      }
    },
    {
      "cell_type": "markdown",
      "source": [
        "### 7. Role of HTTP methods in Web API development?\n",
        "Define actions: GET (retrieve), POST (create), PUT (update), DELETE (remove). They standardize client-server interactions."
      ],
      "metadata": {
        "id": "Q4U4en_im4vy"
      }
    },
    {
      "cell_type": "markdown",
      "source": [
        "### 8. Purpose of authentication and authorization in Web APIs?\n",
        "Authentication verifies identity; authorization controls resource access. Both ensure secure API usage."
      ],
      "metadata": {
        "id": "ITFG3maKm8oq"
      }
    },
    {
      "cell_type": "markdown",
      "source": [
        "### 9. Handling versioning in Web API development?\n",
        "Via URI paths (/v1/resource), query parameters (resource?version=1), headers, or media types."
      ],
      "metadata": {
        "id": "3l7wyXTgm__V"
      }
    },
    {
      "cell_type": "markdown",
      "source": [
        "### 10. Main components of an HTTP request and response?\n",
        "\n",
        "Request: Method, URI, headers, body.\n",
        "\n",
        "Response: Status code, headers, body."
      ],
      "metadata": {
        "id": "ZS1cxYzenQTw"
      }
    },
    {
      "cell_type": "markdown",
      "source": [
        "### 11. Rate limiting in Web APIs?\n",
        "Limiting request frequency per client to prevent abuse, ensure fairness, and maintain server performance."
      ],
      "metadata": {
        "id": "DscYuVAonULj"
      }
    },
    {
      "cell_type": "markdown",
      "source": [
        "### 12. Handling errors in Web API responses?\n",
        "Use HTTP status codes (e.g., 404 Not Found) and include error details in the response body (e.g., JSON with error_code and message)."
      ],
      "metadata": {
        "id": "D6acq9e0nbmy"
      }
    },
    {
      "cell_type": "markdown",
      "source": [
        "### 13. Statelessness in RESTful APIs?\n",
        "No client context is stored on the server between requests. Each request must contain all necessary information."
      ],
      "metadata": {
        "id": "EtRs88d-ngI_"
      }
    },
    {
      "cell_type": "markdown",
      "source": [
        "### 14. Best practices for designing and documenting Web APIs?\n",
        "Clear naming, consistency, versioning, security, documentation (e.g., Swagger), and providing examples."
      ],
      "metadata": {
        "id": "XwWecSjPnjrM"
      }
    },
    {
      "cell_type": "markdown",
      "source": [
        "### 15. API keys and tokens in securing Web APIs?\n",
        "API keys authenticate clients; tokens (e.g., JWT) manage authorization. Both restrict access to authorized users/apps."
      ],
      "metadata": {
        "id": "ZIYbzrH-nrtA"
      }
    },
    {
      "cell_type": "markdown",
      "source": [
        "### 16. What is REST and its key principles?\n",
        "REST (Representational State Transfer) is an architectural style. Principles: statelessness, client-server separation, cacheability, layered system, uniform interface."
      ],
      "metadata": {
        "id": "44wpE6A5n0dp"
      }
    },
    {
      "cell_type": "markdown",
      "source": [
        "### 17. RESTful APIs vs traditional web services?\n",
        "REST uses HTTP methods and is stateless; traditional services (e.g., SOAP) are protocol-driven, stateful, and XML-based."
      ],
      "metadata": {
        "id": "EJe17g0Dn6Xb"
      }
    },
    {
      "cell_type": "markdown",
      "source": [
        "### 18. Main HTTP methods in REST and purposes?\n",
        "GET (retrieve), POST (create), PUT (replace), PATCH (partial update), DELETE (remove)."
      ],
      "metadata": {
        "id": "EIXvpkr2oFF-"
      }
    },
    {
      "cell_type": "markdown",
      "source": [
        "### 19. Statelessness in RESTful APIs?\n",
        "Each request is independent; the server doesn’t store client state between requests."
      ],
      "metadata": {
        "id": "a4eT9fN8oIn0"
      }
    },
    {
      "cell_type": "markdown",
      "source": [
        "### 20. Significance of URIs in RESTful design?\n",
        "URIs uniquely identify resources and should be intuitive, hierarchical, and noun-based (e.g., /users/123)."
      ],
      "metadata": {
        "id": "oyTrlpb9oMnX"
      }
    },
    {
      "cell_type": "markdown",
      "source": [
        "### 21. Hypermedia in RESTful APIs (HATEOAS)?\n",
        "Hypermedia embeds links in responses, allowing clients to navigate the API dynamically. HATEOAS ensures interactions are driven by hypermedia.\n",
        "\n"
      ],
      "metadata": {
        "id": "qgqA0A8CoQHh"
      }
    },
    {
      "cell_type": "markdown",
      "source": [
        "### 22. Benefits of RESTful APIs?\n",
        "Scalability, simplicity, cacheability, compatibility with web standards, and flexibility in data formats.\n",
        "\n"
      ],
      "metadata": {
        "id": "M-PMcw2FoTwW"
      }
    },
    {
      "cell_type": "markdown",
      "source": [
        "### 23. Resource representations in RESTful APIs?\n",
        "Resources can be represented in multiple formats (JSON, XML) based on client needs, including data and metadata."
      ],
      "metadata": {
        "id": "DRQQ788xoYbA"
      }
    },
    {
      "cell_type": "markdown",
      "source": [
        "### 24. REST communication between client and server?\n",
        "Clients send HTTP requests to URIs; servers return HTTP responses. Stateless and independent."
      ],
      "metadata": {
        "id": "gF1vocyXoci6"
      }
    },
    {
      "cell_type": "markdown",
      "source": [
        "### 25. Common data formats in RESTful APIs?\n",
        "JSON (most common), XML, HTML, plain text."
      ],
      "metadata": {
        "id": "SE9QFBTGonGD"
      }
    },
    {
      "cell_type": "markdown",
      "source": [
        "### 26. Importance of status codes in REST?\n",
        "Indicate request outcome: 2xx (success), 3xx (redirection), 4xx (client error), 5xx (server error)."
      ],
      "metadata": {
        "id": "GPo2TD0qoqmg"
      }
    },
    {
      "cell_type": "markdown",
      "source": [
        "### 27. Versioning in RESTful APIs?\n",
        "Use URI paths, headers (e.g., Accept: application/vnd.myapi.v1+json), or query parameters."
      ],
      "metadata": {
        "id": "22PdQWcEot9u"
      }
    },
    {
      "cell_type": "markdown",
      "source": [
        "### 28. Security in RESTful API development?\n",
        "HTTPS, authentication (OAuth, API keys), authorization (JWT), input validation, rate limiting, and CORS.\n",
        "\n"
      ],
      "metadata": {
        "id": "a-5naU0cow7-"
      }
    },
    {
      "cell_type": "markdown",
      "source": [
        "### 29. Best practices for documenting RESTful APIs?\n",
        "Use OpenAPI/Swagger, document endpoints, parameters, examples, error codes, and provide SDKs."
      ],
      "metadata": {
        "id": "cRDPFH1FpcnS"
      }
    },
    {
      "cell_type": "markdown",
      "source": [
        "### 30. Error handling considerations in RESTful APIs?\n",
        "Consistent error formats, appropriate status codes, clear messages, logging, and avoiding data exposure."
      ],
      "metadata": {
        "id": "IwKwrqodpgpZ"
      }
    },
    {
      "cell_type": "markdown",
      "source": [
        "### 31. What is SOAP and how it differs from REST?\n",
        "SOAP is a protocol using XML and strict standards (WS-*). REST is an architectural style using HTTP and JSON/XML, offering more flexibility."
      ],
      "metadata": {
        "id": "lOt8xeP0pknj"
      }
    },
    {
      "cell_type": "markdown",
      "source": [
        "### 32. Structure of a SOAP message?\n",
        "XML envelope containing:\n",
        "\n",
        "Header (optional, for security),\n",
        "\n",
        "Body (request/response data),\n",
        "\n",
        "Fault (errors)."
      ],
      "metadata": {
        "id": "Y7S2Lgdpppw7"
      }
    },
    {
      "cell_type": "markdown",
      "source": [
        "### 33. SOAP communication between clients and servers?\n",
        "Clients send XML requests via HTTP/HTTPS; servers return XML responses. Relies on WSDL for service description."
      ],
      "metadata": {
        "id": "YfDxj83ypur5"
      }
    },
    {
      "cell_type": "markdown",
      "source": [
        "### 34. Advantages and disadvantages of SOAP?\n",
        "\n",
        "Advantages: Built-in security (WS-Security), reliability, ACID compliance.\n",
        "\n",
        "Disadvantages: Verbose XML, slower performance, complexity.\n",
        "\n"
      ],
      "metadata": {
        "id": "R8WeYIdzpyWQ"
      }
    },
    {
      "cell_type": "markdown",
      "source": [
        "### 35. SOAP security?\n",
        "Uses WS-Security for encryption, digital signatures, and authentication, ensuring end-to-end security."
      ],
      "metadata": {
        "id": "4qlkvAmBp7QZ"
      }
    },
    {
      "cell_type": "markdown",
      "source": [
        "### 36. What is Flask and its differentiation?\n",
        "Flask is a lightweight Python web framework. It’s \"micro\" (minimalist) and extensible, unlike full-stack frameworks like Django."
      ],
      "metadata": {
        "id": "zXYiBNoTp_xZ"
      }
    },
    {
      "cell_type": "markdown",
      "source": [
        "### 37. Basic structure of a Flask app?\n",
        "\n"
      ],
      "metadata": {
        "id": "p1TIlbvPqDB5"
      }
    },
    {
      "cell_type": "code",
      "source": [
        "from flask import Flask\n",
        "app = Flask(__name__)\n",
        "\n",
        "@app.route('/')\n",
        "def home():\n",
        "    return 'Hello, World!'\n",
        "\n",
        "if __name__ == '__main__':\n",
        "    app.run()"
      ],
      "metadata": {
        "colab": {
          "base_uri": "https://localhost:8080/"
        },
        "id": "amJDvU4QqHw_",
        "outputId": "03649b57-c4bc-4340-d236-c10cd5877ae1"
      },
      "execution_count": 1,
      "outputs": [
        {
          "output_type": "stream",
          "name": "stdout",
          "text": [
            " * Serving Flask app '__main__'\n",
            " * Debug mode: off\n"
          ]
        },
        {
          "output_type": "stream",
          "name": "stderr",
          "text": [
            "INFO:werkzeug:\u001b[31m\u001b[1mWARNING: This is a development server. Do not use it in a production deployment. Use a production WSGI server instead.\u001b[0m\n",
            " * Running on http://127.0.0.1:5000\n",
            "INFO:werkzeug:\u001b[33mPress CTRL+C to quit\u001b[0m\n"
          ]
        }
      ]
    },
    {
      "cell_type": "markdown",
      "source": [
        "### 38. Installing Flask?\n",
        "Run pip install Flask in the terminal."
      ],
      "metadata": {
        "id": "aPdy07axqPcO"
      }
    },
    {
      "cell_type": "markdown",
      "source": [
        "### 39. Routing in Flask?\n",
        "Use decorators like @app.route('/path') to map URLs to functions. Supports variables (e.g., /user/<username>) and HTTP methods."
      ],
      "metadata": {
        "id": "kqIvFDwZqhV9"
      }
    },
    {
      "cell_type": "markdown",
      "source": [
        "### 40. Flask templates and their use?\n",
        "Templates (Jinja2) generate dynamic HTML. Stored in a templates folder, rendered via render_template('file.html', variable=value).\n",
        "\n"
      ],
      "metadata": {
        "id": "-0rhCpn3qmoB"
      }
    },
    {
      "cell_type": "code",
      "source": [],
      "metadata": {
        "id": "fxuEJB_1qtoV"
      },
      "execution_count": null,
      "outputs": []
    }
  ]
}