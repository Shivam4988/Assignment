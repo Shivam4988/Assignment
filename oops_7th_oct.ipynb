{
  "cells": [
    {
      "cell_type": "markdown",
      "metadata": {
        "id": "view-in-github",
        "colab_type": "text"
      },
      "source": [
        "<a href=\"https://colab.research.google.com/github/Shivam4988/Assignment/blob/main/oops_7th_oct.ipynb\" target=\"_parent\"><img src=\"https://colab.research.google.com/assets/colab-badge.svg\" alt=\"Open In Colab\"/></a>"
      ]
    },
    {
      "cell_type": "code",
      "execution_count": null,
      "id": "8b6a7b1a-3ff5-4b22-be3e-d3b2d7aa7e3a",
      "metadata": {
        "id": "8b6a7b1a-3ff5-4b22-be3e-d3b2d7aa7e3a"
      },
      "outputs": [],
      "source": [
        "class a :\n",
        "\n",
        "    def test(self):\n",
        "        print(\"this test method is a part of class a\")\n",
        "\n",
        "    def test1(self):\n",
        "        print(\"this is test1 from class a \")"
      ]
    },
    {
      "cell_type": "code",
      "execution_count": null,
      "id": "8e4d306f-fdb4-47a0-a93d-597f5b21d30b",
      "metadata": {
        "id": "8e4d306f-fdb4-47a0-a93d-597f5b21d30b"
      },
      "outputs": [],
      "source": [
        "obj_a = a()"
      ]
    },
    {
      "cell_type": "code",
      "execution_count": null,
      "id": "81ef5597-cf96-4ed9-a4f6-21e2e93aca70",
      "metadata": {
        "id": "81ef5597-cf96-4ed9-a4f6-21e2e93aca70",
        "outputId": "1d578dbe-2181-4788-fa44-5298a52f7101"
      },
      "outputs": [
        {
          "name": "stdout",
          "output_type": "stream",
          "text": [
            "this test method is a part of class a\n"
          ]
        }
      ],
      "source": [
        "obj_a.test()"
      ]
    },
    {
      "cell_type": "code",
      "execution_count": null,
      "id": "11ee63d6-433d-48dc-ada0-5dd6771310ba",
      "metadata": {
        "id": "11ee63d6-433d-48dc-ada0-5dd6771310ba"
      },
      "outputs": [],
      "source": [
        "class b(a) :\n",
        "    def test1b(self):\n",
        "        print(\"this is a part of class b \")"
      ]
    },
    {
      "cell_type": "code",
      "execution_count": null,
      "id": "badaedfe-57d1-43c6-9193-e5afb0f31dbc",
      "metadata": {
        "id": "badaedfe-57d1-43c6-9193-e5afb0f31dbc"
      },
      "outputs": [],
      "source": [
        "obj_b = b()"
      ]
    },
    {
      "cell_type": "code",
      "execution_count": null,
      "id": "3ce19f61-ba8e-4050-9d4d-614adfd964c5",
      "metadata": {
        "id": "3ce19f61-ba8e-4050-9d4d-614adfd964c5",
        "outputId": "7713e7ee-c7d7-46fc-fc16-48baad1f5054"
      },
      "outputs": [
        {
          "name": "stdout",
          "output_type": "stream",
          "text": [
            "this test method is a part of class a\n"
          ]
        }
      ],
      "source": [
        "obj_b.test()"
      ]
    },
    {
      "cell_type": "code",
      "execution_count": null,
      "id": "5e473fae-e094-4407-99df-16a04ab4c80a",
      "metadata": {
        "id": "5e473fae-e094-4407-99df-16a04ab4c80a",
        "outputId": "d5d6afaf-1874-41aa-b8c0-babbb595afe3"
      },
      "outputs": [
        {
          "name": "stdout",
          "output_type": "stream",
          "text": [
            "this is test1 from class a \n"
          ]
        }
      ],
      "source": [
        "obj_b.test1()"
      ]
    },
    {
      "cell_type": "code",
      "execution_count": null,
      "id": "02a8f055-535f-4bc2-adc1-575445f82570",
      "metadata": {
        "id": "02a8f055-535f-4bc2-adc1-575445f82570"
      },
      "outputs": [],
      "source": [
        "obj_b."
      ]
    },
    {
      "cell_type": "code",
      "execution_count": null,
      "id": "59361cd3-c0c4-4ddd-abac-cbe3275ade5f",
      "metadata": {
        "id": "59361cd3-c0c4-4ddd-abac-cbe3275ade5f"
      },
      "outputs": [],
      "source": [
        "class lecture:\n",
        "\n",
        "    def topic(self):\n",
        "        print(\"todays class we are discussing about inheritance condept in oops\")\n",
        "\n",
        "    def timing(self):\n",
        "        print(\"timing for todays class is 9 AM IST\")\n",
        "\n",
        "    def end_time(self):\n",
        "        print(\"today i will try to end class bit early\")"
      ]
    },
    {
      "cell_type": "code",
      "execution_count": null,
      "id": "6e3dd2de-883e-4e9e-98a0-4a7089af1627",
      "metadata": {
        "id": "6e3dd2de-883e-4e9e-98a0-4a7089af1627"
      },
      "outputs": [],
      "source": [
        "class student(lecture):\n",
        "\n",
        "    def student_details(self):\n",
        "        print(\"this class will give you a student details\")"
      ]
    },
    {
      "cell_type": "code",
      "execution_count": null,
      "id": "c2ad2a89-0f29-4410-86c4-e33f47b4186d",
      "metadata": {
        "id": "c2ad2a89-0f29-4410-86c4-e33f47b4186d"
      },
      "outputs": [],
      "source": [
        "naval = student()"
      ]
    },
    {
      "cell_type": "code",
      "execution_count": null,
      "id": "38c86e7f-5560-464a-b597-c88a74819f1a",
      "metadata": {
        "id": "38c86e7f-5560-464a-b597-c88a74819f1a",
        "outputId": "eab88b54-6d7d-40e4-a8ac-abbd90ba6ec2"
      },
      "outputs": [
        {
          "name": "stdout",
          "output_type": "stream",
          "text": [
            "todays class we are discussing about inheritance condept in oops\n"
          ]
        }
      ],
      "source": [
        "naval.topic()"
      ]
    },
    {
      "cell_type": "code",
      "execution_count": null,
      "id": "02efc8a4-f995-4f85-87d2-620ccc0f61fa",
      "metadata": {
        "id": "02efc8a4-f995-4f85-87d2-620ccc0f61fa",
        "outputId": "ebf8c7b5-d249-433b-b585-b339751a1ac5"
      },
      "outputs": [
        {
          "name": "stdout",
          "output_type": "stream",
          "text": [
            "timing for todays class is 9 AM IST\n"
          ]
        }
      ],
      "source": [
        "satish = student()\n",
        "satish.timing()"
      ]
    },
    {
      "cell_type": "code",
      "execution_count": null,
      "id": "03932972-a58b-46e5-a3f8-ffc43c84ce53",
      "metadata": {
        "id": "03932972-a58b-46e5-a3f8-ffc43c84ce53"
      },
      "outputs": [],
      "source": [
        "class teacher(student):\n",
        "    def details(self):\n",
        "        print(\"this will give you a details about teacher\")"
      ]
    },
    {
      "cell_type": "code",
      "execution_count": null,
      "id": "fff36c1b-f1e9-467e-b29f-c304aa9feec9",
      "metadata": {
        "id": "fff36c1b-f1e9-467e-b29f-c304aa9feec9",
        "outputId": "0727f633-a889-49a6-9d68-65a00ab03620"
      },
      "outputs": [
        {
          "name": "stdout",
          "output_type": "stream",
          "text": [
            "timing for todays class is 9 AM IST\n"
          ]
        }
      ],
      "source": [
        "sudh = teacher()\n",
        "sudh.timing()"
      ]
    },
    {
      "cell_type": "code",
      "execution_count": null,
      "id": "a5e8c94b-de62-4ef5-8eba-81259d83dd3d",
      "metadata": {
        "id": "a5e8c94b-de62-4ef5-8eba-81259d83dd3d"
      },
      "outputs": [],
      "source": [
        "class lecture:\n",
        "    def topic(self):\n",
        "        print(\"todays class we are discussing about inheritance condept in oops\")\n",
        "\n",
        "    def timing(self):\n",
        "        print(\"timing for todays class is 9 AM IST\")\n",
        "\n",
        "    def end_time(self):\n",
        "        print(\"today i will try to end class bit early\")"
      ]
    },
    {
      "cell_type": "code",
      "execution_count": null,
      "id": "2007141c-1b71-4cd4-9bed-a3cd8d851baa",
      "metadata": {
        "id": "2007141c-1b71-4cd4-9bed-a3cd8d851baa"
      },
      "outputs": [],
      "source": [
        "class student:\n",
        "\n",
        "    def student_details(self):\n",
        "        print(\"this class will give you a student details\")\n",
        "\n",
        "    def timing(self):\n",
        "        print(\"this is a timing fun from student class\")\n"
      ]
    },
    {
      "cell_type": "code",
      "execution_count": null,
      "id": "272860d3-1fac-475b-8c09-0490069224bc",
      "metadata": {
        "id": "272860d3-1fac-475b-8c09-0490069224bc"
      },
      "outputs": [],
      "source": [
        "class teacher(lecture,student):\n",
        "    def details(self):\n",
        "        print(\"this will give you a details about teacher\")"
      ]
    },
    {
      "cell_type": "code",
      "execution_count": null,
      "id": "f4a9ae16-f0e3-4a4a-a003-38773611cd2a",
      "metadata": {
        "id": "f4a9ae16-f0e3-4a4a-a003-38773611cd2a"
      },
      "outputs": [],
      "source": [
        "krish = teacher()"
      ]
    },
    {
      "cell_type": "code",
      "execution_count": null,
      "id": "6dc85f37-219e-4c72-927c-9aebb550fea9",
      "metadata": {
        "id": "6dc85f37-219e-4c72-927c-9aebb550fea9",
        "outputId": "b1c7c0d9-2aeb-4dd1-cc90-bfcce3b27ba6"
      },
      "outputs": [
        {
          "name": "stdout",
          "output_type": "stream",
          "text": [
            "timing for todays class is 9 AM IST\n"
          ]
        }
      ],
      "source": [
        "krish.timing()"
      ]
    },
    {
      "cell_type": "code",
      "execution_count": null,
      "id": "8bcbac88-9172-4a31-a191-9c4b9a1c6eac",
      "metadata": {
        "id": "8bcbac88-9172-4a31-a191-9c4b9a1c6eac",
        "outputId": "2826ac73-7b2b-4960-9ac1-bf1ce406828b"
      },
      "outputs": [
        {
          "name": "stdout",
          "output_type": "stream",
          "text": [
            "this class will give you a student details\n"
          ]
        }
      ],
      "source": [
        "krish.student_details()"
      ]
    },
    {
      "cell_type": "markdown",
      "id": "86b47d4f-860e-4702-83a0-0145887ab41a",
      "metadata": {
        "id": "86b47d4f-860e-4702-83a0-0145887ab41a"
      },
      "source": [
        "Problem 1: Bank Account Create a class representing a bank account with attributes like account number, account holder name, and balance. Implement methods to deposit and withdraw money from the account.\n",
        "\n",
        "Problem 2: Employee Management Create a class representing an employee with attributes like employee ID, name, and salary. Implement methods to calculate the yearly bonus and display employee details.\n",
        "\n",
        "Problem 3: Vehicle Rental Create a class representing a vehicle rental system. Implement methods to rent a vehicle, return a vehicle, and display available vehicles.\n",
        "\n",
        "Problem 4: Library Catalog Create classes representing a library and a book. Implement methods to add books to the library, borrow books, and display available books.\n",
        "\n",
        "Problem 5: Product Inventory Create classes representing a product and an inventory system. Implement methods to add products to the inventory, update product quantity, and display available products.\n",
        "\n",
        "Problem 6: Shape Calculation Create a class representing a shape with attributes like length, width, and height. Implement methods to calculate the area and perimeter of the shape.\n",
        "\n",
        "Problem 7: Student Management Create a class representing a student with attributes like student ID, name, and grades. Implement methods to calculate the average grade and display student details.\n",
        "\n",
        "Problem 8: Email Management Create a class representing an email with attributes like sender, recipient, and subject. Implement methods to send an email and display email details.\n",
        "\n",
        "Problem 9: Social Media Profile Create a class representing a social media profile with attributes like username and posts. Implement methods to add posts, display posts, and search for posts by keyword.\n",
        "\n",
        "Problem 10: ToDo List Create a class representing a ToDo list with attributes like tasks and due dates. Implement methods to add tasks, mark tasks as completed, and display pending tasks."
      ]
    },
    {
      "cell_type": "markdown",
      "source": [
        "### Problem 1: Bank Account Create a class representing a bank account with attributes like account number, account holder name, and balance. Implement methods to deposit and withdraw money from the account."
      ],
      "metadata": {
        "id": "ZNmktXgteOST"
      },
      "id": "ZNmktXgteOST"
    },
    {
      "cell_type": "code",
      "execution_count": 1,
      "id": "fef1683a-faa4-4d27-a0a6-7a742e512e9b",
      "metadata": {
        "id": "fef1683a-faa4-4d27-a0a6-7a742e512e9b",
        "colab": {
          "base_uri": "https://localhost:8080/"
        },
        "outputId": "81faf909-0bc1-493f-fe8c-ef4d4e248b98"
      },
      "outputs": [
        {
          "output_type": "stream",
          "name": "stdout",
          "text": [
            "Deposited ₹500. New balance: ₹1500\n",
            "Withdrew ₹200. New balance: ₹1300\n"
          ]
        }
      ],
      "source": [
        "class BankAccount:\n",
        "    def __init__(self, account_number, account_holder, balance=0):\n",
        "        self.account_number = account_number\n",
        "        self.account_holder = account_holder\n",
        "        self.balance = balance\n",
        "\n",
        "    def deposit(self, amount):\n",
        "        if amount > 0:\n",
        "            self.balance += amount\n",
        "            print(f\"Deposited ₹{amount}. New balance: ₹{self.balance}\")\n",
        "        else:\n",
        "            print(\"Invalid deposit amount.\")\n",
        "\n",
        "    def withdraw(self, amount):\n",
        "        if amount > 0 and self.balance >= amount:\n",
        "            self.balance -= amount\n",
        "            print(f\"Withdrew ₹{amount}. New balance: ₹{self.balance}\")\n",
        "        else:\n",
        "            print(\"Insufficient balance or invalid withdrawal amount.\")\n",
        "\n",
        "# Example usage:\n",
        "acc = BankAccount(\"123456\", \"John Doe\", 1000)\n",
        "acc.deposit(500)   # Deposited ₹500. New balance: ₹1500\n",
        "acc.withdraw(200)  # Withdrew ₹200. New balance: ₹1300"
      ]
    },
    {
      "cell_type": "markdown",
      "source": [
        "### Problem 2: Employee Management Create a class representing an employee with attributes like employee ID, name, and salary. Implement methods to calculate the yearly bonus and display employee details."
      ],
      "metadata": {
        "id": "Jk3kRETMeZdT"
      },
      "id": "Jk3kRETMeZdT"
    },
    {
      "cell_type": "code",
      "source": [
        "class Employee:\n",
        "    def __init__(self, employee_id, name, salary):\n",
        "        self.employee_id = employee_id\n",
        "        self.name = name\n",
        "        self.salary = salary\n",
        "\n",
        "    def calculate_yearly_bonus(self, bonus_percent=10):\n",
        "        return self.salary * (bonus_percent / 100)\n",
        "\n",
        "    def display_details(self):\n",
        "        print(f\"ID: {self.employee_id}, Name: {self.name}, Salary: ₹{self.salary}\")\n",
        "\n",
        "# Example usage:\n",
        "emp = Employee(\"E001\", \"Alice\", 50000)\n",
        "print(\"Yearly Bonus:\", emp.calculate_yearly_bonus())  # Output: 5000.0\n",
        "emp.display_details()  # Output: ID: E001, Name: Alice, Salary: ₹50000"
      ],
      "metadata": {
        "colab": {
          "base_uri": "https://localhost:8080/"
        },
        "id": "HgQdwaS2eeDb",
        "outputId": "da8a9e9e-f92a-497f-c731-2158c0bf6409"
      },
      "id": "HgQdwaS2eeDb",
      "execution_count": 2,
      "outputs": [
        {
          "output_type": "stream",
          "name": "stdout",
          "text": [
            "Yearly Bonus: 5000.0\n",
            "ID: E001, Name: Alice, Salary: ₹50000\n"
          ]
        }
      ]
    },
    {
      "cell_type": "markdown",
      "source": [
        "### Problem 3: Vehicle Rental Create a class representing a vehicle rental system. Implement methods to rent a vehicle, return a vehicle, and display available vehicles."
      ],
      "metadata": {
        "id": "oTDRERIFekqm"
      },
      "id": "oTDRERIFekqm"
    },
    {
      "cell_type": "code",
      "source": [
        "class VehicleRental:\n",
        "    def __init__(self):\n",
        "        self.available_vehicles = [\"Car\", \"Bike\", \"Scooter\"]\n",
        "        self.rented_vehicles = []\n",
        "\n",
        "    def rent_vehicle(self, vehicle):\n",
        "        if vehicle in self.available_vehicles:\n",
        "            self.available_vehicles.remove(vehicle)\n",
        "            self.rented_vehicles.append(vehicle)\n",
        "            print(f\"Rented {vehicle}.\")\n",
        "        else:\n",
        "            print(f\"{vehicle} is not available.\")\n",
        "\n",
        "    def return_vehicle(self, vehicle):\n",
        "        if vehicle in self.rented_vehicles:\n",
        "            self.rented_vehicles.remove(vehicle)\n",
        "            self.available_vehicles.append(vehicle)\n",
        "            print(f\"Returned {vehicle}.\")\n",
        "        else:\n",
        "            print(\"Invalid return.\")\n",
        "\n",
        "    def display_available(self):\n",
        "        print(\"Available vehicles:\", self.available_vehicles)\n",
        "\n",
        "# Example usage:\n",
        "rental = VehicleRental()\n",
        "rental.rent_vehicle(\"Car\")  # Rented Car.\n",
        "rental.display_available()  # Available vehicles: ['Bike', 'Scooter']"
      ],
      "metadata": {
        "colab": {
          "base_uri": "https://localhost:8080/"
        },
        "id": "FQaBWsrLeooh",
        "outputId": "a86fb1e9-cfe6-491e-cfd1-7df9009dd363"
      },
      "id": "FQaBWsrLeooh",
      "execution_count": 3,
      "outputs": [
        {
          "output_type": "stream",
          "name": "stdout",
          "text": [
            "Rented Car.\n",
            "Available vehicles: ['Bike', 'Scooter']\n"
          ]
        }
      ]
    },
    {
      "cell_type": "markdown",
      "source": [
        "### Problem 4: Library Catalog Create classes representing a library and a book. Implement methods to add books to the library, borrow books, and display available books."
      ],
      "metadata": {
        "id": "A1wos1_4etiq"
      },
      "id": "A1wos1_4etiq"
    },
    {
      "cell_type": "code",
      "source": [
        "class Book:\n",
        "    def __init__(self, title, author):\n",
        "        self.title = title\n",
        "        self.author = author\n",
        "        self.is_available = True\n",
        "\n",
        "class Library:\n",
        "    def __init__(self):\n",
        "        self.books = []\n",
        "\n",
        "    def add_book(self, title, author):\n",
        "        self.books.append(Book(title, author))\n",
        "        print(f\"Added '{title}' by {author}.\")\n",
        "\n",
        "    def borrow_book(self, title):\n",
        "        for book in self.books:\n",
        "            if book.title == title and book.is_available:\n",
        "                book.is_available = False\n",
        "                print(f\"Borrowed '{title}'.\")\n",
        "                return\n",
        "        print(f\"'{title}' is not available.\")\n",
        "\n",
        "    def display_available(self):\n",
        "        available = [book.title for book in self.books if book.is_available]\n",
        "        print(\"Available books:\", available)\n",
        "\n",
        "# Example usage:\n",
        "lib = Library()\n",
        "lib.add_book(\"Python Basics\", \"Jane Doe\")  # Added 'Python Basics' by Jane Doe.\n",
        "lib.borrow_book(\"Python Basics\")           # Borrowed 'Python Basics'.\n",
        "lib.display_available()                     # Available books: []"
      ],
      "metadata": {
        "colab": {
          "base_uri": "https://localhost:8080/"
        },
        "id": "HY6Cvm0neynb",
        "outputId": "9356cd27-902d-46b2-b877-e23e639d5612"
      },
      "id": "HY6Cvm0neynb",
      "execution_count": 4,
      "outputs": [
        {
          "output_type": "stream",
          "name": "stdout",
          "text": [
            "Added 'Python Basics' by Jane Doe.\n",
            "Borrowed 'Python Basics'.\n",
            "Available books: []\n"
          ]
        }
      ]
    },
    {
      "cell_type": "markdown",
      "source": [
        "### Problem 5: Product Inventory Create classes representing a product and an inventory system. Implement methods to add products to the inventory, update product quantity, and display available products."
      ],
      "metadata": {
        "id": "d0SSLVRSe15u"
      },
      "id": "d0SSLVRSe15u"
    },
    {
      "cell_type": "code",
      "source": [
        "class Product:\n",
        "    def __init__(self, name, price, quantity):\n",
        "        self.name = name\n",
        "        self.price = price\n",
        "        self.quantity = quantity\n",
        "\n",
        "class Inventory:\n",
        "    def __init__(self):\n",
        "        self.products = []\n",
        "\n",
        "    def add_product(self, name, price, quantity):\n",
        "        self.products.append(Product(name, price, quantity))\n",
        "        print(f\"Added {quantity} units of {name}.\")\n",
        "\n",
        "    def update_quantity(self, name, new_quantity):\n",
        "        for product in self.products:\n",
        "            if product.name == name:\n",
        "                product.quantity = new_quantity\n",
        "                print(f\"Updated {name} quantity to {new_quantity}.\")\n",
        "                return\n",
        "        print(\"Product not found.\")\n",
        "\n",
        "    def display_products(self):\n",
        "        for product in self.products:\n",
        "            print(f\"{product.name}: ₹{product.price}, Qty: {product.quantity}\")\n",
        "\n",
        "# Example usage:\n",
        "inv = Inventory()\n",
        "inv.add_product(\"Laptop\", 50000, 10)  # Added 10 units of Laptop.\n",
        "inv.update_quantity(\"Laptop\", 5)       # Updated Laptop quantity to 5.\n",
        "inv.display_products()                 # Laptop: ₹50000, Qty: 5"
      ],
      "metadata": {
        "colab": {
          "base_uri": "https://localhost:8080/"
        },
        "id": "BNEhLVowe6PP",
        "outputId": "fd3ded9a-d9d0-4451-9b4c-4f8ded7cf36b"
      },
      "id": "BNEhLVowe6PP",
      "execution_count": 5,
      "outputs": [
        {
          "output_type": "stream",
          "name": "stdout",
          "text": [
            "Added 10 units of Laptop.\n",
            "Updated Laptop quantity to 5.\n",
            "Laptop: ₹50000, Qty: 5\n"
          ]
        }
      ]
    },
    {
      "cell_type": "markdown",
      "source": [
        "### Problem 6: Shape Calculation Create a class representing a shape with attributes like length, width, and height. Implement methods to calculate the area and perimeter of the shape."
      ],
      "metadata": {
        "id": "TC9XybV4e9dw"
      },
      "id": "TC9XybV4e9dw"
    },
    {
      "cell_type": "code",
      "source": [
        "class Rectangle:\n",
        "    def __init__(self, length, width):\n",
        "        self.length = length\n",
        "        self.width = width\n",
        "\n",
        "    def area(self):\n",
        "        return self.length * self.width\n",
        "\n",
        "    def perimeter(self):\n",
        "        return 2 * (self.length + self.width)\n",
        "\n",
        "# Example usage:\n",
        "rect = Rectangle(5, 3)\n",
        "print(\"Area:\", rect.area())       # Output: 15\n",
        "print(\"Perimeter:\", rect.perimeter())  # Output: 16"
      ],
      "metadata": {
        "colab": {
          "base_uri": "https://localhost:8080/"
        },
        "id": "qEfmhqsBfP3q",
        "outputId": "95cd0735-1e10-4bef-866d-7ff665ba33c3"
      },
      "id": "qEfmhqsBfP3q",
      "execution_count": 6,
      "outputs": [
        {
          "output_type": "stream",
          "name": "stdout",
          "text": [
            "Area: 15\n",
            "Perimeter: 16\n"
          ]
        }
      ]
    },
    {
      "cell_type": "markdown",
      "source": [
        "### Problem 7: Student Management Create a class representing a student with attributes like student ID, name, and grades. Implement methods to calculate the average grade and display student details."
      ],
      "metadata": {
        "id": "GZpOu52efRjV"
      },
      "id": "GZpOu52efRjV"
    },
    {
      "cell_type": "code",
      "source": [
        "class Student:\n",
        "    def __init__(self, student_id, name):\n",
        "        self.student_id = student_id\n",
        "        self.name = name\n",
        "        self.grades = []\n",
        "\n",
        "    def add_grade(self, grade):\n",
        "        self.grades.append(grade)\n",
        "\n",
        "    def average_grade(self):\n",
        "        return sum(self.grades) / len(self.grades) if self.grades else 0\n",
        "\n",
        "    def display_details(self):\n",
        "        print(f\"ID: {self.student_id}, Name: {self.name}, Grades: {self.grades}\")\n",
        "\n",
        "# Example usage:\n",
        "s = Student(\"S001\", \"Bob\")\n",
        "s.add_grade(85)\n",
        "s.add_grade(90)\n",
        "print(\"Average Grade:\", s.average_grade())  # Output: 87.5\n",
        "s.display_details()  # ID: S001, Name: Bob, Grades: [85, 90]"
      ],
      "metadata": {
        "colab": {
          "base_uri": "https://localhost:8080/"
        },
        "id": "cph_yGGLfUGm",
        "outputId": "765f643e-2e4d-494a-90d5-3006c34894a5"
      },
      "id": "cph_yGGLfUGm",
      "execution_count": 7,
      "outputs": [
        {
          "output_type": "stream",
          "name": "stdout",
          "text": [
            "Average Grade: 87.5\n",
            "ID: S001, Name: Bob, Grades: [85, 90]\n"
          ]
        }
      ]
    },
    {
      "cell_type": "markdown",
      "source": [
        "### Problem 8: Email Management Create a class representing an email with attributes like sender, recipient, and subject. Implement methods to send an email and display email details."
      ],
      "metadata": {
        "id": "-Ht1bW8OfX4F"
      },
      "id": "-Ht1bW8OfX4F"
    },
    {
      "cell_type": "code",
      "source": [
        "class Email:\n",
        "    def __init__(self, sender, recipient, subject):\n",
        "        self.sender = sender\n",
        "        self.recipient = recipient\n",
        "        self.subject = subject\n",
        "        self.is_sent = False\n",
        "\n",
        "    def send(self):\n",
        "        self.is_sent = True\n",
        "        print(\"Email sent.\")\n",
        "\n",
        "    def display_details(self):\n",
        "        print(f\"From: {self.sender}, To: {self.recipient}, Subject: {self.subject}, Sent: {self.is_sent}\")\n",
        "\n",
        "# Example usage:\n",
        "email = Email(\"alice@example.com\", \"bob@example.com\", \"Meeting\")\n",
        "email.send()           # Email sent.\n",
        "email.display_details()  # From: alice@example.com, To: bob@example.com, Subject: Meeting, Sent: True"
      ],
      "metadata": {
        "colab": {
          "base_uri": "https://localhost:8080/"
        },
        "id": "3y4mMMS9fcdZ",
        "outputId": "789fd464-d3de-46ac-a913-1300e1ef0ff7"
      },
      "id": "3y4mMMS9fcdZ",
      "execution_count": 8,
      "outputs": [
        {
          "output_type": "stream",
          "name": "stdout",
          "text": [
            "Email sent.\n",
            "From: alice@example.com, To: bob@example.com, Subject: Meeting, Sent: True\n"
          ]
        }
      ]
    },
    {
      "cell_type": "markdown",
      "source": [
        "### Problem 9: Social Media Profile Create a class representing a social media profile with attributes like username and posts. Implement methods to add posts, display posts, and search for posts by keyword."
      ],
      "metadata": {
        "id": "DIlVxaQkfe_5"
      },
      "id": "DIlVxaQkfe_5"
    },
    {
      "cell_type": "code",
      "source": [
        "class SocialMediaProfile:\n",
        "    def __init__(self, username):\n",
        "        self.username = username\n",
        "        self.posts = []\n",
        "\n",
        "    def add_post(self, content):\n",
        "        self.posts.append(content)\n",
        "        print(\"Post added.\")\n",
        "\n",
        "    def display_posts(self):\n",
        "        print(f\"{self.username}'s posts:\")\n",
        "        for post in self.posts:\n",
        "            print(f\"- {post}\")\n",
        "\n",
        "    def search_posts(self, keyword):\n",
        "        results = [post for post in self.posts if keyword.lower() in post.lower()]\n",
        "        print(f\"Posts containing '{keyword}': {results}\")\n",
        "\n",
        "# Example usage:\n",
        "profile = SocialMediaProfile(\"user123\")\n",
        "profile.add_post(\"Hello world!\")\n",
        "profile.add_post(\"Python is fun.\")\n",
        "profile.search_posts(\"python\")  # Posts containing 'python': ['Python is fun.']"
      ],
      "metadata": {
        "colab": {
          "base_uri": "https://localhost:8080/"
        },
        "id": "FNRIyMgIfiif",
        "outputId": "ff3083db-5519-4961-e4b3-fbdc7408b1d0"
      },
      "id": "FNRIyMgIfiif",
      "execution_count": 9,
      "outputs": [
        {
          "output_type": "stream",
          "name": "stdout",
          "text": [
            "Post added.\n",
            "Post added.\n",
            "Posts containing 'python': ['Python is fun.']\n"
          ]
        }
      ]
    },
    {
      "cell_type": "markdown",
      "source": [
        "### Problem 10: ToDo List Create a class representing a ToDo list with attributes like tasks and due dates. Implement methods to add tasks, mark tasks as completed, and display pending tasks."
      ],
      "metadata": {
        "id": "I-gnjKhQfmm0"
      },
      "id": "I-gnjKhQfmm0"
    },
    {
      "cell_type": "code",
      "source": [
        "class ToDoList:\n",
        "    def __init__(self):\n",
        "        self.tasks = []\n",
        "\n",
        "    def add_task(self, task, due_date):\n",
        "        self.tasks.append({\"task\": task, \"due_date\": due_date, \"completed\": False})\n",
        "        print(f\"Added: {task} (Due: {due_date})\")\n",
        "\n",
        "    def mark_completed(self, task_name):\n",
        "        for task in self.tasks:\n",
        "            if task[\"task\"] == task_name:\n",
        "                task[\"completed\"] = True\n",
        "                print(f\"Marked '{task_name}' as completed.\")\n",
        "                return\n",
        "        print(\"Task not found.\")\n",
        "\n",
        "    def display_pending(self):\n",
        "        pending = [task[\"task\"] for task in self.tasks if not task[\"completed\"]]\n",
        "        print(\"Pending tasks:\", pending)\n",
        "\n",
        "# Example usage:\n",
        "todo = ToDoList()\n",
        "todo.add_task(\"Buy groceries\", \"2023-10-15\")\n",
        "todo.add_task(\"Finish report\", \"2023-10-20\")\n",
        "todo.mark_completed(\"Buy groceries\")  # Marked 'Buy groceries' as completed.\n",
        "todo.display_pending()                 # Pending tasks: ['Finish report']"
      ],
      "metadata": {
        "colab": {
          "base_uri": "https://localhost:8080/"
        },
        "id": "rgVCUXzOft2y",
        "outputId": "bfd493b6-e951-4240-ca3d-fded55cba7ca"
      },
      "id": "rgVCUXzOft2y",
      "execution_count": 10,
      "outputs": [
        {
          "output_type": "stream",
          "name": "stdout",
          "text": [
            "Added: Buy groceries (Due: 2023-10-15)\n",
            "Added: Finish report (Due: 2023-10-20)\n",
            "Marked 'Buy groceries' as completed.\n",
            "Pending tasks: ['Finish report']\n"
          ]
        }
      ]
    }
  ],
  "metadata": {
    "kernelspec": {
      "display_name": "Python 3 (ipykernel)",
      "language": "python",
      "name": "python3"
    },
    "language_info": {
      "codemirror_mode": {
        "name": "ipython",
        "version": 3
      },
      "file_extension": ".py",
      "mimetype": "text/x-python",
      "name": "python",
      "nbconvert_exporter": "python",
      "pygments_lexer": "ipython3",
      "version": "3.10.8"
    },
    "colab": {
      "provenance": [],
      "include_colab_link": true
    }
  },
  "nbformat": 4,
  "nbformat_minor": 5
}