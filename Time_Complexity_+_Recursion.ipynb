{
  "nbformat": 4,
  "nbformat_minor": 0,
  "metadata": {
    "colab": {
      "provenance": [],
      "authorship_tag": "ABX9TyNCoSsxZcVOspSG6S2p4MZ+",
      "include_colab_link": true
    },
    "kernelspec": {
      "name": "python3",
      "display_name": "Python 3"
    },
    "language_info": {
      "name": "python"
    }
  },
  "cells": [
    {
      "cell_type": "markdown",
      "metadata": {
        "id": "view-in-github",
        "colab_type": "text"
      },
      "source": [
        "<a href=\"https://colab.research.google.com/github/Shivam4988/Assignment/blob/main/Time_Complexity_%2B_Recursion.ipynb\" target=\"_parent\"><img src=\"https://colab.research.google.com/assets/colab-badge.svg\" alt=\"Open In Colab\"/></a>"
      ]
    },
    {
      "cell_type": "markdown",
      "source": [
        "### Problem 1: Time Complexity of Quicksort\n",
        "The average-case time complexity is O(n log n) and the worst-case time complexity is O(n²)."
      ],
      "metadata": {
        "id": "2ebV6cM8wKLY"
      }
    },
    {
      "cell_type": "markdown",
      "source": [
        "### Problem 2: Time Complexity of Nested Loop\n",
        "Time complexity is O(rows × cols) or O(n²) for a square matrix."
      ],
      "metadata": {
        "id": "LHpon5pkwRn5"
      }
    },
    {
      "cell_type": "markdown",
      "source": [
        "### Problem 3: Time Complexity of Summing Array\n",
        "Time complexity is O(n), where n is the length of the array."
      ],
      "metadata": {
        "id": "sbisOouUwU9Q"
      }
    },
    {
      "cell_type": "markdown",
      "source": [
        "### Problem 4: Time Complexity of Longest Increasing Subsequence\n",
        "Time complexity is O(n²) due to nested loops over the list."
      ],
      "metadata": {
        "id": "oOyvA7ocwYP_"
      }
    },
    {
      "cell_type": "markdown",
      "source": [
        "### Problem 5: Time Complexity of Mysterious Function\n",
        "Time complexity is O(n²) because of nested loops summing pairs of indices."
      ],
      "metadata": {
        "id": "y0tAlkIxwa77"
      }
    },
    {
      "cell_type": "markdown",
      "source": [
        "### Problem 6 : Sum of Digits\n",
        "Write a recursive function to calculate the sum of digits of a given positive integer.\n",
        "\n",
        "sum_of_digits(123) -> 6"
      ],
      "metadata": {
        "id": "RuwyW2rTwerG"
      }
    },
    {
      "cell_type": "code",
      "execution_count": 3,
      "metadata": {
        "id": "yumeIA3OwAxJ"
      },
      "outputs": [],
      "source": [
        "def sum_of_digits(n):\n",
        "    if n == 0:\n",
        "        return 0\n",
        "    return n % 10 + sum_of_digits(n // 10)"
      ]
    },
    {
      "cell_type": "markdown",
      "source": [
        "### Problem 7: Fibonacci Series\n",
        "Write a recursive function to generate the first n numbers of the Fibonacci series.\n",
        "\n",
        "fibonacci_series(6) -> [0, 1, 1, 2, 3, 5]"
      ],
      "metadata": {
        "id": "Z4Y-_6xSxLpl"
      }
    },
    {
      "cell_type": "code",
      "source": [
        "def fibonacci_series(n):\n",
        "    if n == 0:\n",
        "        return []\n",
        "    elif n == 1:\n",
        "        return [0]\n",
        "    elif n == 2:\n",
        "        return [0, 1]\n",
        "    prev = fibonacci_series(n - 1)\n",
        "    prev.append(prev[-1] + prev[-2])\n",
        "    return prev"
      ],
      "metadata": {
        "id": "Jrfx-KerxPyt"
      },
      "execution_count": 4,
      "outputs": []
    },
    {
      "cell_type": "markdown",
      "source": [
        "### Problem 8 : Subset Sum\n",
        "Given a set of positive integers and a target sum, write a recursive function to determine if there exists a subset\n",
        "of the integers that adds up to the target sum.\n",
        "\n",
        "subset_sum([3, 34, 4, 12, 5, 2], 9) -> True"
      ],
      "metadata": {
        "id": "qtuaTR9UxTP0"
      }
    },
    {
      "cell_type": "code",
      "source": [
        "def subset_sum(nums, target):\n",
        "    if target == 0:\n",
        "        return True\n",
        "    if not nums or target < 0:\n",
        "        return False\n",
        "    return subset_sum(nums[1:], target - nums[0]) or subset_sum(nums[1:], target)"
      ],
      "metadata": {
        "id": "zqqmbsBcxdrT"
      },
      "execution_count": 5,
      "outputs": []
    },
    {
      "cell_type": "markdown",
      "source": [
        "### Problem 9: Word Break\n",
        "Given a non-empty string and a dictionary of words, write a recursive function to determine if the string can be\n",
        "segmented into a space-separated sequence of dictionary words.\n",
        "\n",
        "word_break( leetcode , [ leet , code ]) -> True"
      ],
      "metadata": {
        "id": "JxLctFFQxlk9"
      }
    },
    {
      "cell_type": "code",
      "source": [
        "def word_break(s, word_dict):\n",
        "    if not s:\n",
        "        return True\n",
        "    for i in range(1, len(s) + 1):\n",
        "        prefix = s[:i]\n",
        "        if prefix in word_dict and word_break(s[i:], word_dict):\n",
        "            return True\n",
        "    return False"
      ],
      "metadata": {
        "id": "U7RzaVxjxdn2"
      },
      "execution_count": 6,
      "outputs": []
    },
    {
      "cell_type": "markdown",
      "source": [
        "### Problem 10 : N-Queens\n",
        "Implement a recursive function to solve the N Queens problem, where you have to place N queens on an N×N\n",
        "chessboard in such a way that no two queens threaten each other.\n",
        "\n",
        "n_queens(4)\n",
        "\n",
        "[\n",
        "  \n",
        "[\".Q..\",\n",
        "\n",
        "\"...Q\",\n",
        "\n",
        "\"Q...\",\n",
        "\n",
        "\"..Q.\"],\n",
        "\n",
        "[\"..Q.\",\n",
        "\n",
        "\"Q...\",\n",
        "\n",
        "\"...Q\",\n",
        "\n",
        "\".Q..\"]\n",
        "\n",
        "]"
      ],
      "metadata": {
        "id": "7TzFr0AQxtUe"
      }
    },
    {
      "cell_type": "code",
      "source": [
        "def n_queens(n):\n",
        "    result = []\n",
        "    def is_safe(positions, col):\n",
        "        row = len(positions)\n",
        "        for r, c in enumerate(positions):\n",
        "            if c == col or abs(row - r) == abs(col - c):\n",
        "                return False\n",
        "        return True\n",
        "\n",
        "    def backtrack(positions):\n",
        "        if len(positions) == n:\n",
        "            board = []\n",
        "            for col in positions:\n",
        "                row = ['.'] * n\n",
        "                row[col] = 'Q'\n",
        "                board.append(''.join(row))\n",
        "            result.append(board)\n",
        "            return\n",
        "        for col in range(n):\n",
        "            if is_safe(positions, col):\n",
        "                backtrack(positions + [col])\n",
        "\n",
        "    backtrack([])\n",
        "    return result"
      ],
      "metadata": {
        "id": "sGNqOIgIx_38"
      },
      "execution_count": 7,
      "outputs": []
    },
    {
      "cell_type": "code",
      "source": [],
      "metadata": {
        "id": "khDSOdQ6yENl"
      },
      "execution_count": null,
      "outputs": []
    }
  ]
}