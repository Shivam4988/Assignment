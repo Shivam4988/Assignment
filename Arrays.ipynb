{
  "nbformat": 4,
  "nbformat_minor": 0,
  "metadata": {
    "colab": {
      "provenance": [],
      "authorship_tag": "ABX9TyNnEi7LaPdq9zFFuiRCWhi2",
      "include_colab_link": true
    },
    "kernelspec": {
      "name": "python3",
      "display_name": "Python 3"
    },
    "language_info": {
      "name": "python"
    }
  },
  "cells": [
    {
      "cell_type": "markdown",
      "metadata": {
        "id": "view-in-github",
        "colab_type": "text"
      },
      "source": [
        "<a href=\"https://colab.research.google.com/github/Shivam4988/Assignment/blob/main/Arrays.ipynb\" target=\"_parent\"><img src=\"https://colab.research.google.com/assets/colab-badge.svg\" alt=\"Open In Colab\"/></a>"
      ]
    },
    {
      "cell_type": "markdown",
      "source": [
        "**1. Given an array, check if it contains any duplicates or not.**\n",
        "**arr = [1, 2, 4, 2, 5, 9] Output = True **"
      ],
      "metadata": {
        "id": "9DHTBbDKin5D"
      }
    },
    {
      "cell_type": "code",
      "execution_count": 1,
      "metadata": {
        "colab": {
          "base_uri": "https://localhost:8080/"
        },
        "id": "tMyIFfWFiPXZ",
        "outputId": "bed1ee22-46b6-46e8-dd7d-84c6f2497aa0"
      },
      "outputs": [
        {
          "output_type": "stream",
          "name": "stdout",
          "text": [
            "Output: True\n"
          ]
        }
      ],
      "source": [
        "def has_duplicates(arr):\n",
        "    seen = set()\n",
        "    for num in arr:\n",
        "        if num in seen:\n",
        "            return True\n",
        "        seen.add(num)\n",
        "    return False\n",
        "\n",
        "arr = [1, 2, 4, 2, 5, 9]\n",
        "print(\"Output:\", has_duplicates(arr))  # Output: True"
      ]
    },
    {
      "cell_type": "markdown",
      "source": [
        "Explanation:\n",
        "A set tracks seen elements. If an element reappears, duplicates exist. Time Complexity: O(n), Space Complexity: O(n)."
      ],
      "metadata": {
        "id": "UkvXO4jdjLDA"
      }
    },
    {
      "cell_type": "markdown",
      "source": [
        "**2. Given an array and an integer k, rotate the array to the right by k steps.**\n",
        "**arr = [1, 2, 3, 4, 5, 6, 7] k = 3**\n",
        "**Output = [5, 6, 7, 1, 2, 3, 4]**"
      ],
      "metadata": {
        "id": "ffxHwzEsi-gT"
      }
    },
    {
      "cell_type": "code",
      "source": [
        "def rotate_array(arr, k):\n",
        "    n = len(arr)\n",
        "    k = k % n  # Handles cases where k > n\n",
        "    return arr[-k:] + arr[:-k]\n",
        "\n",
        "arr = [1, 2, 3, 4, 5, 6, 7]\n",
        "k = 3\n",
        "print(\"Output:\", rotate_array(arr, k))  # Output: [5, 6, 7, 1, 2, 3, 4]"
      ],
      "metadata": {
        "colab": {
          "base_uri": "https://localhost:8080/"
        },
        "id": "cFqSV-yki-7c",
        "outputId": "a583014b-2dbc-402a-9732-3e6f2ea63536"
      },
      "execution_count": 2,
      "outputs": [
        {
          "output_type": "stream",
          "name": "stdout",
          "text": [
            "Output: [5, 6, 7, 1, 2, 3, 4]\n"
          ]
        }
      ]
    },
    {
      "cell_type": "markdown",
      "source": [
        "Slicing the array into two parts (last k elements and remaining elements) achieves rotation. Time Complexity: O(n)."
      ],
      "metadata": {
        "id": "8FCeuwt3jOG5"
      }
    },
    {
      "cell_type": "markdown",
      "source": [
        "**3. Reverse the given array in-place, means without using any extra data structure.**\n",
        "**arr = [2, 4, 5, 7, 9, 12]**\n",
        "**Output = [12, 9, 7, 5, 4, 2]**"
      ],
      "metadata": {
        "id": "jdJ5cM7ljrmS"
      }
    },
    {
      "cell_type": "code",
      "source": [
        "def reverse_array_in_place(arr):\n",
        "    left, right = 0, len(arr) - 1\n",
        "    while left < right:\n",
        "        arr[left], arr[right] = arr[right], arr[left]\n",
        "        left += 1\n",
        "        right -= 1\n",
        "    return arr\n",
        "\n",
        "arr = [2, 4, 5, 7, 9, 12]\n",
        "reverse_array_in_place(arr)\n",
        "print(\"Output:\", arr)  # Output: [12, 9, 7, 5, 4, 2]"
      ],
      "metadata": {
        "colab": {
          "base_uri": "https://localhost:8080/"
        },
        "id": "9E31iS9Wj2FP",
        "outputId": "98098cc2-cba1-46db-d082-9ce25acbc659"
      },
      "execution_count": 3,
      "outputs": [
        {
          "output_type": "stream",
          "name": "stdout",
          "text": [
            "Output: [12, 9, 7, 5, 4, 2]\n"
          ]
        }
      ]
    },
    {
      "cell_type": "markdown",
      "source": [
        "Two pointers (left and right) swap elements from ends toward the center. Space Complexity: O(1)."
      ],
      "metadata": {
        "id": "g4u8b5LSjxTg"
      }
    },
    {
      "cell_type": "markdown",
      "source": [
        "**4. Given an array of integers, find the maximum element in an array**\n",
        "**arr = [10, 5, 20, 8, 15]**\n",
        "**Output = 20**"
      ],
      "metadata": {
        "id": "84ZS0e17j6CI"
      }
    },
    {
      "cell_type": "code",
      "source": [
        "def find_max(arr):\n",
        "    if not arr:\n",
        "        return None\n",
        "    max_val = arr[0]\n",
        "    for num in arr:\n",
        "        if num > max_val:\n",
        "            max_val = num\n",
        "    return max_val\n",
        "\n",
        "arr = [10, 5, 20, 8, 15]\n",
        "print(\"Output:\", find_max(arr))  # Output: 20"
      ],
      "metadata": {
        "colab": {
          "base_uri": "https://localhost:8080/"
        },
        "id": "nixgQNE8j_t4",
        "outputId": "bd43c55d-734a-45ca-b9ad-8504b53dea12"
      },
      "execution_count": 4,
      "outputs": [
        {
          "output_type": "stream",
          "name": "stdout",
          "text": [
            "Output: 20\n"
          ]
        }
      ]
    },
    {
      "cell_type": "markdown",
      "source": [
        "Iterate through the array while tracking the current maximum. Time Complexity: O(n)."
      ],
      "metadata": {
        "id": "DG9V0EzCkC53"
      }
    },
    {
      "cell_type": "markdown",
      "source": [
        "**5. Given a sorted array, remove the duplicate element without using any extra data structure.**\n",
        "**arr = [1, 1, 2, 2, 2, 3, 3, 4, 4, 4, 5, 5]**\n",
        "**Output = [1, 2, 3, 4, 5]**"
      ],
      "metadata": {
        "id": "LSkY1yGAkFS4"
      }
    },
    {
      "cell_type": "code",
      "source": [
        "def remove_duplicates_sorted(arr):\n",
        "    if not arr:\n",
        "        return 0\n",
        "    slow = 0\n",
        "    for fast in range(1, len(arr)):\n",
        "        if arr[fast] != arr[slow]:\n",
        "            slow += 1\n",
        "            arr[slow] = arr[fast]\n",
        "    return arr[:slow + 1]\n",
        "\n",
        "arr = [1, 1, 2, 2, 2, 3, 3, 4, 4, 4, 5, 5]\n",
        "print(\"Output:\", remove_duplicates_sorted(arr))  # Output: [1, 2, 3, 4, 5]"
      ],
      "metadata": {
        "colab": {
          "base_uri": "https://localhost:8080/"
        },
        "id": "OYpjY9YekRu1",
        "outputId": "941306e7-0887-469d-bbb3-a53d258874f3"
      },
      "execution_count": 5,
      "outputs": [
        {
          "output_type": "stream",
          "name": "stdout",
          "text": [
            "Output: [1, 2, 3, 4, 5]\n"
          ]
        }
      ]
    },
    {
      "cell_type": "markdown",
      "source": [
        "Two pointers: slow tracks the last unique element, and fast scans for new unique elements. Space Complexity: O(1)."
      ],
      "metadata": {
        "id": "s5ulPI4MkWjT"
      }
    },
    {
      "cell_type": "markdown",
      "source": [],
      "metadata": {
        "id": "3y7cAqxukZjv"
      }
    }
  ]
}