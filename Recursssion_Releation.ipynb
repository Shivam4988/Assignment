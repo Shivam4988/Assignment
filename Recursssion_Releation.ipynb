{
  "nbformat": 4,
  "nbformat_minor": 0,
  "metadata": {
    "colab": {
      "provenance": [],
      "authorship_tag": "ABX9TyPd6mODjlKDv/aFHPoC2UUI",
      "include_colab_link": true
    },
    "kernelspec": {
      "name": "python3",
      "display_name": "Python 3"
    },
    "language_info": {
      "name": "python"
    }
  },
  "cells": [
    {
      "cell_type": "markdown",
      "metadata": {
        "id": "view-in-github",
        "colab_type": "text"
      },
      "source": [
        "<a href=\"https://colab.research.google.com/github/Shivam4988/Assignment/blob/main/Recursssion_Releation.ipynb\" target=\"_parent\"><img src=\"https://colab.research.google.com/assets/colab-badge.svg\" alt=\"Open In Colab\"/></a>"
      ]
    },
    {
      "cell_type": "markdown",
      "source": [
        "### 1. Find the value of T(2) for the recurrence relation T(n) = 3T(n-1) + 12n, given that T(0)=5."
      ],
      "metadata": {
        "id": "8RwtBsskqpbb"
      }
    },
    {
      "cell_type": "markdown",
      "source": [
        "Given:\n",
        "\n",
        "T\n",
        "(\n",
        "n\n",
        ")\n",
        "=\n",
        "3\n",
        "T\n",
        "(\n",
        "n\n",
        "−\n",
        "1\n",
        ")\n",
        "+\n",
        "12\n",
        "n\n",
        ",\n",
        "T\n",
        "(\n",
        "0\n",
        ")\n",
        "=\n",
        "5\n",
        "T(n)=3T(n−1)+12n,T(0)=5\n",
        "\n",
        "\n",
        "Step-by-Step Calculation:\n",
        "\n",
        "T\n",
        "(\n",
        "1\n",
        ")\n",
        "=\n",
        "3\n",
        "T\n",
        "(\n",
        "0\n",
        ")\n",
        "+\n",
        "12\n",
        "×\n",
        "1\n",
        "=\n",
        "3\n",
        "×\n",
        "5\n",
        "+\n",
        "12\n",
        "=\n",
        "27\n",
        "T(1)=3T(0)+12×1=3×5+12=27\n",
        "\n",
        "T\n",
        "(\n",
        "2\n",
        ")\n",
        "=\n",
        "3\n",
        "T\n",
        "(\n",
        "1\n",
        ")\n",
        "+\n",
        "12\n",
        "×\n",
        "2\n",
        "=\n",
        "3\n",
        "×\n",
        "27\n",
        "+\n",
        "24\n",
        "=\n",
        "105\n",
        "T(2)=3T(1)+12×2=3×27+24=105"
      ],
      "metadata": {
        "id": "gTDf0Dmaq2Xk"
      }
    },
    {
      "cell_type": "code",
      "execution_count": 1,
      "metadata": {
        "colab": {
          "base_uri": "https://localhost:8080/"
        },
        "id": "jbg4hZWPqn3r",
        "outputId": "556bc32e-4b74-45ef-e45e-99db0fc4c185"
      },
      "outputs": [
        {
          "output_type": "stream",
          "name": "stdout",
          "text": [
            "T(2) = 105\n"
          ]
        }
      ],
      "source": [
        "def compute_T(n):\n",
        "    T = [0] * (n + 1)\n",
        "    T[0] = 5  # Base case\n",
        "    for i in range(1, n + 1):\n",
        "        T[i] = 3 * T[i-1] + 12 * i\n",
        "    return T[n]\n",
        "\n",
        "print(f\"T(2) = {compute_T(2)}\")  # Output: T(2) = 105"
      ]
    },
    {
      "cell_type": "markdown",
      "source": [
        "### 2. Given a recurrence relation, solve it using the substitution method:\n"
      ],
      "metadata": {
        "id": "hv8YjhLYq7La"
      }
    },
    {
      "cell_type": "markdown",
      "source": [
        "**a. T(n) = T(n-1) + c**\n",
        "\n",
        "\n",
        "\n",
        "Unrolling:\n",
        "T\n",
        "(\n",
        "n\n",
        ")\n",
        "=\n",
        "T\n",
        "(\n",
        "0\n",
        ")\n",
        "+\n",
        "c\n",
        "×\n",
        "n\n",
        "T(n)=T(0)+c×n\n",
        "\n",
        "Time Complexity:\n",
        "Θ\n",
        "(\n",
        "n\n",
        ")\n",
        "Θ(n)"
      ],
      "metadata": {
        "id": "PmvirL-mrPdJ"
      }
    },
    {
      "cell_type": "code",
      "source": [
        "def T_a(n, c=2, base=0):\n",
        "    if n == base:\n",
        "        return 0\n",
        "    return T_a(n-1, c) + c\n",
        "\n",
        "print(\"T(5):\", T_a(5))  # Output: 10 (Linear growth)"
      ],
      "metadata": {
        "colab": {
          "base_uri": "https://localhost:8080/"
        },
        "id": "YusxhzJ4ra-z",
        "outputId": "9869691a-a5c5-4700-a942-8071a88ea806"
      },
      "execution_count": 2,
      "outputs": [
        {
          "output_type": "stream",
          "name": "stdout",
          "text": [
            "T(5): 10\n"
          ]
        }
      ]
    },
    {
      "cell_type": "markdown",
      "source": [
        "**b. T(n) = 2T(n/2) + n**\n",
        "\n",
        "\n",
        "\n",
        "Assume\n",
        "T\n",
        "(\n",
        "n\n",
        ")\n",
        "=\n",
        "n\n",
        "log\n",
        "⁡\n",
        "n\n",
        "\n",
        "T(n)=nlogn:\n",
        "T\n",
        "(\n",
        "n\n",
        ")\n",
        "=\n",
        "2\n",
        "(\n",
        "n\n",
        "/\n",
        "2\n",
        "log\n",
        "⁡\n",
        "(\n",
        "n\n",
        "/\n",
        "2\n",
        ")\n",
        ")\n",
        "+\n",
        "n\n",
        "=\n",
        "n\n",
        "log\n",
        "⁡\n",
        "n\n",
        "T(n)=2(n/2log(n/2))+n=nlogn\n",
        "\n",
        "Time Complexity:\n",
        "Θ\n",
        "(\n",
        "n\n",
        "log\n",
        "⁡\n",
        "n\n",
        ")\n",
        "Θ(nlogn)"
      ],
      "metadata": {
        "id": "_sgEefUYrm2x"
      }
    },
    {
      "cell_type": "code",
      "source": [
        "import math\n",
        "def T_b(n):\n",
        "    if n <= 1:\n",
        "        return 0\n",
        "    return 2 * T_b(n // 2) + n\n",
        "\n",
        "n = 8\n",
        "print(f\"T(8): {T_b(8)}\")  # Output: 24 = 8 log₂8"
      ],
      "metadata": {
        "colab": {
          "base_uri": "https://localhost:8080/"
        },
        "id": "7z8dZzExrwWu",
        "outputId": "b46db24a-aa75-4692-b201-eb2720ad01bb"
      },
      "execution_count": 3,
      "outputs": [
        {
          "output_type": "stream",
          "name": "stdout",
          "text": [
            "T(8): 24\n"
          ]
        }
      ]
    },
    {
      "cell_type": "markdown",
      "source": [
        "**c. T(n) = 2T(n/2) + c**\n",
        "\n",
        "\n",
        "Assume\n",
        "T\n",
        "(\n",
        "n\n",
        ")\n",
        "=\n",
        "k\n",
        "n\n",
        "−\n",
        "d\n",
        "T(n)=kn−d:\n",
        "\n",
        "k\n",
        "n\n",
        "−\n",
        "d\n",
        "=\n",
        "2\n",
        "(\n",
        "k\n",
        "(\n",
        "n\n",
        "/\n",
        "2\n",
        ")\n",
        "−\n",
        "d\n",
        ")\n",
        "+\n",
        "c\n",
        "\n",
        "⟹\n",
        "\n",
        "d\n",
        "=\n",
        "c\n",
        "kn−d=2(k(n/2)−d)+c⟹d=c\n",
        "\n",
        "Time Complexity:\n",
        "Θ\n",
        "(\n",
        "n\n",
        ")\n",
        "Θ(n)"
      ],
      "metadata": {
        "id": "lQJjKeX6sUqM"
      }
    },
    {
      "cell_type": "code",
      "source": [
        "def T_c(n, c=3):\n",
        "    if n == 1:\n",
        "        return 0\n",
        "    return 2 * T_c(n // 2, c) + c\n",
        "\n",
        "print(f\"T(8): {T_c(8)}\")  # Output: 21 ≈ 3n"
      ],
      "metadata": {
        "colab": {
          "base_uri": "https://localhost:8080/"
        },
        "id": "jwh_tr6Nsj-_",
        "outputId": "b9d10326-ae0d-459f-8658-2cbb7f1bfb3c"
      },
      "execution_count": 4,
      "outputs": [
        {
          "output_type": "stream",
          "name": "stdout",
          "text": [
            "T(8): 21\n"
          ]
        }
      ]
    },
    {
      "cell_type": "markdown",
      "source": [
        "**d. T(n) = T(n/2) + c**\n",
        "\n",
        "After\n",
        "log\n",
        "⁡\n",
        "2\n",
        "n\n",
        "log\n",
        "2\n",
        "​\n",
        " n steps:\n",
        "T\n",
        "(\n",
        "n\n",
        ")\n",
        "=\n",
        "T\n",
        "(\n",
        "1\n",
        ")\n",
        "+\n",
        "c\n",
        " log\n",
        "⁡\n",
        "n\n",
        "T(n)=T(1)+clogn\n",
        "\n",
        "Time Complexity:\n",
        "Θ\n",
        "(\n",
        "log\n",
        "⁡\n",
        "n\n",
        ")\n",
        "Θ(logn)"
      ],
      "metadata": {
        "id": "Sg8_R6H3sZA4"
      }
    },
    {
      "cell_type": "code",
      "source": [
        "def T_d(n, c=2):\n",
        "    if n <= 1:\n",
        "        return 0\n",
        "    return T_d(n // 2, c) + c\n",
        "\n",
        "print(f\"T(8): {T_d(8)}\")  # Output: 6 = 2 log₂8"
      ],
      "metadata": {
        "colab": {
          "base_uri": "https://localhost:8080/"
        },
        "id": "cJ3-fdn8s4iV",
        "outputId": "95e2bd02-85fc-4c2a-ca5a-de9667c3553b"
      },
      "execution_count": 5,
      "outputs": [
        {
          "output_type": "stream",
          "name": "stdout",
          "text": [
            "T(8): 6\n"
          ]
        }
      ]
    },
    {
      "cell_type": "markdown",
      "source": [
        "### 3. Given a recurrence relation, solve it using the recursive tree approach:"
      ],
      "metadata": {
        "id": "PIeq2FEEs7zf"
      }
    },
    {
      "cell_type": "markdown",
      "source": [
        "**a. T(n) = 2T(n-1) +1**"
      ],
      "metadata": {
        "id": "w_jITPPes-z3"
      }
    },
    {
      "cell_type": "code",
      "source": [
        "def T_a(n):\n",
        "    if n == 0:\n",
        "        return 1  # Base case T(0) = 1\n",
        "    return 2 * T_a(n-1) + 1\n",
        "\n",
        "print(f\"T(3): {T_a(3)}\")  # Output: 15 = 2⁴ - 1"
      ],
      "metadata": {
        "colab": {
          "base_uri": "https://localhost:8080/"
        },
        "id": "lr8Bdo7AtHpZ",
        "outputId": "fdebf317-7855-4da1-c8ac-d86a290ee04f"
      },
      "execution_count": 6,
      "outputs": [
        {
          "output_type": "stream",
          "name": "stdout",
          "text": [
            "T(3): 15\n"
          ]
        }
      ]
    },
    {
      "cell_type": "markdown",
      "source": [
        "**b. T(n) = 2T(n/2) + n**"
      ],
      "metadata": {
        "id": "iIfrd2_ftEGE"
      }
    },
    {
      "cell_type": "code",
      "source": [
        "import math\n",
        "def T_b(n):\n",
        "    if n <= 1:\n",
        "        return 0\n",
        "    return 2 * T_b(n // 2) + n\n",
        "\n",
        "n = 8\n",
        "\n",
        "print(f\"T(16): {T_b(16)}\")  # Output: 64 = 16 log₂16"
      ],
      "metadata": {
        "colab": {
          "base_uri": "https://localhost:8080/"
        },
        "id": "MdAm3HhztNKG",
        "outputId": "0d587306-60b5-4674-abcc-d7c32b3a6658"
      },
      "execution_count": 8,
      "outputs": [
        {
          "output_type": "stream",
          "name": "stdout",
          "text": [
            "T(16): 64\n"
          ]
        }
      ]
    },
    {
      "cell_type": "code",
      "source": [],
      "metadata": {
        "id": "IbPGlkYytbt0"
      },
      "execution_count": null,
      "outputs": []
    }
  ]
}