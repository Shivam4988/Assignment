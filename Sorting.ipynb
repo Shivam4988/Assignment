{
  "nbformat": 4,
  "nbformat_minor": 0,
  "metadata": {
    "colab": {
      "provenance": [],
      "authorship_tag": "ABX9TyP+UK+vyxbkbNfxN0vrdH8N",
      "include_colab_link": true
    },
    "kernelspec": {
      "name": "python3",
      "display_name": "Python 3"
    },
    "language_info": {
      "name": "python"
    }
  },
  "cells": [
    {
      "cell_type": "markdown",
      "metadata": {
        "id": "view-in-github",
        "colab_type": "text"
      },
      "source": [
        "<a href=\"https://colab.research.google.com/github/Shivam4988/Assignment/blob/main/Sorting.ipynb\" target=\"_parent\"><img src=\"https://colab.research.google.com/assets/colab-badge.svg\" alt=\"Open In Colab\"/></a>"
      ]
    },
    {
      "cell_type": "markdown",
      "source": [
        "### Problem 1.Given an array of n numbers, give an algorithm which gives the element appearing maximum number of times?\n",
        "\n",
        "Approach: Use a hash map to count frequencies and track the element with the highest count."
      ],
      "metadata": {
        "id": "-plgFuGbIATb"
      }
    },
    {
      "cell_type": "code",
      "execution_count": 1,
      "metadata": {
        "id": "DXYUpIURFRm_"
      },
      "outputs": [],
      "source": [
        "def find_max_frequency(arr):\n",
        "    freq = {}\n",
        "    max_element = None\n",
        "    max_count = 0\n",
        "    for num in arr:\n",
        "        freq[num] = freq.get(num, 0) + 1\n",
        "        if freq[num] > max_count:\n",
        "            max_count = freq[num]\n",
        "            max_element = num\n",
        "    return max_element"
      ]
    },
    {
      "cell_type": "markdown",
      "source": [
        "### Problem 2 : We are given a list of n-1 integers and these integers are in the range of 1 to n . There are no duplicates in the list. One of the integers is missing in the list. Give an algorithm to find that element Ex: [1,2,4,6,3,7,8] 5 is the missing num.\n",
        "\n",
        "Approach: Calculate the sum of first n natural numbers and subtract the array sum."
      ],
      "metadata": {
        "id": "-lwvvqhgIS_l"
      }
    },
    {
      "cell_type": "code",
      "source": [
        "def find_missing_number(arr):\n",
        "    n = len(arr) + 1\n",
        "    total = n * (n + 1) // 2\n",
        "    return total - sum(arr)"
      ],
      "metadata": {
        "id": "ygaiQWBZIcsK"
      },
      "execution_count": 2,
      "outputs": []
    },
    {
      "cell_type": "markdown",
      "source": [
        "### Problem 3 : Given an array of n positive numbers. All numbers occurs even number of times except 1 which occurs odd number of times. Find that number in O(n) time and O(1) space. Ex: [1,2,3,2,3,1,3]. 3 is repeats odd times.\n",
        "\n",
        "\n",
        "Approach: XOR all elements to cancel even occurrences."
      ],
      "metadata": {
        "id": "ird-3fbWIlIX"
      }
    },
    {
      "cell_type": "code",
      "source": [
        "def find_odd_occurrence(arr):\n",
        "    result = 0\n",
        "    for num in arr:\n",
        "        result ^= num\n",
        "    return result"
      ],
      "metadata": {
        "id": "6hFhUBPIIvKO"
      },
      "execution_count": 3,
      "outputs": []
    },
    {
      "cell_type": "markdown",
      "source": [
        "### Problem 4 : Given an array of n elements. Find two elements in the array such that their sum is equal to given element K.\n",
        "\n",
        "Approach: Use a hash set to track seen elements and check for K - num."
      ],
      "metadata": {
        "id": "WQdjUonOIyKC"
      }
    },
    {
      "cell_type": "code",
      "source": [
        "def find_pair_sum(arr, K):\n",
        "    seen = set()\n",
        "    for num in arr:\n",
        "        if K - num in seen:\n",
        "            return (num, K - num)\n",
        "        seen.add(num)\n",
        "    return None"
      ],
      "metadata": {
        "id": "coVlT_8gI6Wf"
      },
      "execution_count": 4,
      "outputs": []
    },
    {
      "cell_type": "markdown",
      "source": [
        "### Problem 5 : Given an array of both positive and negative numbers, find two numbers such that their sum is closest to 0. Ex: [ 1 ,60 ,-10, 70, -80,85]. Ans : -80,85.\n",
        "\n",
        "Approach: Sort the array and use two pointers to find the minimal absolute sum."
      ],
      "metadata": {
        "id": "q8eG7DUxLeMQ"
      }
    },
    {
      "cell_type": "code",
      "source": [
        "def closest_to_zero(arr):\n",
        "    arr.sort()\n",
        "    left, right = 0, len(arr) - 1\n",
        "    min_sum = float('inf')\n",
        "    result = (None, None)\n",
        "    while left < right:\n",
        "        current_sum = arr[left] + arr[right]\n",
        "        if abs(current_sum) < abs(min_sum):\n",
        "            min_sum = current_sum\n",
        "            result = (arr[left], arr[right])\n",
        "        if current_sum < 0:\n",
        "            left += 1\n",
        "        else:\n",
        "            right -= 1\n",
        "    return result\n"
      ],
      "metadata": {
        "id": "uyj9mzAILj7Y"
      },
      "execution_count": 7,
      "outputs": []
    },
    {
      "cell_type": "markdown",
      "source": [
        "### Problem 6 : Given an array of n elements . Find three elements such that their sum is equal to the given number.\n",
        "\n",
        "\n",
        "Approach: Sort the array and use nested two-pointer checks."
      ],
      "metadata": {
        "id": "l0C1p9eQL6BK"
      }
    },
    {
      "cell_type": "code",
      "source": [
        "def three_sum(arr, target):\n",
        "    arr.sort()\n",
        "    n = len(arr)\n",
        "    for i in range(n - 2):\n",
        "        left, right = i + 1, n - 1\n",
        "        while left < right:\n",
        "            current = arr[i] + arr[left] + arr[right]\n",
        "            if current == target:\n",
        "                return (arr[i], arr[left], arr[right])\n",
        "            elif current < target:\n",
        "                left += 1\n",
        "            else:\n",
        "                right -= 1\n",
        "    return None"
      ],
      "metadata": {
        "id": "c0nuV6_UMFsi"
      },
      "execution_count": 8,
      "outputs": []
    },
    {
      "cell_type": "markdown",
      "source": [
        "### Problem 7 : Given an array of n elements . Find three elements i, j, k in the array such that  i * i + j * j = k*k.\n",
        "\n",
        "Approach: Square elements, check pairs for sum in a set."
      ],
      "metadata": {
        "id": "7rDOEv7hMI3X"
      }
    },
    {
      "cell_type": "code",
      "source": [
        "def find_pythagorean_triplet(arr):\n",
        "    squares = {num * num for num in arr}\n",
        "    for i in range(len(arr)):\n",
        "        for j in range(i + 1, len(arr)):\n",
        "            sum_sq = (arr[i] ** 2) + (arr[j] ** 2)\n",
        "            if sum_sq in squares:\n",
        "                return (arr[i], arr[j], int(sum_sq ** 0.5))\n",
        "    return None"
      ],
      "metadata": {
        "id": "aF3dtFxDMaup"
      },
      "execution_count": 9,
      "outputs": []
    },
    {
      "cell_type": "markdown",
      "source": [
        "### Problem 8 : An element is a majority if it appears more than n/2 times. Give an algorithm takes an array of n element as argument and identifies a majority (if it exists).\n",
        "\n",
        "Approach: Boyer-Moore Voting Algorithm."
      ],
      "metadata": {
        "id": "YvZ52A76MdLL"
      }
    },
    {
      "cell_type": "code",
      "source": [
        "def majority_element(arr):\n",
        "    candidate = None\n",
        "    count = 0\n",
        "    for num in arr:\n",
        "        if count == 0:\n",
        "            candidate = num\n",
        "        count += 1 if num == candidate else -1\n",
        "    # Verify candidate\n",
        "    if arr.count(candidate) > len(arr) // 2:\n",
        "        return candidate\n",
        "    return None"
      ],
      "metadata": {
        "id": "UCCk8tmBMncu"
      },
      "execution_count": 10,
      "outputs": []
    },
    {
      "cell_type": "markdown",
      "source": [
        "### Problem 9 : Given n × n matrix, and in each row all 1’s are followed by 0’s. Find the row with the maximum number of 0’s.\n",
        "\n",
        "Approach: Binary search for the first 0 in each row."
      ],
      "metadata": {
        "id": "6My5bn7YMqHM"
      }
    },
    {
      "cell_type": "code",
      "source": [
        "def max_zero_row(matrix):\n",
        "    n = len(matrix)\n",
        "    max_zeros = 0\n",
        "    result_row = 0\n",
        "    for i in range(n):\n",
        "        left, right = 0, n - 1\n",
        "        first_zero = n\n",
        "        while left <= right:\n",
        "            mid = (left + right) // 2\n",
        "            if matrix[i][mid] == 0:\n",
        "                first_zero = mid\n",
        "                right = mid - 1\n",
        "            else:\n",
        "                left = mid + 1\n",
        "        zeros = n - first_zero\n",
        "        if zeros > max_zeros:\n",
        "            max_zeros = zeros\n",
        "            result_row = i\n",
        "    return result_row"
      ],
      "metadata": {
        "id": "VAeK7A1lM0xC"
      },
      "execution_count": 11,
      "outputs": []
    },
    {
      "cell_type": "markdown",
      "source": [
        "### Problem 10 : Sort an array of 0’s, 1’s and 2’s [or R’s, G’s and B’s]: Given an array A[] consisting of 0’s, 1’s and 2’s, give an algorithm for sorting A[].The algorithm should put all 0’s first, then all 1’s and finally all 2’s at the end. Example Input = {0,1,1,0,1,2,1,2,0,0,0,1}, Output = {0,0,0,0,0,1,1,1,1,1,2,2}\n",
        "\n",
        "\n",
        "Approach: Dutch National Flag algorithm with three pointers."
      ],
      "metadata": {
        "id": "Jjekee5HM3UG"
      }
    },
    {
      "cell_type": "code",
      "source": [
        "def sort_colors(arr):\n",
        "    low, mid, high = 0, 0, len(arr) - 1\n",
        "    while mid <= high:\n",
        "        if arr[mid] == 0:\n",
        "            arr[low], arr[mid] = arr[mid], arr[low]\n",
        "            low += 1\n",
        "            mid += 1\n",
        "        elif arr[mid] == 1:\n",
        "            mid += 1\n",
        "        else:\n",
        "            arr[mid], arr[high] = arr[high], arr[mid]\n",
        "            high -= 1\n",
        "    return arr"
      ],
      "metadata": {
        "id": "Uq4ZWVvgNFvI"
      },
      "execution_count": 12,
      "outputs": []
    },
    {
      "cell_type": "code",
      "source": [],
      "metadata": {
        "id": "9HQ_v61_NHkL"
      },
      "execution_count": null,
      "outputs": []
    }
  ]
}