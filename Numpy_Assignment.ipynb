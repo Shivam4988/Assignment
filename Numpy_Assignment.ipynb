{
  "nbformat": 4,
  "nbformat_minor": 0,
  "metadata": {
    "colab": {
      "provenance": [],
      "authorship_tag": "ABX9TyNbRu/VmnyzrhqAPA6ctJyW",
      "include_colab_link": true
    },
    "kernelspec": {
      "name": "python3",
      "display_name": "Python 3"
    },
    "language_info": {
      "name": "python"
    }
  },
  "cells": [
    {
      "cell_type": "markdown",
      "metadata": {
        "id": "view-in-github",
        "colab_type": "text"
      },
      "source": [
        "<a href=\"https://colab.research.google.com/github/Shivam4988/Assignment/blob/main/Numpy_Assignment.ipynb\" target=\"_parent\"><img src=\"https://colab.research.google.com/assets/colab-badge.svg\" alt=\"Open In Colab\"/></a>"
      ]
    },
    {
      "cell_type": "markdown",
      "source": [
        "### 1. What is a Python library? Why do we use Python libraries?\n",
        "A Python library is a collection of pre-written functions and modules that extend Python's capabilities. We use libraries to avoid reinventing the wheel, improve efficiency, and leverage optimized code for complex tasks (e.g., Numpy for numerical computations)."
      ],
      "metadata": {
        "id": "G_fMqYf1iK4v"
      }
    },
    {
      "cell_type": "markdown",
      "source": [
        "### 2. What is the difference between Numpy array and List?\n",
        "\n",
        "Numpy Array: Homogeneous (all elements same type), stored in contiguous memory, optimized for numerical operations.\n",
        "\n",
        "List: Heterogeneous (elements can be different types), flexible but slower for large datasets."
      ],
      "metadata": {
        "id": "53ionvZJiON9"
      }
    },
    {
      "cell_type": "markdown",
      "source": [
        "### 3. Find the shape, size, and dimension of the following array?\n",
        "Given a 3x4 array:\n",
        "\n",
        "Shape: (3, 4)\n",
        "\n",
        "Size: 12 (total elements)\n",
        "\n",
        "Dimension: 2 (2D array)."
      ],
      "metadata": {
        "id": "0yXG-eZIiSW1"
      }
    },
    {
      "cell_type": "markdown",
      "source": [
        "### 4. Write Python code to access the first row of the array?"
      ],
      "metadata": {
        "id": "ljNgPUwxiV3X"
      }
    },
    {
      "cell_type": "code",
      "execution_count": 1,
      "metadata": {
        "id": "uPMbY9EHhK0T"
      },
      "outputs": [],
      "source": [
        "import numpy as np\n",
        "arr = np.array([[1, 2, 3, 4], [5, 6, 7, 8], [9, 10, 11, 12]])\n",
        "first_row = arr[0]  # Output: [1 2 3 4]"
      ]
    },
    {
      "cell_type": "markdown",
      "source": [
        "### 5. How do you access the element at the third row and fourth column?"
      ],
      "metadata": {
        "id": "g3izkFg9igG3"
      }
    },
    {
      "cell_type": "code",
      "source": [
        "element = arr[2, 3]  # Output: 12"
      ],
      "metadata": {
        "id": "gsqtVm3DiiIl"
      },
      "execution_count": 2,
      "outputs": []
    },
    {
      "cell_type": "markdown",
      "source": [
        "### 6. Write code to extract all odd-indexed elements from the array?\n",
        "Assuming \"odd-indexed\" refers to indices starting at 1 (0-based):"
      ],
      "metadata": {
        "id": "S1UOkoHDiknr"
      }
    },
    {
      "cell_type": "code",
      "source": [
        "odd_indexed = arr[:, 1::2]  # Columns 1 and 3 (indices 1 and 3)\n",
        "# Output:\n",
        "# [[ 2  4]\n",
        "#  [ 6  8]\n",
        "#  [10 12]]"
      ],
      "metadata": {
        "id": "mLC3i6nLioMK"
      },
      "execution_count": 3,
      "outputs": []
    },
    {
      "cell_type": "markdown",
      "source": [
        "### 7. How to generate a random 3x3 matrix with values between 0 and 1?"
      ],
      "metadata": {
        "id": "_cIiJZXOiqWo"
      }
    },
    {
      "cell_type": "code",
      "source": [
        "random_matrix = np.random.rand(3, 3)"
      ],
      "metadata": {
        "id": "s2mpq2vpitT8"
      },
      "execution_count": 4,
      "outputs": []
    },
    {
      "cell_type": "markdown",
      "source": [
        "### 8. Difference between np.random.rand and np.random.randn?\n",
        "\n",
        "rand: Uniform distribution over [0, 1).\n",
        "\n",
        "randn: Standard normal distribution (mean=0, variance=1)."
      ],
      "metadata": {
        "id": "5xMuk5vuivKf"
      }
    },
    {
      "cell_type": "markdown",
      "source": [
        "### 9. Write code to increase the dimension of the array?\n",
        "Add a new axis to convert from 3x4 to 1x3x4:"
      ],
      "metadata": {
        "id": "aRdFnM1PiycF"
      }
    },
    {
      "cell_type": "code",
      "source": [
        "higher_dim = arr[np.newaxis, :]  # or np.expand_dims(arr, axis=0)"
      ],
      "metadata": {
        "id": "ZXeE6sCPi-L_"
      },
      "execution_count": 5,
      "outputs": []
    },
    {
      "cell_type": "markdown",
      "source": [
        "### 10. How to transpose the array in Numpy?"
      ],
      "metadata": {
        "id": "bRZWuVPsi_eI"
      }
    },
    {
      "cell_type": "code",
      "source": [
        "transposed = arr.T  # or np.transpose(arr)\n",
        "# Output:\n",
        "# [[ 1  5  9]\n",
        "#  [ 2  6 10]\n",
        "#  [ 3  7 11]\n",
        "#  [ 4  8 12]]"
      ],
      "metadata": {
        "id": "V3U_k66EjClT"
      },
      "execution_count": 6,
      "outputs": []
    },
    {
      "cell_type": "markdown",
      "source": [
        "### 11. Perform operations on Matrix A and B (both 3x4):\n",
        "\n",
        "**Given Matrices:**"
      ],
      "metadata": {
        "id": "9J4TTTh-jCHF"
      }
    },
    {
      "cell_type": "code",
      "source": [
        "import numpy as np\n",
        "\n",
        "A = np.array([[1, 2, 3, 4], [5, 6, 7, 8], [9, 10, 11, 12]])\n",
        "B = np.array([[1, 2, 3, 4], [5, 6, 7, 8], [9, 10, 11, 12]])"
      ],
      "metadata": {
        "id": "E5kFByuypX_s"
      },
      "execution_count": 9,
      "outputs": []
    },
    {
      "cell_type": "markdown",
      "source": [
        "1. Element-wise multiplication:"
      ],
      "metadata": {
        "id": "U9OMyX3DjQrF"
      }
    },
    {
      "cell_type": "code",
      "source": [
        "element_wise = A * B\n",
        "# Output:\n",
        "# [[  1   4   9  16]\n",
        "#  [ 25  36  49  64]\n",
        "#  [ 81 100 121 144]]"
      ],
      "metadata": {
        "id": "5uC_CkHTpg4d"
      },
      "execution_count": 10,
      "outputs": []
    },
    {
      "cell_type": "markdown",
      "source": [
        "2. Matrix multiplication:\n",
        "\n",
        "Since matrices are 3x4, transpose B to make it 4x3:"
      ],
      "metadata": {
        "id": "0OP0h74ZpjQq"
      }
    },
    {
      "cell_type": "code",
      "source": [
        "matrix_mul = np.dot(A, B.T)  # Result shape: 3x3\n",
        "# Output:\n",
        "# [[ 30  70 110]\n",
        "#  [ 70 174 278]\n",
        "#  [110 278 446]]"
      ],
      "metadata": {
        "id": "7QXYUg7kpl4B"
      },
      "execution_count": 11,
      "outputs": []
    },
    {
      "cell_type": "markdown",
      "source": [
        "3. Add both matrices:"
      ],
      "metadata": {
        "id": "1At37ZT_prDa"
      }
    },
    {
      "cell_type": "code",
      "source": [
        "matrix_add = A + B\n",
        "# Output:\n",
        "# [[ 2  4  6  8]\n",
        "#  [10 12 14 16]\n",
        "#  [18 20 22 24]]"
      ],
      "metadata": {
        "id": "mXx08O3rpuY8"
      },
      "execution_count": 12,
      "outputs": []
    },
    {
      "cell_type": "markdown",
      "source": [
        "4. Subtract matrix B from A:"
      ],
      "metadata": {
        "id": "wuEQRWalpwsT"
      }
    },
    {
      "cell_type": "code",
      "source": [
        "matrix_sub = A - B\n",
        "# Output (all zeros since A and B are identical):\n",
        "# [[0 0 0 0]\n",
        "#  [0 0 0 0]\n",
        "#  [0 0 0 0]]"
      ],
      "metadata": {
        "id": "KNbil6kttuAP"
      },
      "execution_count": 13,
      "outputs": []
    },
    {
      "cell_type": "markdown",
      "source": [
        "5. Divide matrix B by A:"
      ],
      "metadata": {
        "id": "hPteH0yBt1op"
      }
    },
    {
      "cell_type": "code",
      "source": [
        "matrix_div = B / A\n",
        "# Output (all ones since A and B are identical):\n",
        "# [[1. 1. 1. 1.]\n",
        "#  [1. 1. 1. 1.]\n",
        "#  [1. 1. 1. 1.]]"
      ],
      "metadata": {
        "id": "GMZhmzNEt3ld"
      },
      "execution_count": 14,
      "outputs": []
    },
    {
      "cell_type": "markdown",
      "source": [
        "### 12. Function to swap byte order of an array?\n",
        "Use numpy.ndarray.byteswap()."
      ],
      "metadata": {
        "id": "ioGi6P5quNV3"
      }
    },
    {
      "cell_type": "markdown",
      "source": [
        "### 13. Significance of np.iindg.inv?\n",
        "Typo correction: The correct function is np.linalg.inv. It computes the multiplicative inverse of a square matrix."
      ],
      "metadata": {
        "id": "MHQ2i2vAuPI3"
      }
    },
    {
      "cell_type": "markdown",
      "source": [
        "### 14. What does np.reshape do?\n",
        "Reshapes an array to a new shape without changing data:"
      ],
      "metadata": {
        "id": "AvQwo2JluS5R"
      }
    },
    {
      "cell_type": "code",
      "source": [
        "reshaped = arr.reshape(4, 3)  # Converts 3x4 to 4x3"
      ],
      "metadata": {
        "id": "PHq6X_zjuH2G"
      },
      "execution_count": 15,
      "outputs": []
    },
    {
      "cell_type": "markdown",
      "source": [
        "### 15. What is broadcasting in Numpy?\n",
        "Broadcasting allows operations on arrays of different shapes by automatically expanding smaller arrays to match larger ones, following specific rules (e.g., scalar + array, or adding 3x1 and 1x3 arrays)."
      ],
      "metadata": {
        "id": "SKiJ238puZyz"
      }
    },
    {
      "cell_type": "code",
      "source": [],
      "metadata": {
        "id": "T0gGfHUNucsv"
      },
      "execution_count": null,
      "outputs": []
    }
  ]
}