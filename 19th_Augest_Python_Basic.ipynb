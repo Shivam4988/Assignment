{
 "cells": [
  {
   "cell_type": "code",
   "execution_count": null,
   "id": "8e0af817-dbff-4b4a-bcb7-f04ac98b6535",
   "metadata": {},
   "outputs": [],
   "source": [
    "#TOPIC: Python Basics Variable"
   ]
  },
  {
   "cell_type": "code",
   "execution_count": null,
   "id": "aa021d0c-74bc-403c-8db7-f7daf5b415a6",
   "metadata": {},
   "outputs": [],
   "source": [
    "'''\n",
    "Que-1. Declare two variables, `x` and `y`, and assign them integer values.\n",
    "       Swap the values of these variables without using any temporary variable. '''"
   ]
  },
  {
   "cell_type": "code",
   "execution_count": 35,
   "id": "cdc21437-f36e-44db-9f40-57d52d5c4b02",
   "metadata": {},
   "outputs": [
    {
     "name": "stdout",
     "output_type": "stream",
     "text": [
      "Before swapping:\n",
      "x = 5\n",
      "y = 10\n",
      "After swapping:\n",
      "x = 10\n",
      "y = 5\n"
     ]
    }
   ],
   "source": [
    "x = 5\n",
    "y = 10\n",
    "\n",
    "print(\"Before swapping:\")\n",
    "print(\"x =\", x)\n",
    "print(\"y =\", y)\n",
    "\n",
    "x, y = y, x\n",
    "\n",
    "print(\"After swapping:\")\n",
    "print(\"x =\", x)\n",
    "print(\"y =\", y)\n"
   ]
  },
  {
   "cell_type": "code",
   "execution_count": null,
   "id": "94a5fceb-b302-4306-99ba-d7d95760e979",
   "metadata": {},
   "outputs": [],
   "source": []
  },
  {
   "cell_type": "code",
   "execution_count": 15,
   "id": "53f6a691-3671-4af6-b2d7-c9e5c8ba7363",
   "metadata": {},
   "outputs": [],
   "source": [
    "'''\n",
    "Que-2. Create a program that calculates the area of a rectangle. Take the length and width as inputs from the user and store them in variables.\n",
    "       Calculate and display the area. '''"
   ]
  },
  {
   "cell_type": "code",
   "execution_count": 18,
   "id": "c42496ad-0c00-483a-841c-607cd3a3f446",
   "metadata": {},
   "outputs": [
    {
     "name": "stdin",
     "output_type": "stream",
     "text": [
      "Enter the length of the rectangle:  2.5\n",
      "Enter the width of the rectangle:  2.1\n"
     ]
    },
    {
     "name": "stdout",
     "output_type": "stream",
     "text": [
      "The area of the rectangle with length 2.5 and width 2.1 is: 5.25\n"
     ]
    }
   ],
   "source": [
    "# Taking user input for length and width of the rectangle\n",
    "length = float(input(\"Enter the length of the rectangle: \"))\n",
    "width = float(input(\"Enter the width of the rectangle: \"))\n",
    "\n",
    "# Calculating the area of the rectangle\n",
    "area = length * width\n",
    "\n",
    "# Displaying the calculated area\n",
    "print(\"The area of the rectangle with length\", length, \"and width\", width, \"is:\", area)\n"
   ]
  },
  {
   "cell_type": "code",
   "execution_count": null,
   "id": "733db7e9-9c3e-4696-b8d0-915d33b87e7d",
   "metadata": {},
   "outputs": [],
   "source": []
  },
  {
   "cell_type": "code",
   "execution_count": null,
   "id": "8e58de99-de2a-4458-90f8-e81c1f67b278",
   "metadata": {},
   "outputs": [],
   "source": [
    "'''\n",
    "Que-3. Write a Python program that converts temperatures from Celsius to Fahrenheit.\n",
    "       Take the temperature in Celsius as input, store it in a variable, convert it to Fahrenheit, and display the result.'''"
   ]
  },
  {
   "cell_type": "code",
   "execution_count": 20,
   "id": "82da9f59-0798-44d1-9c09-e7cf21d21568",
   "metadata": {},
   "outputs": [
    {
     "name": "stdin",
     "output_type": "stream",
     "text": [
      "Enter the tempreature in celcius. 5\n"
     ]
    },
    {
     "name": "stdout",
     "output_type": "stream",
     "text": [
      " Tempreature in Farhenheit is: 41.0\n"
     ]
    }
   ],
   "source": [
    "# Taking tempreture in celcius as input from user.\n",
    "\n",
    "celcius = float(input(\"Enter the tempreature in celcius.\"))\n",
    "\n",
    "# Converting Celcius to Fahrenheit\n",
    "# The formula of converting celcius to fahrenheit is: (Celcius * 9/5) + 32\n",
    "\n",
    "fahrenheit = (celcius * 9/5) + 32\n",
    "\n",
    "#Displaying the converted tempreature in Fahrenheit.\n",
    "\n",
    "print(\" Tempreature in Farhenheit is:\", fahrenheit)\n"
   ]
  },
  {
   "cell_type": "code",
   "execution_count": null,
   "id": "42e51c6d-44ae-4d4a-9036-760117fb49dd",
   "metadata": {},
   "outputs": [],
   "source": []
  },
  {
   "cell_type": "code",
   "execution_count": null,
   "id": "cd8443bc-618d-4168-b717-f0a21ec18f25",
   "metadata": {},
   "outputs": [],
   "source": [
    "#TOPIC: String Based Questions"
   ]
  },
  {
   "cell_type": "code",
   "execution_count": null,
   "id": "b26dde18-d1f7-4806-bd14-a9be3573aced",
   "metadata": {},
   "outputs": [],
   "source": [
    "'''\n",
    "Que.1- Write a Python program that takes a string as input and prints the length of the string. '''"
   ]
  },
  {
   "cell_type": "code",
   "execution_count": 30,
   "id": "2ffc057b-a50d-4d59-943b-5b099b1ae466",
   "metadata": {},
   "outputs": [
    {
     "name": "stdin",
     "output_type": "stream",
     "text": [
      "Enter your string Shivam\n"
     ]
    },
    {
     "name": "stdout",
     "output_type": "stream",
     "text": [
      " The lenght of the string is: Shivam\n"
     ]
    }
   ],
   "source": [
    "#Taking string as input\n",
    "\n",
    "input_string = input(\"Enter your string\")\n",
    "\n",
    "#Calculating the lenght of the string using len() function\n",
    "\n",
    "length_of_string = len(input_string)\n",
    "\n",
    "# Displaying the lenth of the input.\n",
    "\n",
    "print(\" The lenght of the string is:\" , input_string)\n"
   ]
  },
  {
   "cell_type": "code",
   "execution_count": null,
   "id": "7823862d-2a5a-40b4-8ae0-f0aa151caccc",
   "metadata": {},
   "outputs": [],
   "source": []
  },
  {
   "cell_type": "code",
   "execution_count": null,
   "id": "32d2e57b-5130-48d5-83bc-187cd3946dff",
   "metadata": {},
   "outputs": [],
   "source": [
    "'''\n",
    "Que.2- Create a program that takes a sentence from the user and counts the number of vowels (a, e, i, o, u) in the string.'''"
   ]
  },
  {
   "cell_type": "code",
   "execution_count": 5,
   "id": "b387f973-fa06-49e3-a3c8-25527a48d16a",
   "metadata": {},
   "outputs": [
    {
     "name": "stdin",
     "output_type": "stream",
     "text": [
      "Enter sentence to count vowel Shivam\n"
     ]
    },
    {
     "name": "stdout",
     "output_type": "stream",
     "text": [
      " The number of vowel in the sentence:  2\n"
     ]
    }
   ],
   "source": [
    "# Taking a sentence from user as input\n",
    "\n",
    "sentence = input(\"Enter sentence to count vowel\")\n",
    "\n",
    "# Converting the sentences to lower for handel upper case vowel as well\n",
    "\n",
    "sentences = sentence.lower()\n",
    "\n",
    "# Counting the occurrences of vowels in the sentence using count() method\n",
    "\n",
    "vowel_count = sentence.count('a') + sentence.count('e') + sentence.count('i') + sentence.count('o') + sentence.count('u')\n",
    "\n",
    "# Displaying the count of vowel in the sentence\n",
    "\n",
    "print(\" The number of vowel in the sentence: \" , vowel_count)"
   ]
  },
  {
   "cell_type": "code",
   "execution_count": null,
   "id": "8078ccc9-674a-4685-9824-af5b76a8b87f",
   "metadata": {},
   "outputs": [],
   "source": []
  },
  {
   "cell_type": "code",
   "execution_count": null,
   "id": "941fe213-5936-43f8-a918-97354dd97860",
   "metadata": {},
   "outputs": [],
   "source": [
    "'''\n",
    "Que.3- Given a string, reverse the order of characters using string slicing and print the reversed string. '''"
   ]
  },
  {
   "cell_type": "code",
   "execution_count": 6,
   "id": "241e8532-9a98-4ffb-a038-d533f027ab4e",
   "metadata": {},
   "outputs": [
    {
     "name": "stdin",
     "output_type": "stream",
     "text": [
      "enter a string Shivam\n"
     ]
    },
    {
     "name": "stdout",
     "output_type": "stream",
     "text": [
      "The reversed order of the string: mavihS\n"
     ]
    }
   ],
   "source": [
    "# Taking input from user\n",
    "\n",
    "string = input(\"enter a string\")\n",
    "\n",
    "# Reversing the order of the string using by\n",
    "\n",
    "reversed_string = string[::-1]\n",
    "\n",
    "#Displaying the reversed\n",
    "print(\"The reversed order of the string:\" , reversed_string) "
   ]
  },
  {
   "cell_type": "code",
   "execution_count": null,
   "id": "6259baf8-908e-4384-a3c4-8af2faa62a32",
   "metadata": {},
   "outputs": [],
   "source": []
  },
  {
   "cell_type": "code",
   "execution_count": null,
   "id": "1d460749-68a9-4160-ba04-0310ce3453f3",
   "metadata": {},
   "outputs": [],
   "source": [
    "''' Que-4. Write a program that takes a string as input and checks if it is a palindrome\n",
    "(reads the same forwards and backwards). '''"
   ]
  },
  {
   "cell_type": "code",
   "execution_count": 27,
   "id": "b6551ce0-7c20-4112-9070-e659ec927327",
   "metadata": {},
   "outputs": [
    {
     "name": "stdin",
     "output_type": "stream",
     "text": [
      "enter a string: Nitin\n"
     ]
    },
    {
     "name": "stdout",
     "output_type": "stream",
     "text": [
      "It's a palindrome\n"
     ]
    }
   ],
   "source": [
    "# functoin to check if string is a palindrome \n",
    "\n",
    "def is_palindrome(s):\n",
    "    \n",
    "    # removing the spaces and converting them into lower for handle upper case as well\n",
    "    s = s.replace(\" \", \"\").lower()\n",
    "    \n",
    "    # Reversing the string\n",
    "    \n",
    "    reversed_string = s[::-1]\n",
    "    \n",
    "    # Checking if original string is equals to its reversed \n",
    "    \n",
    "    return s == reversed_string\n",
    "\n",
    "#Taking string as input  from user \n",
    "    \n",
    "input_string = input(\"enter a string:\")\n",
    "    \n",
    "# Checking if the input string is a palindrome or not\n",
    "    \n",
    "if is_palindrome(input_string):\n",
    "    print(\"It's a palindrome\")\n",
    "else:\n",
    "    print(\"It's not a palindrome\")"
   ]
  },
  {
   "cell_type": "code",
   "execution_count": null,
   "id": "95660518-39b3-4c73-aabf-0119580c442f",
   "metadata": {},
   "outputs": [],
   "source": []
  },
  {
   "cell_type": "code",
   "execution_count": null,
   "id": "fe0bae52-685f-4c24-8bff-da51d4a17558",
   "metadata": {},
   "outputs": [],
   "source": [
    "'''\n",
    "Que-5. Create a program that takes a string as input and removes all the spaces from it.\n",
    "      Print the modified string without spaces.'''"
   ]
  },
  {
   "cell_type": "code",
   "execution_count": 29,
   "id": "adf12b2f-3806-487b-8080-12055ba137a9",
   "metadata": {},
   "outputs": [
    {
     "name": "stdin",
     "output_type": "stream",
     "text": [
      "enter a string shivam kasaudhan is a student\n"
     ]
    },
    {
     "name": "stdout",
     "output_type": "stream",
     "text": [
      " Your final result is: shivamkasaudhanisastudent\n"
     ]
    }
   ],
   "source": [
    "# Taking string as a input from user\n",
    "\n",
    "input_string = input(\"enter a string\")\n",
    "\n",
    "# Removing all the spaces from the string using .replace() \n",
    "\n",
    "string = input_string.replace(\" \" , \"\")\n",
    "\n",
    "# Displaying the final outcome\n",
    "\n",
    "print(\" Your final result is:\",string)"
   ]
  },
  {
   "cell_type": "code",
   "execution_count": null,
   "id": "08ef4672-9545-48f0-be98-d1dc08cc5dc1",
   "metadata": {},
   "outputs": [],
   "source": []
  }
 ],
 "metadata": {
  "kernelspec": {
   "display_name": "Python 3 (ipykernel)",
   "language": "python",
   "name": "python3"
  },
  "language_info": {
   "codemirror_mode": {
    "name": "ipython",
    "version": 3
   },
   "file_extension": ".py",
   "mimetype": "text/x-python",
   "name": "python",
   "nbconvert_exporter": "python",
   "pygments_lexer": "ipython3",
   "version": "3.10.8"
  }
 },
 "nbformat": 4,
 "nbformat_minor": 5
}
