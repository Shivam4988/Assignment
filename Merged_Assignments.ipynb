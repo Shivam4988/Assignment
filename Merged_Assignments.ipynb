{
  "cells": [
    {
      "cell_type": "markdown",
      "metadata": {
        "id": "view-in-github",
        "colab_type": "text"
      },
      "source": [
        "<a href=\"https://colab.research.google.com/github/Shivam4988/Assignment/blob/main/Merged_Assignments.ipynb\" target=\"_parent\"><img src=\"https://colab.research.google.com/assets/colab-badge.svg\" alt=\"Open In Colab\"/></a>"
      ]
    },
    {
      "cell_type": "markdown",
      "id": "b8b7873c",
      "metadata": {
        "id": "b8b7873c"
      },
      "source": [
        "### What is the difference between static and dynamic variables in Python?\n",
        "\n",
        "**Static Variables:** These are class-level variables shared among all instances of the class.\n",
        "Defined within the class but outside any method.\n",
        "\n",
        "**Dynamic Variables:** These are instance-level variables unique to each instance. Defined within methods or the `__init__` method."
      ]
    },
    {
      "cell_type": "code",
      "execution_count": null,
      "id": "9a0b6405",
      "metadata": {
        "id": "9a0b6405"
      },
      "outputs": [],
      "source": [
        "class MyClass:\n",
        "    static_var = 10  # Static variable\n",
        "\n",
        "    def __init__(self, dynamic_var):\n",
        "        self.dynamic_var = dynamic_var  # Dynamic variable\n",
        "\n",
        "obj1 = MyClass(20)\n",
        "obj2 = MyClass(30)\n",
        "\n",
        "print(MyClass.static_var)  # Output: 10\n",
        "print(obj1.dynamic_var)    # Output: 20\n",
        "print(obj2.dynamic_var)    # Output: 30"
      ]
    },
    {
      "cell_type": "markdown",
      "id": "98351648",
      "metadata": {
        "id": "98351648"
      },
      "source": [
        "### What is the purpose of 'pop', 'popitem', and 'clear()' in a dictionary?\n",
        "\n",
        "- **pop(key):** Removes the item with the specified key and returns its value.\n",
        "\n",
        "- **popitem():** Removes and returns the last inserted key-value pair.\n",
        "\n",
        "- **clear():** Removes all items from the dictionary."
      ]
    },
    {
      "cell_type": "code",
      "execution_count": null,
      "id": "585e71b6",
      "metadata": {
        "id": "585e71b6"
      },
      "outputs": [],
      "source": [
        "my_dict = {'a': 1, 'b': 2, 'c': 3}\n",
        "\n",
        "print(my_dict.pop('b'))  # Output: 2\n",
        "print(my_dict.popitem()) # Output: ('c', 3)\n",
        "my_dict.clear()\n",
        "print(my_dict)           # Output: {}"
      ]
    },
    {
      "cell_type": "markdown",
      "id": "01d2eed3",
      "metadata": {
        "id": "01d2eed3"
      },
      "source": [
        "### What is a frozenset in Python?\n",
        "\n",
        "A **frozenset** is an immutable version of a set. Once created, it cannot be modified."
      ]
    },
    {
      "cell_type": "code",
      "execution_count": null,
      "id": "c7a42d8f",
      "metadata": {
        "id": "c7a42d8f"
      },
      "outputs": [],
      "source": [
        "my_set = {1, 2, 3}\n",
        "frozen_set = frozenset(my_set)\n",
        "print(frozen_set)  # Output: frozenset({1, 2, 3})"
      ]
    },
    {
      "cell_type": "markdown",
      "id": "139ff482",
      "metadata": {
        "id": "139ff482"
      },
      "source": [
        "### Explain the difference between mutable and immutable data types.\n",
        "\n",
        "- **Mutable:** Can be changed after creation (e.g., lists, dictionaries).\n",
        "\n",
        "- **Immutable:** Cannot be changed after creation (e.g., integers, strings, tuples)."
      ]
    },
    {
      "cell_type": "code",
      "execution_count": null,
      "id": "443ffb37",
      "metadata": {
        "id": "443ffb37"
      },
      "outputs": [],
      "source": [
        "mutable_list = [1, 2, 3]\n",
        "mutable_list[0] = 10\n",
        "\n",
        "immutable_tuple = (1, 2, 3)\n"
      ]
    },
    {
      "cell_type": "markdown",
      "id": "30b77e50",
      "metadata": {
        "id": "30b77e50"
      },
      "source": [
        "### What is __init__ in Python?\n",
        "\n",
        "The `__init__` method is a constructor in Python classes. It is called when an object is created."
      ]
    },
    {
      "cell_type": "code",
      "execution_count": null,
      "id": "3acfd1ea",
      "metadata": {
        "colab": {
          "base_uri": "https://localhost:8080/"
        },
        "id": "3acfd1ea",
        "outputId": "336643ec-f591-489a-bdff-b63566276895"
      },
      "outputs": [
        {
          "output_type": "stream",
          "name": "stdout",
          "text": [
            "Alice\n"
          ]
        }
      ],
      "source": [
        "class MyClass:\n",
        "    def __init__(self, name):\n",
        "        self.name = name\n",
        "\n",
        "obj = MyClass(\"Alice\")\n",
        "print(obj.name)"
      ]
    },
    {
      "cell_type": "markdown",
      "source": [
        "### What is docstring in Python?Explain with an example.\n",
        "\n",
        "\n",
        "In Python, a docstring is a string used to document a function, class, or module. It is written right after the definition and enclosed in triple quotes (\"\"\"). It helps explain what the code does."
      ],
      "metadata": {
        "id": "PspjFqfGkBxB"
      },
      "id": "PspjFqfGkBxB"
    },
    {
      "cell_type": "code",
      "source": [
        "def add(a, b):\n",
        "    \"\"\"\n",
        "    Adds two numbers and returns the result.\n",
        "    \"\"\"\n",
        "    return a + b"
      ],
      "metadata": {
        "id": "H877csHokJ0B"
      },
      "id": "H877csHokJ0B",
      "execution_count": null,
      "outputs": []
    },
    {
      "cell_type": "markdown",
      "source": [
        "### What are decorators in Python? Explain it with an example.Write down its use cases."
      ],
      "metadata": {
        "id": "jvweNbPDbxOi"
      },
      "id": "jvweNbPDbxOi"
    },
    {
      "cell_type": "markdown",
      "source": [
        "Decorators are functions that modify the behavior of another function or method.\n",
        "\n",
        "Use Cases: Logging, authentication, performance monitoring.\n",
        "\n",
        "Example:\n",
        "\n"
      ],
      "metadata": {
        "id": "Y11GopUrb1n_"
      },
      "id": "Y11GopUrb1n_"
    },
    {
      "cell_type": "code",
      "source": [
        "def decorator(func):\n",
        "    def wrapper():\n",
        "        print(\"Before function call\")\n",
        "        func()\n",
        "        print(\"After function call\")\n",
        "    return wrapper\n",
        "\n",
        "@decorator\n",
        "def hello():\n",
        "    print(\"Hello\")\n",
        "\n",
        "hello()\n"
      ],
      "metadata": {
        "colab": {
          "base_uri": "https://localhost:8080/"
        },
        "id": "Z2KdXGKrb9TP",
        "outputId": "5946ece7-88ef-4aa9-e632-2d1da1ee09a5"
      },
      "id": "Z2KdXGKrb9TP",
      "execution_count": 1,
      "outputs": [
        {
          "output_type": "stream",
          "name": "stdout",
          "text": [
            "Before function call\n",
            "Hello\n",
            "After function call\n"
          ]
        }
      ]
    },
    {
      "cell_type": "markdown",
      "source": [
        "### How does inheritance work in python? Explain all types of inheritance with an example"
      ],
      "metadata": {
        "id": "PkglXZfugqx7"
      },
      "id": "PkglXZfugqx7"
    },
    {
      "cell_type": "markdown",
      "source": [
        "Inheritance is an object-oriented programming (OOP) feature that allows a class (child/derived class) to inherit properties and behaviors (attributes and methods) from another class (parent/base class). This promotes code reusability and improves maintainability.\n",
        "\n",
        "\n",
        "**Types of Inheritance in Python**"
      ],
      "metadata": {
        "id": "sDhKOtgaguu-"
      },
      "id": "sDhKOtgaguu-"
    },
    {
      "cell_type": "markdown",
      "source": [
        "**1. Single Inheritance**\n",
        "\n",
        "   A single child class inherits from one parent class.\n",
        "\n",
        "Example:"
      ],
      "metadata": {
        "id": "AZrC_EwWg942"
      },
      "id": "AZrC_EwWg942"
    },
    {
      "cell_type": "code",
      "source": [
        "class Parent:\n",
        "    def show(self):\n",
        "        print(\"This is the parent class.\")\n",
        "\n",
        "class Child(Parent):\n",
        "    def display(self):\n",
        "        print(\"This is the child class.\")\n",
        "\n",
        "obj = Child()\n",
        "obj.show()   # Inherited from Parent class\n",
        "obj.display()\n"
      ],
      "metadata": {
        "colab": {
          "base_uri": "https://localhost:8080/"
        },
        "id": "vrcVlcq6hJ9b",
        "outputId": "5199b120-d861-45e8-fb03-e758e5fd5fc6"
      },
      "id": "vrcVlcq6hJ9b",
      "execution_count": 2,
      "outputs": [
        {
          "output_type": "stream",
          "name": "stdout",
          "text": [
            "This is the parent class.\n",
            "This is the child class.\n"
          ]
        }
      ]
    },
    {
      "cell_type": "markdown",
      "source": [
        "**2. Multiple Inheritance**\n",
        "\n",
        "A child class inherits from more than one parent class.\n",
        "\n",
        "Example:"
      ],
      "metadata": {
        "id": "5a3NfEeKcFex"
      },
      "id": "5a3NfEeKcFex"
    },
    {
      "cell_type": "code",
      "source": [
        "class Father:\n",
        "    def show_father(self):\n",
        "        print(\"Father's property.\")\n",
        "\n",
        "class Mother:\n",
        "    def show_mother(self):\n",
        "        print(\"Mother's property.\")\n",
        "\n",
        "class Child(Father, Mother):\n",
        "    def show_child(self):\n",
        "        print(\"Child's property.\")\n",
        "\n",
        "obj = Child()\n",
        "obj.show_father()\n",
        "obj.show_mother()\n",
        "obj.show_child()\n"
      ],
      "metadata": {
        "colab": {
          "base_uri": "https://localhost:8080/"
        },
        "id": "iBaQXpVMhVSf",
        "outputId": "b80954d6-9bae-46ea-ce47-61f06f3c4de6"
      },
      "id": "iBaQXpVMhVSf",
      "execution_count": 3,
      "outputs": [
        {
          "output_type": "stream",
          "name": "stdout",
          "text": [
            "Father's property.\n",
            "Mother's property.\n",
            "Child's property.\n"
          ]
        }
      ]
    },
    {
      "cell_type": "markdown",
      "source": [
        "**3. Multilevel Inheritance**\n",
        "\n",
        "A child class inherits from a parent class, which in turn inherits from another parent class.\n",
        "\n",
        "Example:"
      ],
      "metadata": {
        "id": "QPA54WBVhaBE"
      },
      "id": "QPA54WBVhaBE"
    },
    {
      "cell_type": "code",
      "source": [
        "class Grandparent:\n",
        "    def show_grandparent(self):\n",
        "        print(\"Grandparent's property.\")\n",
        "\n",
        "class Parent(Grandparent):\n",
        "    def show_parent(self):\n",
        "        print(\"Parent's property.\")\n",
        "\n",
        "class Child(Parent):\n",
        "    def show_child(self):\n",
        "        print(\"Child's property.\")\n",
        "\n",
        "obj = Child()\n",
        "obj.show_grandparent()\n",
        "obj.show_parent()\n",
        "obj.show_child()\n"
      ],
      "metadata": {
        "colab": {
          "base_uri": "https://localhost:8080/"
        },
        "id": "cTi7zmT5heSg",
        "outputId": "7d7c5f4e-0a39-4ac4-b0f2-8d65dc2e533c"
      },
      "id": "cTi7zmT5heSg",
      "execution_count": 4,
      "outputs": [
        {
          "output_type": "stream",
          "name": "stdout",
          "text": [
            "Grandparent's property.\n",
            "Parent's property.\n",
            "Child's property.\n"
          ]
        }
      ]
    },
    {
      "cell_type": "markdown",
      "source": [
        "**4. Hierarchical Inheritance**\n",
        "\n",
        "A single parent class is inherited by multiple child classes.\n",
        "\n",
        "Example:"
      ],
      "metadata": {
        "id": "f4JV3Q2MhiAM"
      },
      "id": "f4JV3Q2MhiAM"
    },
    {
      "cell_type": "code",
      "source": [
        "class Parent:\n",
        "    def show_parent(self):\n",
        "        print(\"This is the parent class.\")\n",
        "\n",
        "class Child1(Parent):\n",
        "    def show_child1(self):\n",
        "        print(\"This is the first child class.\")\n",
        "\n",
        "class Child2(Parent):\n",
        "    def show_child2(self):\n",
        "        print(\"This is the second child class.\")\n",
        "\n",
        "obj1 = Child1()\n",
        "obj2 = Child2()\n",
        "\n",
        "obj1.show_parent()\n",
        "obj1.show_child1()\n",
        "\n",
        "obj2.show_parent()\n",
        "obj2.show_child2()\n"
      ],
      "metadata": {
        "colab": {
          "base_uri": "https://localhost:8080/"
        },
        "id": "wKcoifg9hrXa",
        "outputId": "b9c8cee7-7f8b-4c7c-ff2e-94ed8fba38ad"
      },
      "id": "wKcoifg9hrXa",
      "execution_count": 5,
      "outputs": [
        {
          "output_type": "stream",
          "name": "stdout",
          "text": [
            "This is the parent class.\n",
            "This is the first child class.\n",
            "This is the parent class.\n",
            "This is the second child class.\n"
          ]
        }
      ]
    },
    {
      "cell_type": "markdown",
      "source": [
        "**5. Hybrid Inheritance**\n",
        "\n",
        "A combination of two or more types of inheritance (e.g., multiple + multilevel).\n",
        "\n",
        "Example:"
      ],
      "metadata": {
        "id": "1m4x4OVQh57Q"
      },
      "id": "1m4x4OVQh57Q"
    },
    {
      "cell_type": "code",
      "source": [
        "class A:\n",
        "    def show_a(self):\n",
        "        print(\"Class A\")\n",
        "\n",
        "class B(A):\n",
        "    def show_b(self):\n",
        "        print(\"Class B\")\n",
        "\n",
        "class C(A):\n",
        "    def show_c(self):\n",
        "        print(\"Class C\")\n",
        "\n",
        "class D(B, C):  # Multiple inheritance\n",
        "    def show_d(self):\n",
        "        print(\"Class D\")\n",
        "\n",
        "obj = D()\n",
        "obj.show_a()\n",
        "obj.show_b()\n",
        "obj.show_c()\n",
        "obj.show_d()\n"
      ],
      "metadata": {
        "colab": {
          "base_uri": "https://localhost:8080/"
        },
        "id": "agL3s1r7h86-",
        "outputId": "7cd0b565-fb60-4e94-ec91-6b7dbbe510ae"
      },
      "id": "agL3s1r7h86-",
      "execution_count": 6,
      "outputs": [
        {
          "output_type": "stream",
          "name": "stdout",
          "text": [
            "Class A\n",
            "Class B\n",
            "Class C\n",
            "Class D\n"
          ]
        }
      ]
    },
    {
      "cell_type": "markdown",
      "source": [
        "### What is encapsulation? Explain it with an example\n",
        "\n",
        "Encapsulation involves wrapping data and methods into a single unit (class).\n",
        "\n",
        "Example:"
      ],
      "metadata": {
        "id": "AYJbu9yxiRtQ"
      },
      "id": "AYJbu9yxiRtQ"
    },
    {
      "cell_type": "code",
      "source": [
        "class Car:\n",
        "    def __init__(self, make):\n",
        "        self.make = make  # Public attribute\n",
        "        self.__model = \"Unknown\"  # Private attribute\n",
        "    def get_model(self):\n",
        "        return self.__model\n"
      ],
      "metadata": {
        "id": "Xzh8vJZwiUG-"
      },
      "id": "Xzh8vJZwiUG-",
      "execution_count": 7,
      "outputs": []
    },
    {
      "cell_type": "markdown",
      "source": [
        "### What is polymorphism?  Explain it with an example.\n",
        "\n",
        "Polymorphism allows the same method or function to behave differently based on the object calling it.\n",
        "\n",
        "Example:\n",
        "\n"
      ],
      "metadata": {
        "id": "y80r7_h6igwH"
      },
      "id": "y80r7_h6igwH"
    },
    {
      "cell_type": "code",
      "source": [
        "class Dog:\n",
        "    def speak(self):\n",
        "        return \"Woof\"\n",
        "\n",
        "class Cat:\n",
        "    def speak(self):\n",
        "        return \"Meow\"\n",
        "\n",
        "def animal_sound(animal):\n",
        "    print(animal.speak())\n",
        "\n",
        "animal_sound(Dog())  # Outputs: Woof\n",
        "animal_sound(Cat())  # Outputs: Meow\n"
      ],
      "metadata": {
        "colab": {
          "base_uri": "https://localhost:8080/"
        },
        "id": "9NPD1SFjirhn",
        "outputId": "9110031a-c02c-4d82-dfa0-7b35e6d5aad6"
      },
      "id": "9NPD1SFjirhn",
      "execution_count": 8,
      "outputs": [
        {
          "output_type": "stream",
          "name": "stdout",
          "text": [
            "Woof\n",
            "Meow\n"
          ]
        }
      ]
    },
    {
      "cell_type": "markdown",
      "source": [
        "\n",
        "### Question 1.2: Invalid Identifier Names\n",
        "\n",
        "Invalid Identifiers:\n",
        "e) total-Marks: Contains a hyphen (-), which is not allowed in identifiers.\n",
        "f) Total Marks: Contains a space, which is not allowed in identifiers.\n",
        "g) True: True is a reserved keyword in Python and cannot be used as an identifier"
      ],
      "metadata": {
        "id": "Z6WOlZNwyv1p"
      },
      "id": "Z6WOlZNwyv1p"
    },
    {
      "cell_type": "markdown",
      "source": [],
      "metadata": {
        "id": "Tc1Kb_AHkE_X"
      },
      "id": "Tc1Kb_AHkE_X"
    },
    {
      "cell_type": "markdown",
      "source": [
        "###Question 1.3: List Operations\n",
        "a) Add an element \"freedom_fighter\" at the 0th index:\n"
      ],
      "metadata": {
        "id": "jASYxmiAy3-u"
      },
      "id": "jASYxmiAy3-u"
    },
    {
      "cell_type": "code",
      "source": [
        "name = ['Mohan', 'dash', 'karam', 'chandra', 'gandhi', 'Bapu']\n",
        "name.insert(0, \"freedom_fighter\")\n",
        "print(name)\n"
      ],
      "metadata": {
        "colab": {
          "base_uri": "https://localhost:8080/"
        },
        "id": "nyQ1tSCEyxgr",
        "outputId": "dc402c42-9975-4ef4-a290-2091065bb9c7"
      },
      "id": "nyQ1tSCEyxgr",
      "execution_count": null,
      "outputs": [
        {
          "output_type": "stream",
          "name": "stdout",
          "text": [
            "['freedom_fighter', 'Mohan', 'dash', 'karam', 'chandra', 'gandhi', 'Bapu']\n"
          ]
        }
      ]
    },
    {
      "cell_type": "markdown",
      "source": [
        "b) Find the output of the following:\n",
        "\n",
        "name = [“freedomFighter”,\"Bapuji\",\"MOhan\" \"dash\", \"karam\",\n",
        "\"chandra\",\"gandhi\"]\n",
        "\n",
        "length1=len((name[-len(name)+1:-1:2]))\n",
        "\n",
        "length2=len((name[-len(name)+1:-1]))\n",
        "\n",
        "print(length1+length2)"
      ],
      "metadata": {
        "id": "yN1xw57w1fva"
      },
      "id": "yN1xw57w1fva"
    },
    {
      "cell_type": "code",
      "source": [
        "name = [\"freedomFighter\", \"Bapuji\", \"Mohan\", \"dash\", \"karam\", \"chandra\", \"gandhi\"]\n",
        "length1 = len(name[-len(name)+1:-1:2])\n",
        "length2 = len(name[-len(name)+1:-1])\n",
        "print(length1 + length2)"
      ],
      "metadata": {
        "colab": {
          "base_uri": "https://localhost:8080/"
        },
        "id": "r3DMS6IW2o7B",
        "outputId": "eaebf73e-0cb8-41bb-fd45-c9e23bdb92c3"
      },
      "id": "r3DMS6IW2o7B",
      "execution_count": null,
      "outputs": [
        {
          "output_type": "stream",
          "name": "stdout",
          "text": [
            "8\n"
          ]
        }
      ]
    },
    {
      "cell_type": "markdown",
      "source": [
        "c) add two more elements in the name [\"NetaJi\",\"Bose\"] at the end of the list."
      ],
      "metadata": {
        "id": "jPmE_bi2x7H7"
      },
      "id": "jPmE_bi2x7H7"
    },
    {
      "cell_type": "code",
      "source": [
        "name.extend(['Netaji', 'Bose'])\n",
        "print(name)"
      ],
      "metadata": {
        "colab": {
          "base_uri": "https://localhost:8080/"
        },
        "id": "Z4H0GZSzyCHi",
        "outputId": "b6ea7a92-f44a-4f7d-b05f-495954c017e0"
      },
      "id": "Z4H0GZSzyCHi",
      "execution_count": null,
      "outputs": [
        {
          "output_type": "stream",
          "name": "stdout",
          "text": [
            "['freedomFighter', 'Bapuji', 'Mohan', 'dash', 'karam', 'chandra', 'gandhi', 'Netaji', 'Bose']\n"
          ]
        }
      ]
    },
    {
      "cell_type": "markdown",
      "source": [
        " d)Swap the first and last elements:"
      ],
      "metadata": {
        "id": "Z1-i7lk2x8hj"
      },
      "id": "Z1-i7lk2x8hj"
    },
    {
      "cell_type": "code",
      "source": [
        "name = ['Bapuji', 'dash', 'karam', 'chandra', 'gandhi', 'Mohan']\n",
        "temp = name[-1]\n",
        "name[-1] = name[0]\n",
        "name[0] = temp\n",
        "print(name)"
      ],
      "metadata": {
        "colab": {
          "base_uri": "https://localhost:8080/"
        },
        "id": "s4oDK8cMyl0Z",
        "outputId": "443f4589-5327-4337-ebe6-ea6aee8da9f2"
      },
      "id": "s4oDK8cMyl0Z",
      "execution_count": null,
      "outputs": [
        {
          "output_type": "stream",
          "name": "stdout",
          "text": [
            "['Mohan', 'dash', 'karam', 'chandra', 'gandhi', 'Bapuji']\n"
          ]
        }
      ]
    },
    {
      "cell_type": "markdown",
      "source": [
        "### Question 1.4.Find the output of the following.\n",
        "\n",
        "animal = ['Human','cat','mat','cat','rat','Human', 'Lion']\n",
        "\n",
        "print(animal.count('Human'))\n",
        "\n",
        "print(animal.index('rat'))\n",
        "\n",
        "print(len(animal))"
      ],
      "metadata": {
        "id": "TL7gN3lLzQBU"
      },
      "id": "TL7gN3lLzQBU"
    },
    {
      "cell_type": "code",
      "source": [
        "animal = ['Human', 'cat', 'mat', 'cat', 'rat', 'Human', 'lion']\n",
        "print(animal.count('Human'))\n",
        "print(animal.index('rat'))\n",
        "print(len(animal))"
      ],
      "metadata": {
        "colab": {
          "base_uri": "https://localhost:8080/"
        },
        "id": "2xX9drZ30FpC",
        "outputId": "6f14ad5c-6473-4f32-bd28-1504e57906a5"
      },
      "id": "2xX9drZ30FpC",
      "execution_count": null,
      "outputs": [
        {
          "output_type": "stream",
          "name": "stdout",
          "text": [
            "2\n",
            "4\n",
            "7\n"
          ]
        }
      ]
    },
    {
      "cell_type": "markdown",
      "source": [
        "### Question 1.5. tuple1=(10,20,\"Apple\",3.4,'a',[\"master\",\"ji\"],(\"sita\",\"geeta\",22),[{\"roll_no\":1},{\"name\":\"Navneet\"}])\n",
        "\n",
        "a)print(len(tuple1))\n",
        "\n",
        "b)print(tuple1[-1][-1][\"name\"])\n",
        "\n",
        "c)fetch the value of roll_no from this tuple.\n",
        "\n",
        "d)print(tuple1[-3][1])\n",
        "\n",
        "e)fetch the element \"22\" from this tuple."
      ],
      "metadata": {
        "id": "VKsBI8cU0P9o"
      },
      "id": "VKsBI8cU0P9o"
    },
    {
      "cell_type": "code",
      "source": [
        " tuple1=(10,20,\"Apple\",3.4,'a',[\"master\",\"ji\"],(\"sita\",\"geeta\",22),[{\"roll_no\":1},\n",
        "{\"name\":\"Navneet\"}])\n",
        "\n",
        "\n",
        "\n",
        "print(len(tuple1))\n",
        "\n",
        "print(tuple1[-1][-1]['name'])\n",
        "\n",
        "print(tuple1[-1][0][\"roll_no\"])\n",
        "\n",
        "print(tuple1[-3][1])\n",
        "\n",
        "print(tuple1[-2][-1])"
      ],
      "metadata": {
        "colab": {
          "base_uri": "https://localhost:8080/"
        },
        "id": "7lPgB6nD0emC",
        "outputId": "2f9e0cd0-93b1-4c0e-9bd2-a39d2f361c05"
      },
      "id": "7lPgB6nD0emC",
      "execution_count": null,
      "outputs": [
        {
          "output_type": "stream",
          "name": "stdout",
          "text": [
            "8\n",
            "Navneet\n",
            "1\n",
            "ji\n",
            "22\n"
          ]
        }
      ]
    },
    {
      "cell_type": "markdown",
      "source": [
        "Question 1.6. Write a program to display the appropriate message as per the color of signal(RED-Stop/Yellow-Stay/\n",
        "Green-Go) at the road crossing."
      ],
      "metadata": {
        "id": "KA_yT8f_2hti"
      },
      "id": "KA_yT8f_2hti"
    },
    {
      "cell_type": "code",
      "source": [
        "signal_color = input(\"Enter the signal color (RED/YELLOW/GREEN): \").upper()\n",
        "\n",
        "if signal_color == \"RED\":\n",
        "    print(\"STOP\")\n",
        "elif signal_color == \"YELLOW\":\n",
        "    print(\"STAY\")\n",
        "elif signal_color == \"GREEN\":\n",
        "    print(\"GO\")\n",
        "else:\n",
        "    print(\"Invalid signal color\")"
      ],
      "metadata": {
        "colab": {
          "base_uri": "https://localhost:8080/"
        },
        "id": "HCqc_fin2bdk",
        "outputId": "a366d89e-89ba-478a-ab22-759a2ea35931"
      },
      "id": "HCqc_fin2bdk",
      "execution_count": null,
      "outputs": [
        {
          "output_type": "stream",
          "name": "stdout",
          "text": [
            "Enter the signal color (RED/YELLOW/GREEN): red\n",
            "STOP\n"
          ]
        }
      ]
    },
    {
      "cell_type": "markdown",
      "source": [
        "Question 1.7. Write a program to create a simple calculator performing only four basic operations(+,-,/,*) ."
      ],
      "metadata": {
        "id": "uXnpovig265Y"
      },
      "id": "uXnpovig265Y"
    },
    {
      "cell_type": "code",
      "source": [
        "def calculator():\n",
        "    num1 = float(input(\"Enter first number: \"))\n",
        "    operator = input(\"Enter operator (+, -, *, /): \")\n",
        "    num2 = float(input(\"Enter second number: \"))\n",
        "\n",
        "    if operator == '+':\n",
        "        print(num1 + num2)\n",
        "    elif operator == '-':\n",
        "        print(num1 - num2)\n",
        "    elif operator == '*':\n",
        "        print(num1 * num2)\n",
        "    elif operator == '/':\n",
        "        print(num1 / num2)\n",
        "    else:\n",
        "        print(\"Invalid operator\")\n",
        "\n",
        "calculator()"
      ],
      "metadata": {
        "colab": {
          "base_uri": "https://localhost:8080/"
        },
        "id": "pp5cmPW63CSb",
        "outputId": "381d0cc5-0196-4d3a-b6c1-2c507b78c7f9"
      },
      "id": "pp5cmPW63CSb",
      "execution_count": null,
      "outputs": [
        {
          "output_type": "stream",
          "name": "stdout",
          "text": [
            "Enter first number: 5\n",
            "Enter operator (+, -, *, /): +\n",
            "Enter second number: 5\n",
            "10.0\n"
          ]
        }
      ]
    },
    {
      "cell_type": "markdown",
      "source": [
        "1.8. Write a program to find the larger of the three pre-specified numbers using ternary operators."
      ],
      "metadata": {
        "id": "VZQ8Dp023Tse"
      },
      "id": "VZQ8Dp023Tse"
    },
    {
      "cell_type": "code",
      "source": [
        "\n",
        "\n",
        "num1 = 10\n",
        "num2 = 20\n",
        "num3 = 15\n",
        "\n",
        "largest = num1 if num1 > num2 and num1 > num3 else (num2 if num2 > num3 else num3)\n",
        "\n",
        "print(f\"The largest number is: {largest}\")\n"
      ],
      "metadata": {
        "colab": {
          "base_uri": "https://localhost:8080/"
        },
        "id": "lzhACGhO3bDG",
        "outputId": "a7d767ae-ce88-4b5a-8726-de8bbb1deeac"
      },
      "id": "lzhACGhO3bDG",
      "execution_count": null,
      "outputs": [
        {
          "output_type": "stream",
          "name": "stdout",
          "text": [
            "The largest number is: 20\n"
          ]
        }
      ]
    },
    {
      "cell_type": "markdown",
      "source": [
        "1.9.  Write a program to find the factors of a whole number  using a while loop."
      ],
      "metadata": {
        "id": "X6qQpStk3q1c"
      },
      "id": "X6qQpStk3q1c"
    },
    {
      "cell_type": "code",
      "source": [
        "\n",
        "\n",
        "num = int(input(\"Enter a number: \"))\n",
        "i = 1\n",
        "while i <= num:\n",
        "    if num % i == 0:\n",
        "        print(i)\n",
        "    i += 1\n",
        "\n"
      ],
      "metadata": {
        "colab": {
          "base_uri": "https://localhost:8080/"
        },
        "id": "oV_vkKuu3uVs",
        "outputId": "38d7c3cc-b531-4fba-e5ee-06ae68969790"
      },
      "id": "oV_vkKuu3uVs",
      "execution_count": null,
      "outputs": [
        {
          "output_type": "stream",
          "name": "stdout",
          "text": [
            "Enter a number: 5\n",
            "1\n",
            "5\n"
          ]
        }
      ]
    },
    {
      "cell_type": "markdown",
      "source": [
        "1.10.  Write a program to find the sum of all the positive numbers entered by the user. As soon as the user\n",
        "enters a negative number, stop taking in any further input from the user and display the sum ."
      ],
      "metadata": {
        "id": "HTwETicL4aye"
      },
      "id": "HTwETicL4aye"
    },
    {
      "cell_type": "code",
      "source": [
        "total = 0\n",
        "while True:\n",
        "    num = int(input(\"Enter a number (negative to stop): \"))\n",
        "    if num < 0:\n",
        "        break\n",
        "    total += num\n",
        "print(\"Sum of positive numbers:\", total)"
      ],
      "metadata": {
        "colab": {
          "base_uri": "https://localhost:8080/"
        },
        "id": "iRVNFcnc4cT7",
        "outputId": "c579ae53-0020-450a-daa9-d7fdb40453e7"
      },
      "id": "iRVNFcnc4cT7",
      "execution_count": null,
      "outputs": [
        {
          "output_type": "stream",
          "name": "stdout",
          "text": [
            "Enter a number (negative to stop): 5\n",
            "Enter a number (negative to stop): 5\n",
            "Enter a number (negative to stop): -2\n",
            "Sum of positive numbers: 10\n"
          ]
        }
      ]
    },
    {
      "cell_type": "markdown",
      "source": [
        "1.11.   Write a program to find prime numbers between 2 to 100 using nested for loops."
      ],
      "metadata": {
        "id": "XyOh6K2E4unY"
      },
      "id": "XyOh6K2E4unY"
    },
    {
      "cell_type": "code",
      "source": [
        "for num in range(2, 101):\n",
        "    is_prime = True\n",
        "    for i in range(2, int(num**0.5) + 1):\n",
        "        if num % i == 0:\n",
        "            is_prime = False\n",
        "            break\n",
        "    if is_prime:\n",
        "        print(num)"
      ],
      "metadata": {
        "collapsed": true,
        "id": "Lqau3Sj94zXl"
      },
      "id": "Lqau3Sj94zXl",
      "execution_count": null,
      "outputs": []
    },
    {
      "cell_type": "markdown",
      "source": [
        "###1.12 Write the  programs for the following\n",
        "\n",
        "*   Accept the marks of the student in five major subjects and display the sameS\n",
        "\n",
        "*   Calculate the sum of the marks of all subjects.Divide the total marks by number of subjects (i.e. 5), calculate percentage = total marks/5 and display the percentage\n",
        "\n",
        "*   Find the grade of the student as per the following criteria .\n",
        "\n",
        "\n",
        "**Criteria **                                        **Grade**\n",
        "\n",
        "percentage > 85                             -  A\n",
        "\n",
        "percentage < 85 && percentage >= 75          - B\n",
        "\n",
        "percentage < 75 && percentage >= 50          - C\n",
        "\n",
        "percentage > 30 && percentage <= 50          - D\n",
        "\n",
        "percentage <30                           -   Reappear\n",
        "\n",
        "\n"
      ],
      "metadata": {
        "id": "JxAAlTdX6qEZ"
      },
      "id": "JxAAlTdX6qEZ"
    },
    {
      "cell_type": "code",
      "source": [
        "marks = [int(input(f\"Enter marks for subject {i+1}: \")) for i in range(5)]\n",
        "total = sum(marks)\n",
        "percentage = total / 5\n",
        "\n",
        "print(\"Total Marks:\", total)\n",
        "print(\"Percentage:\", percentage)\n",
        "\n",
        "if percentage > 85:\n",
        "    grade = 'A'\n",
        "elif 75 <= percentage <= 85:\n",
        "    grade = 'B'\n",
        "elif 50 <= percentage < 75:\n",
        "    grade = 'C'\n",
        "elif 30 <= percentage < 50:\n",
        "    grade = 'D'\n",
        "else:\n",
        "    grade = 'Reappear'\n",
        "\n",
        "print(\"Grade:\", grade)4"
      ],
      "metadata": {
        "colab": {
          "base_uri": "https://localhost:8080/"
        },
        "id": "rfCGgR0S9lIU",
        "outputId": "6fd2dbbf-0414-4866-eede-dffda41a1e9f"
      },
      "id": "rfCGgR0S9lIU",
      "execution_count": null,
      "outputs": [
        {
          "output_type": "stream",
          "name": "stdout",
          "text": [
            "Enter marks for subject 1: 50\n",
            "Enter marks for subject 2: 4\n",
            "Enter marks for subject 3: 62\n",
            "Enter marks for subject 4: 74\n",
            "Enter marks for subject 5: 99\n",
            "Total Marks: 289\n",
            "Percentage: 57.8\n",
            "Grade: C\n"
          ]
        }
      ]
    },
    {
      "cell_type": "markdown",
      "source": [
        " 1.13. Write a program for VIBGYOR Spectrum based on their Wavelength using.\n",
        "\n",
        "Wavelength Range:\n",
        "\n",
        "\n",
        "**COLOR**                                          **WAVELENGTH (nm)**\n",
        "\n",
        "Violet                  -                        400.0-440.0\n",
        "\n",
        "Indigo        -                                  440.0-460.0\n",
        "\n",
        "Blue           -                                 460.0-500.0\n",
        "\n",
        "Green          -                              500.0-570.0\n",
        "\n",
        "Yellow          -                                570.0-590.0\n",
        "\n",
        "Orange          -                                590.0-620.0\n",
        "\n",
        "Red            -                                 620.0-720.0"
      ],
      "metadata": {
        "id": "PhyMmcbqK2G9"
      },
      "id": "PhyMmcbqK2G9"
    },
    {
      "cell_type": "code",
      "source": [
        "wavelength = float(input(\"Enter wavelength (nm): \"))\n",
        "\n",
        "if 400.0 <= wavelength < 440.0:\n",
        "    print(\"Violet\")\n",
        "elif 440.0 <= wavelength < 460.0:\n",
        "    print(\"Indigo\")\n",
        "elif 460.0 <= wavelength < 500.0:\n",
        "    print(\"Blue\")\n",
        "elif 500.0 <= wavelength < 570.0:\n",
        "    print(\"Green\")\n",
        "elif 570.0 <= wavelength < 590.0:\n",
        "    print(\"Yellow\")\n",
        "elif 590.0 <= wavelength < 620.0:\n",
        "    print(\"Orange\")\n",
        "elif 620.0 <= wavelength <= 720.0:\n",
        "    print(\"Red\")\n",
        "else:\n",
        "    print(\"Wavelength out of VIBGYOR range\")"
      ],
      "metadata": {
        "colab": {
          "base_uri": "https://localhost:8080/"
        },
        "id": "gqUi3luuOMMA",
        "outputId": "567cd388-3634-4411-d7db-7d85c65bffe2"
      },
      "id": "gqUi3luuOMMA",
      "execution_count": null,
      "outputs": [
        {
          "output_type": "stream",
          "name": "stdout",
          "text": [
            "Enter wavelength (nm): 621\n",
            "Red\n"
          ]
        }
      ]
    },
    {
      "cell_type": "markdown",
      "source": [
        "### 1.14.Consider the gravitational interactions between the Earth, Moon, and Sun in our solar system.\n",
        "\n",
        "Given:\n",
        "\n",
        "mass_earth = 5.972e24  # Mass of Earth in kilograms\n",
        "\n",
        "mass_moon = 7.34767309e22  # Mass of Moon in kilograms\n",
        "\n",
        "mass_sun = 1.989e30  # Mass of Sun in kilograms\n",
        "\n",
        "\n",
        "distance_earth_sun = 1.496e11  # Average distance between Earth and Sun in meters\n",
        "\n",
        "distance_moon_earth = 3.844e8  # Average distance between Moon and Earth in meters\n",
        "\n",
        "\n",
        "Tasks:\n",
        "\n",
        "*   Calculate the gravitational force between the Earth and the Sun\n",
        "*   Calculate the gravitational force between the Moon and the Earth\n",
        "*   Compare the calculated forces to determine which gravitational force is stronger\n",
        "*   Explain which celestial body (Earth or Moon) is more attracted to the other based on the comparison"
      ],
      "metadata": {
        "id": "n47FEfd7ORYj"
      },
      "id": "n47FEfd7ORYj"
    },
    {
      "cell_type": "code",
      "source": [
        "G = 6.67430e-11  # Gravitational constant\n",
        "\n",
        "mass_earth = 5.972e24\n",
        "mass_moon = 7.34767309e22\n",
        "mass_sun = 1.989e30\n",
        "\n",
        "distance_earth_sun = 1.496e11\n",
        "distance_moon_earth = 3.844e8\n",
        "\n",
        "# Gravitational force between Earth and Sun\n",
        "force_earth_sun = G * mass_earth * mass_sun / distance_earth_sun**2\n",
        "\n",
        "# Gravitational force between Moon and Earth\n",
        "force_moon_earth = G * mass_moon * mass_earth / distance_moon_earth**2\n",
        "\n",
        "print(\"Force between Earth and Sun:\", force_earth_sun)\n",
        "print(\"Force between Moon and Earth:\", force_moon_earth)\n",
        "\n",
        "if force_earth_sun > force_moon_earth:\n",
        "    print(\"Earth is more attracted to the Sun.\")\n",
        "else:\n",
        "    print(\"Earth is more attracted to the Moon.\")"
      ],
      "metadata": {
        "colab": {
          "base_uri": "https://localhost:8080/"
        },
        "id": "tPoDZQHpPYVf",
        "outputId": "1ac89d7d-aca1-4545-999c-cfc915e79050"
      },
      "id": "tPoDZQHpPYVf",
      "execution_count": null,
      "outputs": [
        {
          "output_type": "stream",
          "name": "stdout",
          "text": [
            "Force between Earth and Sun: 3.5423960813684973e+22\n",
            "Force between Moon and Earth: 1.982022545652681e+20\n",
            "Earth is more attracted to the Sun.\n"
          ]
        }
      ]
    },
    {
      "cell_type": "markdown",
      "source": [
        "### 2. Design and implement a Python program for managing student information using object-oriented principles. Create a class called `Student` with encapsulated attributes for name, age, and roll number.Implement getter and setter methods for these attributes. Additionally, provide methods to display student information and update student details.\n",
        "\n",
        "\n",
        "Tasks:\n",
        "> .Define the `Student` class with encapsulated attributes\n",
        "\n",
        "> .Implement getter and setter methods for the attributes\n",
        "\n",
        ">. Write methods to display student information and update details\n",
        "\n",
        "> .Create instances of the `Student` class and test the implemented functionality."
      ],
      "metadata": {
        "id": "6nP1YX_IPxCW"
      },
      "id": "6nP1YX_IPxCW"
    },
    {
      "cell_type": "code",
      "source": [
        "class Student:\n",
        "    def __init__(self, name, age, roll_no):\n",
        "        self.__name = name\n",
        "        self.__age = age\n",
        "        self.__roll_no = roll_no\n",
        "\n",
        "    def get_name(self):\n",
        "        return self.__name\n",
        "\n",
        "    def set_name(self, name):\n",
        "        self.__name = name\n",
        "\n",
        "    def get_age(self):\n",
        "        return self.__age\n",
        "\n",
        "    def set_age(self, age):\n",
        "        self.__age = age\n",
        "\n",
        "    def get_roll_no(self):\n",
        "        return self.__roll_no\n",
        "\n",
        "    def set_roll_no(self, roll_no):\n",
        "        self.__roll_no = roll_no\n",
        "\n",
        "    def display_info(self):\n",
        "        print(f\"Name: {self.__name}, Age: {self.__age}, Roll No: {self.__roll_no}\")\n",
        "\n",
        "\n",
        "    # Testing the class\n",
        "student1 = Student(\"Alice\", 20, 101)\n",
        "student1.display_info()\n",
        "student1.set_name(\"Bob\")\n",
        "student1.display_info()"
      ],
      "metadata": {
        "colab": {
          "base_uri": "https://localhost:8080/"
        },
        "id": "vjyNZItWRsYb",
        "outputId": "d45e6d15-4d0e-42c5-8a93-64c199606d66"
      },
      "id": "vjyNZItWRsYb",
      "execution_count": null,
      "outputs": [
        {
          "output_type": "stream",
          "name": "stdout",
          "text": [
            "Name: Alice, Age: 20, Roll No: 101\n",
            "Name: Bob, Age: 20, Roll No: 101\n"
          ]
        }
      ]
    },
    {
      "cell_type": "markdown",
      "source": [
        "3.Develop a Python program for managing library resources efficiently. Design a class named `LibraryBook`\n",
        "with attributes like book name, author, and availability status. Implement methods for borrowing and\n",
        "returning books while ensuring proper encapsulation of attributes.\n",
        "\n",
        "\n",
        "Tasks\n",
        " 1. Create the `LibraryBook` class with encapsulated attributes\n",
        " 2. Implement methods for borrowing and returning books\n",
        " 3. Ensure proper encapsulation to protect book details\n",
        " 4. Test the borrowing and returning functionality with sample data.\n",
        "\n",
        "\n"
      ],
      "metadata": {
        "id": "nyMYlgklR_OG"
      },
      "id": "nyMYlgklR_OG"
    },
    {
      "cell_type": "code",
      "source": [
        "class LibraryBook:\n",
        "    def __init__(self, book_name, author):\n",
        "        self.__book_name = book_name\n",
        "        self.__author = author\n",
        "        self.__available = True\n",
        "\n",
        "    def borrow_book(self):\n",
        "        if self.__available:\n",
        "            self.__available = False\n",
        "            print(f\"Book '{self.__book_name}' borrowed.\")\n",
        "        else:\n",
        "            print(\"Book is not available.\")\n",
        "\n",
        "    def return_book(self):\n",
        "        self.__available = True\n",
        "        print(f\"Book '{self.__book_name}' returned.\")\n",
        "\n",
        "    def display_status(self):\n",
        "        status = \"Available\" if self.__available else \"Not Available\"\n",
        "        print(f\"Book: {self.__book_name}, Author: {self.__author}, Status: {status}\")\n",
        "\n",
        "# Testing the class\n",
        "book1 = LibraryBook(\"Python Programming\", \"John Doe\")\n",
        "book1.display_status()\n",
        "book1.borrow_book()\n",
        "book1.display_status()\n",
        "book1.return_book()\n",
        "book1.display_status()"
      ],
      "metadata": {
        "colab": {
          "base_uri": "https://localhost:8080/"
        },
        "id": "r1bdthYDSZuo",
        "outputId": "9506139f-d965-4e60-bb73-3c0f2165ab60"
      },
      "id": "r1bdthYDSZuo",
      "execution_count": null,
      "outputs": [
        {
          "output_type": "stream",
          "name": "stdout",
          "text": [
            "Book: Python Programming, Author: John Doe, Status: Available\n",
            "Book 'Python Programming' borrowed.\n",
            "Book: Python Programming, Author: John Doe, Status: Not Available\n",
            "Book 'Python Programming' returned.\n",
            "Book: Python Programming, Author: John Doe, Status: Available\n"
          ]
        }
      ]
    },
    {
      "cell_type": "markdown",
      "source": [
        "4.Create a simple banking system using object-oriented concepts in Python. Design classes representing\n",
        "different types of bank accounts such as savings and checking. Implement methods for deposit, withdraw,\n",
        "and balance inquiry. Utilize inheritance to manage different account types efficiently.\n",
        "\n",
        "\n",
        "Tasks:\n",
        " 1. Define base class(es) for bank accounts with common attributes and methods\n",
        " 2. Implement subclasses for specific account types (e.g., SavingsAccount, CheckingAccount)\n",
        " 3. Provide methods for deposit, withdraw, and balance inquiry in each subclass\n",
        " 4. Test the banking system by creating instances of different account types and performing transactions."
      ],
      "metadata": {
        "id": "SCt8-qBwSgWN"
      },
      "id": "SCt8-qBwSgWN"
    },
    {
      "cell_type": "code",
      "source": [
        "class BankAccount:\n",
        "    def __init__(self, account_number, balance=0):\n",
        "        self.__account_number = account_number\n",
        "        self.__balance = balance\n",
        "\n",
        "    def deposit(self, amount):\n",
        "        self.__balance += amount\n",
        "        print(f\"Deposited {amount}. New balance: {self.__balance}\")\n",
        "\n",
        "    def withdraw(self, amount):\n",
        "        if amount > self.__balance:\n",
        "            print(\"Insufficient funds.\")\n",
        "        else:\n",
        "            self.__balance -= amount\n",
        "            print(f\"Withdrew {amount}. New balance: {self.__balance}\")\n",
        "\n",
        "    def get_balance(self):\n",
        "        return self.__balance\n",
        "\n",
        "class SavingsAccount(BankAccount):\n",
        "    def __init__(self, account_number, balance=0, interest_rate=0.01):\n",
        "        super().__init__(account_number, balance)\n",
        "        self.__interest_rate = interest_rate\n",
        "\n",
        "    def add_interest(self):\n",
        "        interest = self.get_balance() * self.__interest_rate\n",
        "        self.deposit(interest)\n",
        "        print(f\"Interest added: {interest}\")\n",
        "\n",
        "class CheckingAccount(BankAccount):\n",
        "    def __init__(self, account_number, balance=0, overdraft_limit=100):\n",
        "        super().__init__(account_number, balance)\n",
        "        self.__overdraft_limit = overdraft_limit\n",
        "\n",
        "    def withdraw(self, amount):\n",
        "        if amount > (self.get_balance() + self.__overdraft_limit):\n",
        "            print(\"Overdraft limit exceeded.\")\n",
        "        else:\n",
        "            super().withdraw(amount)\n",
        "\n",
        "# Testing the classes\n",
        "savings = SavingsAccount(\"SA001\", 1000)\n",
        "savings.add_interest()\n",
        "savings.withdraw(500)\n",
        "\n",
        "checking = CheckingAccount(\"CA001\", 500)\n",
        "checking.withdraw(600)\n"
      ],
      "metadata": {
        "colab": {
          "base_uri": "https://localhost:8080/"
        },
        "id": "TEfQEWuASfil",
        "outputId": "f58960f0-70b0-4156-947c-fc2a4882e364"
      },
      "id": "TEfQEWuASfil",
      "execution_count": null,
      "outputs": [
        {
          "output_type": "stream",
          "name": "stdout",
          "text": [
            "Deposited 10.0. New balance: 1010.0\n",
            "Interest added: 10.0\n",
            "Withdrew 500. New balance: 510.0\n",
            "Insufficient funds.\n"
          ]
        }
      ]
    },
    {
      "cell_type": "markdown",
      "source": [
        "5.Write a Python program that models different animals and their sounds. Design a base class called\n",
        "`Animal` with a method `make_sound()`. Create subclasses like `Dog` and `Cat` that override the\n",
        "`make_sound()` method to produce appropriate sounds.\n",
        "\n",
        "\n",
        "Tasks:\n",
        " 1. Define the `Animal` class with a method `make_sound()`\n",
        " 2. Create subclasses `Dog` and `Cat` that override the `make_sound()` method\n",
        " 3. Implement the sound generation logic for each subclass\n",
        " 4. Test the program by creating instances of `Dog` and `Cat` and calling the `make_sound()` method."
      ],
      "metadata": {
        "id": "k7-RchilS0gB"
      },
      "id": "k7-RchilS0gB"
    },
    {
      "cell_type": "code",
      "source": [
        "class Animal:\n",
        "    def make_sound(self):\n",
        "        pass\n",
        "\n",
        "class Dog(Animal):\n",
        "    def make_sound(self):\n",
        "        print(\"Bark\")\n",
        "\n",
        "class Cat(Animal):\n",
        "    def make_sound(self):\n",
        "        print(\"Meow\")\n",
        "\n",
        "# Testing the classes\n",
        "dog = Dog()\n",
        "cat = Cat()\n",
        "dog.make_sound()\n",
        "cat.make_sound()"
      ],
      "metadata": {
        "colab": {
          "base_uri": "https://localhost:8080/"
        },
        "id": "5OiOi5qoTEgc",
        "outputId": "f7628fb3-00f6-451a-e59d-f9dcde6723d1"
      },
      "id": "5OiOi5qoTEgc",
      "execution_count": null,
      "outputs": [
        {
          "output_type": "stream",
          "name": "stdout",
          "text": [
            "Bark\n",
            "Meow\n"
          ]
        }
      ]
    },
    {
      "cell_type": "markdown",
      "source": [
        "**6.Write a code for Restaurant Management System Using OOPS:**\n",
        "\n",
        " 1.Create a MenuItem class that has attributes such as name, description, price, and category\n",
        "\n",
        "2 Implement methods to add a new menu item, update menu item information, and remove a menu item from the menu\n",
        "\n",
        "3 Use encapsulation to hide the menu item's unique identification number\n",
        "\n",
        "4 Inherit from the MenuItem class to create a FoodItem class and a BeverageItem class, each with their own specific attributes and methods"
      ],
      "metadata": {
        "id": "8fE3Anr6Tbp-"
      },
      "id": "8fE3Anr6Tbp-"
    },
    {
      "cell_type": "code",
      "source": [
        "class MenuItem:\n",
        "    def __init__(self, name, description, price, category):\n",
        "        self.__name = name\n",
        "        self.__description = description\n",
        "        self.__price = price\n",
        "        self.__category = category\n",
        "        self.__id = id(self)\n",
        "\n",
        "    def get_name(self):\n",
        "        return self.__name\n",
        "\n",
        "    def set_name(self, name):\n",
        "        self.__name = name\n",
        "\n",
        "    def get_description(self):\n",
        "        return self.__description\n",
        "\n",
        "    def set_description(self, description):\n",
        "        self.__description = description\n",
        "\n",
        "    def get_price(self):\n",
        "        return self.__price\n",
        "\n",
        "    def set_price(self, price):\n",
        "        self.__price = price\n",
        "\n",
        "    def get_category(self):\n",
        "        return self.__category\n",
        "\n",
        "    def set_category(self, category):\n",
        "        self.__category = category\n",
        "\n",
        "    def display_info(self):\n",
        "        print(f\"ID: {self.__id}, Name: {self.__name}, Description: {self.__description}, Price: {self.__price}, Category: {self.__category}\")\n",
        "\n",
        "class FoodItem(MenuItem):\n",
        "    def __init__(self, name, description, price, category, cuisine):\n",
        "        super().__init__(name, description, price, category)\n",
        "        self.__cuisine = cuisine\n",
        "\n",
        "    def get_cuisine(self):\n",
        "        return self.__cuisine\n",
        "\n",
        "    def set_cuisine(self, cuisine):\n",
        "        self.__cuisine = cuisine\n",
        "\n",
        "    def display_info(self):\n",
        "        super().display_info()\n",
        "        print(f\"Cuisine: {self.__cuisine}\")\n",
        "\n",
        "class BeverageItem(MenuItem):\n",
        "    def __init__(self, name, description, price, category, size):\n",
        "        super().__init__(name, description, price, category)\n",
        "        self.__size = size\n",
        "\n",
        "    def get_size(self):\n",
        "        return self.__size\n",
        "\n",
        "    def set_size(self, size):\n",
        "        self.__size = size\n",
        "\n",
        "    def display_info(self):\n",
        "        super().display_info()\n",
        "        print(f\"Size: {self.__size}\")\n",
        "\n",
        "# Testing the classes\n",
        "food = FoodItem(\"Pizza\", \"Cheese Pizza\", 10.99, \"Main Course\", \"Italian\")\n",
        "beverage = BeverageItem(\"Coke\", \"Cold Drink\", 1.99, \"Beverage\", \"Large\")\n",
        "food.display_info()\n",
        "beverage.display_info()"
      ],
      "metadata": {
        "colab": {
          "base_uri": "https://localhost:8080/"
        },
        "id": "LMUd6nO3T5vC",
        "outputId": "af6315e7-5072-49a9-9463-6c8b4eedf132"
      },
      "id": "LMUd6nO3T5vC",
      "execution_count": null,
      "outputs": [
        {
          "output_type": "stream",
          "name": "stdout",
          "text": [
            "ID: 138856567613456, Name: Pizza, Description: Cheese Pizza, Price: 10.99, Category: Main Course\n",
            "Cuisine: Italian\n",
            "ID: 138856567613712, Name: Coke, Description: Cold Drink, Price: 1.99, Category: Beverage\n",
            "Size: Large\n"
          ]
        }
      ]
    },
    {
      "cell_type": "markdown",
      "source": [
        "**7.Write a code for  Hotel Management System using OOPS:**\n",
        "\n",
        "1 Create a Room class that has attributes such as room number, room type, rate, and availability (private)\n",
        "\n",
        "2  Implement methods to book a room, check in a guest, and check out a guest\n",
        "\n",
        "3 Use encapsulation to hide the room's unique identification number\n",
        "\n",
        "\n",
        "4 Inherit from the Room class to create a SuiteRoom class and a StandardRoom class, each with their own specific attributes and methods."
      ],
      "metadata": {
        "id": "DuWP2v9VUIE4"
      },
      "id": "DuWP2v9VUIE4"
    },
    {
      "cell_type": "code",
      "source": [
        "class Room:\n",
        "    def __init__(self, room_number, room_type, rate):\n",
        "        self.__room_number = room_number\n",
        "        self.__room_type = room_type\n",
        "        self.__rate = rate\n",
        "        self.__available = True\n",
        "\n",
        "    def book_room(self):\n",
        "        if self.__available:\n",
        "            self.__available = False\n",
        "            print(f\"Room {self.__room_number} booked.\")\n",
        "        else:\n",
        "            print(\"Room is not available.\")\n",
        "\n",
        "    def check_in(self):\n",
        "        if not self.__available:\n",
        "            print(f\"Guest checked into Room {self.__room_number}.\")\n",
        "        else:\n",
        "            print(\"Room is not booked.\")\n",
        "\n",
        "    def check_out(self):\n",
        "        self.__available = True\n",
        "        print(f\"Guest checked out of Room {self.__room_number}.\")\n",
        "\n",
        "    def display_status(self):\n",
        "        status = \"Available\" if self.__available else \"Booked\"\n",
        "        print(f\"Room Number: {self.__room_number}, Type: {self.__room_type}, Rate: {self.__rate}, Status: {status}\")\n",
        "\n",
        "class SuiteRoom(Room):\n",
        "    def __init__(self, room_number, rate, amenities):\n",
        "        super().__init__(room_number, \"Suite\", rate)\n",
        "        self.__amenities = amenities\n",
        "\n",
        "    def display_amenities(self):\n",
        "        print(f\"Amenities: {self.__amenities}\")\n",
        "\n",
        "class StandardRoom(Room):\n",
        "    def __init__(self, room_number, rate):\n",
        "        super().__init__(room_number, \"Standard\", rate)\n",
        "\n",
        "# Testing the classes\n",
        "suite = SuiteRoom(101, 200, [\"Jacuzzi\", \"Mini Bar\"])\n",
        "standard = StandardRoom(102, 100)\n",
        "suite.display_status()\n",
        "suite.book_room()\n",
        "suite.check_in()\n",
        "suite.check_out()"
      ],
      "metadata": {
        "colab": {
          "base_uri": "https://localhost:8080/"
        },
        "id": "TMJhf3pwUa67",
        "outputId": "6099f648-b848-4672-edff-b415777b79e3"
      },
      "id": "TMJhf3pwUa67",
      "execution_count": null,
      "outputs": [
        {
          "output_type": "stream",
          "name": "stdout",
          "text": [
            "Room Number: 101, Type: Suite, Rate: 200, Status: Available\n",
            "Room 101 booked.\n",
            "Guest checked into Room 101.\n",
            "Guest checked out of Room 101.\n"
          ]
        }
      ]
    },
    {
      "cell_type": "markdown",
      "source": [
        "### 8.Write a code for  Fitness Club Management System using OOPS:\n",
        "\n",
        "1 Create a Member class that has attributes such as name, age, membership type, and membership status\n",
        "(private)\n",
        "\n",
        "2 Implement methods to register a new member, renew a membership, and cancel a membership\n",
        "\n",
        "3 Use encapsulation to hide the member's unique identification number\n",
        "\n",
        "4 Inherit from the Member class to create a FamilyMember class and an IndividualMember class, each with their own specific attributes and methods"
      ],
      "metadata": {
        "id": "oo0m0Lo7UmYe"
      },
      "id": "oo0m0Lo7UmYe"
    },
    {
      "cell_type": "code",
      "source": [
        "class Member:\n",
        "    def __init__(self, name, age, membership_type):\n",
        "        self.__name = name\n",
        "        self.__age = age\n",
        "        self.__membership_type = membership_type\n",
        "        self.__membership_status = \"Active\"\n",
        "\n",
        "    def register_member(self):\n",
        "        print(f\"Member {self.__name} registered.\")\n",
        "\n",
        "    def renew_membership(self):\n",
        "        self.__membership_status = \"Active\"\n",
        "        print(f\"Membership for {self.__name} renewed.\")\n",
        "\n",
        "    def cancel_membership(self):\n",
        "        self.__membership_status = \"Inactive\"\n",
        "        print(f\"Membership for {self.__name} cancelled.\")\n",
        "\n",
        "    def display_info(self):\n",
        "        print(f\"Name: {self.__name}, Age: {self.__age}, Membership Type: {self.__membership_type}, Status: {self.__membership_status}\")\n",
        "\n",
        "class FamilyMember(Member):\n",
        "    def __init__(self, name, age, membership_type, family_size):\n",
        "        super().__init__(name, age, membership_type)\n",
        "        self.__family_size = family_size\n",
        "\n",
        "    def display_family_size(self):\n",
        "        print(f\"Family Size: {self.__family_size}\")\n",
        "\n",
        "class IndividualMember(Member):\n",
        "    def __init__(self, name, age, membership_type):\n",
        "        super().__init__(name, age, membership_type)\n",
        "\n",
        "# Testing the classes\n",
        "family_member = FamilyMember(\"John Doe\", 35, \"Family\", 4)\n",
        "individual_member = IndividualMember(\"Jane Doe\", 25, \"Individual\")\n",
        "family_member.register_member()\n",
        "individual_member.renew_membership()\n",
        "family_member.display_info()\n",
        "individual_member.display_info()"
      ],
      "metadata": {
        "colab": {
          "base_uri": "https://localhost:8080/"
        },
        "id": "EDVCnSmAU_Vk",
        "outputId": "979c40c9-e390-4acb-a234-080e98c2724e"
      },
      "id": "EDVCnSmAU_Vk",
      "execution_count": null,
      "outputs": [
        {
          "output_type": "stream",
          "name": "stdout",
          "text": [
            "Member John Doe registered.\n",
            "Membership for Jane Doe renewed.\n",
            "Name: John Doe, Age: 35, Membership Type: Family, Status: Active\n",
            "Name: Jane Doe, Age: 25, Membership Type: Individual, Status: Active\n"
          ]
        }
      ]
    },
    {
      "cell_type": "markdown",
      "source": [
        "### 9.Write a code for  Event Management System using OOPS:\n",
        "\n",
        "1 Create an Event class that has attributes such as name, date, time, location, and list of attendees (private)\n",
        "\n",
        "2 Implement methods to create a new event, add or remove attendees, and get the total number of attendees\n",
        "\n",
        "3 Use encapsulation to hide the event's unique identification number\n",
        "\n",
        "4 Inherit from the Event class to create a PrivateEvent class and a PublicEvent class, each with their own specific attributes and methods."
      ],
      "metadata": {
        "id": "VYgk52q4VCvb"
      },
      "id": "VYgk52q4VCvb"
    },
    {
      "cell_type": "code",
      "source": [
        "class Event:\n",
        "    def __init__(self, name, date, time, location):\n",
        "        self.__name = name\n",
        "        self.__date = date\n",
        "        self.__time = time\n",
        "        self.__location = location\n",
        "        self.__attendees = []\n",
        "\n",
        "    def add_attendee(self, attendee):\n",
        "        self.__attendees.append(attendee)\n",
        "        print(f\"Attendee {attendee} added to {self.__name}.\")\n",
        "\n",
        "    def remove_attendee(self, attendee):\n",
        "        if attendee in self.__attendees:\n",
        "            self.__attendees.remove(attendee)\n",
        "            print(f\"Attendee {attendee} removed from {self.__name}.\")\n",
        "        else:\n",
        "            print(f\"Attendee {attendee} not found.\")\n",
        "\n",
        "    def get_total_attendees(self):\n",
        "        return len(self.__attendees)\n",
        "\n",
        "    def display_info(self):\n",
        "        print(f\"Event: {self.__name}, Date: {self.__date}, Time: {self.__time}, Location: {self.__location}, Attendees: {self.__attendees}\")\n",
        "\n",
        "class PrivateEvent(Event):\n",
        "    def __init__(self, name, date, time, location, host):\n",
        "        super().__init__(name, date, time, location)\n",
        "        self.__host = host\n",
        "\n",
        "    def display_host(self):\n",
        "        print(f\"Host: {self.__host}\")\n",
        "\n",
        "class PublicEvent(Event):\n",
        "    def __init__(self, name, date, time, location):\n",
        "        super().__init__(name, date, time, location)\n",
        "\n",
        "# Testing the classes\n",
        "private_event = PrivateEvent(\"Birthday Party\", \"2023-10-15\", \"18:00\", \"123 Main St\", \"John Doe\")\n",
        "public_event = PublicEvent(\"Concert\", \"2023-11-20\", \"20:00\", \"City Hall\")\n",
        "private_event.add_attendee(\"Alice\")\n",
        "private_event.add_attendee(\"Bob\")\n",
        "private_event.display_info()\n",
        "public_event.display_info()"
      ],
      "metadata": {
        "colab": {
          "base_uri": "https://localhost:8080/"
        },
        "id": "mHYewlaRVRDC",
        "outputId": "334a0f16-4bc4-439a-bdc6-6d6e3017a4ca"
      },
      "id": "mHYewlaRVRDC",
      "execution_count": null,
      "outputs": [
        {
          "output_type": "stream",
          "name": "stdout",
          "text": [
            "Attendee Alice added to Birthday Party.\n",
            "Attendee Bob added to Birthday Party.\n",
            "Event: Birthday Party, Date: 2023-10-15, Time: 18:00, Location: 123 Main St, Attendees: ['Alice', 'Bob']\n",
            "Event: Concert, Date: 2023-11-20, Time: 20:00, Location: City Hall, Attendees: []\n"
          ]
        }
      ]
    },
    {
      "cell_type": "markdown",
      "source": [
        "### 10.Write a code for Airline Reservation System using OOPS:\n",
        "\n",
        "1 Create a Flight class that has attributes such as flight number, departure and arrival airports, departure and arrival times, and available seats (private)\n",
        "\n",
        "2 Implement methods to book a seat, cancel a reservation, and get the remaining available seats\n",
        "\n",
        "3 Use encapsulation to hide the flight's unique identification number\n",
        "\n",
        "4 Inherit from the Flight class to create a DomesticFlight class and an InternationalFlight class, each with their own specific attributes and methods."
      ],
      "metadata": {
        "id": "VltlElsLWAxM"
      },
      "id": "VltlElsLWAxM"
    },
    {
      "cell_type": "code",
      "source": [
        "class Flight:\n",
        "    def __init__(self, flight_number, departure_airport, arrival_airport, departure_time, arrival_time, total_seats):\n",
        "        self.__flight_number = flight_number\n",
        "        self.__departure_airport = departure_airport\n",
        "        self.__arrival_airport = arrival_airport\n",
        "        self.__departure_time = departure_time\n",
        "        self.__arrival_time = arrival_time\n",
        "        self.__total_seats = total_seats\n",
        "        self.__available_seats = total_seats\n",
        "\n",
        "    def book_seat(self):\n",
        "        if self.__available_seats > 0:\n",
        "            self.__available_seats -= 1\n",
        "            print(f\"Seat booked on Flight {self.__flight_number}. Remaining seats: {self.__available_seats}\")\n",
        "        else:\n",
        "            print(\"No seats available.\")\n",
        "\n",
        "    def cancel_reservation(self):\n",
        "        if self.__available_seats < self.__total_seats:\n",
        "            self.__available_seats += 1\n",
        "            print(f\"Reservation cancelled on Flight {self.__flight_number}. Remaining seats: {self.__available_seats}\")\n",
        "        else:\n",
        "            print(\"No reservations to cancel.\")\n",
        "\n",
        "    def get_available_seats(self):\n",
        "        return self.__available_seats\n",
        "\n",
        "    def display_info(self):\n",
        "        print(f\"Flight Number: {self.__flight_number}, Departure: {self.__departure_airport}, Arrival: {self.__arrival_airport}, Departure Time: {self.__departure_time}, Arrival Time: {self.__arrival_time}, Available Seats: {self.__available_seats}\")\n",
        "\n",
        "class DomesticFlight(Flight):\n",
        "    def __init__(self, flight_number, departure_airport, arrival_airport, departure_time, arrival_time, total_seats):\n",
        "        super().__init__(flight_number, departure_airport, arrival_airport, departure_time, arrival_time, total_seats)\n",
        "\n",
        "class InternationalFlight(Flight):\n",
        "    def __init__(self, flight_number, departure_airport, arrival_airport, departure_time, arrival_time, total_seats, visa_required):\n",
        "        super().__init__(flight_number, departure_airport, arrival_airport, departure_time, arrival_time, total_seats)\n",
        "        self.__visa_required = visa_required\n",
        "\n",
        "    def display_visa_info(self):\n",
        "        print(f\"Visa Required: {self.__visa_required}\")\n",
        "\n",
        "# Testing the classes\n",
        "domestic_flight = DomesticFlight(\"D123\", \"JFK\", \"LAX\", \"10:00\", \"13:00\", 150)\n",
        "international_flight = InternationalFlight(\"I456\", \"JFK\", \"LHR\", \"15:00\", \"07:00\", 200, True)\n",
        "domestic_flight.book_seat()\n",
        "international_flight.display_visa_info()"
      ],
      "metadata": {
        "colab": {
          "base_uri": "https://localhost:8080/"
        },
        "id": "lxhLvBVSWRbQ",
        "outputId": "8203c286-ea0e-42f0-8df9-904eff3b81c9"
      },
      "id": "lxhLvBVSWRbQ",
      "execution_count": null,
      "outputs": [
        {
          "output_type": "stream",
          "name": "stdout",
          "text": [
            "Seat booked on Flight D123. Remaining seats: 149\n",
            "Visa Required: True\n"
          ]
        }
      ]
    },
    {
      "cell_type": "markdown",
      "source": [
        "11. Define a Python module named constants.py containing constants like pi and the speed of light."
      ],
      "metadata": {
        "id": "oerw43NgWYyE"
      },
      "id": "oerw43NgWYyE"
    },
    {
      "cell_type": "code",
      "source": [
        "# constants.py\n",
        "PI = 3.14159\n",
        "SPEED_OF_LIGHT = 299792458  # in meters per second"
      ],
      "metadata": {
        "id": "sSuSZ1OZWdSB"
      },
      "id": "sSuSZ1OZWdSB",
      "execution_count": null,
      "outputs": []
    },
    {
      "cell_type": "markdown",
      "source": [
        "12. Write a Python module named calculator.py containing functions for addition, subtraction,\n",
        "multiplication, and division.\n",
        "\n",
        "\n"
      ],
      "metadata": {
        "id": "4ajPL1kpWkd6"
      },
      "id": "4ajPL1kpWkd6"
    },
    {
      "cell_type": "code",
      "source": [
        "# calculator.py\n",
        "\n",
        "def add(a, b):\n",
        "    return a + b\n",
        "\n",
        "def subtract(a, b):\n",
        "    return a - b\n",
        "\n",
        "def multiply(a, b):\n",
        "    return a * b\n",
        "\n",
        "def divide(a, b):\n",
        "    if b == 0:\n",
        "        raise ValueError(\"Cannot divide by zero\")\n",
        "    return a / b"
      ],
      "metadata": {
        "id": "mDXz7VKbXJxH"
      },
      "id": "mDXz7VKbXJxH",
      "execution_count": null,
      "outputs": []
    },
    {
      "cell_type": "markdown",
      "source": [
        "14. Implement a Python module named string_utils.py containing functions for string manipulation, such as reversing and capitalizing strings."
      ],
      "metadata": {
        "id": "U9iCv1_QXX7f"
      },
      "id": "U9iCv1_QXX7f"
    },
    {
      "cell_type": "code",
      "source": [
        "# string_utils.py\n",
        "def reverse_string(s):\n",
        "    return s[::-1]\n",
        "\n",
        "def capitalize_string(s):\n",
        "    return s.capitalize()"
      ],
      "metadata": {
        "id": "ORPquuGWYvXN"
      },
      "id": "ORPquuGWYvXN",
      "execution_count": null,
      "outputs": []
    },
    {
      "cell_type": "markdown",
      "source": [
        "15. Write a Python module named file_operations.py with functions for reading, writing, and appending data to a file."
      ],
      "metadata": {
        "id": "9-8-vrmlY0Xn"
      },
      "id": "9-8-vrmlY0Xn"
    },
    {
      "cell_type": "code",
      "source": [
        "# file_operations.py\n",
        "def read_file(filename):\n",
        "    with open(filename, 'r') as file:\n",
        "        return file.read()\n",
        "\n",
        "def write_file(filename, data):\n",
        "    with open(filename, 'w') as file:\n",
        "        file.write(data)\n",
        "\n",
        "def append_file(filename, data):\n",
        "    with open(filename, 'a') as file:\n",
        "        file.write(data)\n"
      ],
      "metadata": {
        "id": "Pd0q1N0-Y9W1"
      },
      "id": "Pd0q1N0-Y9W1",
      "execution_count": null,
      "outputs": []
    },
    {
      "cell_type": "markdown",
      "source": [
        "16. Write a Python program to create a text file named \"employees.txt\" and write the details of employees, including their name, age, and salary, into the file"
      ],
      "metadata": {
        "id": "Ap-l02ytY6E8"
      },
      "id": "Ap-l02ytY6E8"
    },
    {
      "cell_type": "code",
      "source": [
        "employees = [\n",
        "    {\"name\": \"Alice\", \"age\": 30, \"salary\": 50000},\n",
        "    {\"name\": \"Bob\", \"age\": 25, \"salary\": 45000},\n",
        "    {\"name\": \"Charlie\", \"age\": 35, \"salary\": 60000}\n",
        "]\n",
        "\n",
        "with open(\"employees.txt\", \"w\") as file:\n",
        "    for emp in employees:\n",
        "        file.write(f\"Name: {emp['name']}, Age: {emp['age']}, Salary: {emp['salary']}\\n\")"
      ],
      "metadata": {
        "id": "HvhIZtvbZH7Q"
      },
      "id": "HvhIZtvbZH7Q",
      "execution_count": null,
      "outputs": []
    },
    {
      "cell_type": "markdown",
      "source": [
        "17. Develop a Python script that opens an existing text file named \"inventory.txt\" in read mode and displays the contents of the file line by line."
      ],
      "metadata": {
        "id": "3Bq6m3kkZQIv"
      },
      "id": "3Bq6m3kkZQIv"
    },
    {
      "cell_type": "code",
      "source": [
        "try:\n",
        "    with open(\"inventory.txt\", \"r\") as file:\n",
        "        for line in file:\n",
        "            print(line.strip())  # strip() removes leading/trailing whitespace\n",
        "except FileNotFoundError:\n",
        "    print(\"Error: The file 'inventory.txt' does not exist.\")\n",
        "except Exception as e:\n",
        "    print(f\"An error occurred: {e}\")\n"
      ],
      "metadata": {
        "colab": {
          "base_uri": "https://localhost:8080/"
        },
        "id": "JXh2f9RiZXIq",
        "outputId": "c18d3f6e-2b00-40d3-be3e-0a37824b0084"
      },
      "id": "JXh2f9RiZXIq",
      "execution_count": null,
      "outputs": [
        {
          "output_type": "stream",
          "name": "stdout",
          "text": [
            "Error: The file 'inventory.txt' does not exist.\n"
          ]
        }
      ]
    },
    {
      "cell_type": "markdown",
      "source": [
        "18. Create a Python script that reads a text file named \"expenses.txt\" and calculates the total amount spent on various expenses listed in the file."
      ],
      "metadata": {
        "id": "U_-yEEkCZ25o"
      },
      "id": "U_-yEEkCZ25o"
    },
    {
      "cell_type": "code",
      "source": [
        "try:\n",
        "    total_expense = 0.0\n",
        "    with open(\"expenses.txt\", \"r\") as file:\n",
        "        for line in file:\n",
        "            try:\n",
        "                total_expense += float(line.strip())\n",
        "            except ValueError:\n",
        "                print(f\"Skipping invalid entry: {line.strip()}\")\n",
        "    print(f\"Total amount spent: ${total_expense:.2f}\")\n",
        "except FileNotFoundError:\n",
        "    print(\"Error: The file 'expenses.txt' does not exist.\")\n",
        "except Exception as e:\n",
        "    print(f\"An error occurred: {e}\")"
      ],
      "metadata": {
        "colab": {
          "base_uri": "https://localhost:8080/"
        },
        "id": "gLhW4nXZZ95D",
        "outputId": "9e737ce4-a840-4f94-cbfe-19c23b9d3cc0"
      },
      "id": "gLhW4nXZZ95D",
      "execution_count": null,
      "outputs": [
        {
          "output_type": "stream",
          "name": "stdout",
          "text": [
            "Error: The file 'expenses.txt' does not exist.\n"
          ]
        }
      ]
    },
    {
      "cell_type": "markdown",
      "source": [
        "19. Create a Python program that reads a text file named \"paragraph.txt\" and counts the occurrences of each word in the paragraph, displaying the results in alphabetical order"
      ],
      "metadata": {
        "id": "AdH04wvnaKmM"
      },
      "id": "AdH04wvnaKmM"
    },
    {
      "cell_type": "code",
      "source": [
        "from collections import Counter\n",
        "import string\n",
        "\n",
        "try:\n",
        "    with open(\"paragraph.txt\", \"r\") as file:\n",
        "        text = file.read().lower()\n",
        "        text = text.translate(str.maketrans('', '', string.punctuation))\n",
        "        words = text.split()\n",
        "        word_count = Counter(words)\n",
        "\n",
        "        for word in sorted(word_count):\n",
        "            print(f\"{word}: {word_count[word]}\")\n",
        "except FileNotFoundError:\n",
        "    print(\"Error: The file 'paragraph.txt' does not exist.\")\n",
        "except Exception as e:\n",
        "    print(f\"An error occurred: {e}\")\n"
      ],
      "metadata": {
        "colab": {
          "base_uri": "https://localhost:8080/"
        },
        "id": "H5Q0a19taR2J",
        "outputId": "e5cf4fae-ba16-4be2-8466-7c9ca55d42c5"
      },
      "id": "H5Q0a19taR2J",
      "execution_count": null,
      "outputs": [
        {
          "output_type": "stream",
          "name": "stdout",
          "text": [
            "Error: The file 'paragraph.txt' does not exist.\n"
          ]
        }
      ]
    },
    {
      "cell_type": "markdown",
      "source": [
        "39.How would you create a basic Flask route that displays \"Hello, World!\" on the homepage?"
      ],
      "metadata": {
        "id": "hkHQ0zmcak1I"
      },
      "id": "hkHQ0zmcak1I"
    },
    {
      "cell_type": "code",
      "source": [
        "\n",
        "from flask import Flask\n",
        "\n",
        "app = Flask(__name__)\n",
        "\n",
        "@app.route('/')\n",
        "def home():\n",
        "    return \"Hello, World!\"\n",
        "\n",
        "if __name__ == '__main__':\n",
        "    app.run(debug=True)\n"
      ],
      "metadata": {
        "id": "S_DLpSrWa16G"
      },
      "id": "S_DLpSrWa16G",
      "execution_count": null,
      "outputs": []
    },
    {
      "cell_type": "markdown",
      "source": [
        "40.Explain how to set up a Flask application to handle form submissions using POST requests."
      ],
      "metadata": {
        "id": "7AvBkcdfbmdy"
      },
      "id": "7AvBkcdfbmdy"
    },
    {
      "cell_type": "code",
      "source": [
        "#To handle form submissions using POST requests in Flask:\n",
        "\n",
        "from flask import Flask, request, render_template\n",
        "\n",
        "app = Flask(__name__)\n",
        "\n",
        "@app.route('/form', methods=['GET', 'POST'])\n",
        "def form():\n",
        "    if request.method == 'POST':\n",
        "        # Process form data\n",
        "        name = request.form['name']\n",
        "        return f\"Hello, {name}!\"\n",
        "    return render_template('form.html')\n",
        "\n",
        "#To handle form submissions using POST requests in Flask:\n",
        "\n",
        "from flask import Flask, request, render_template\n",
        "\n",
        "    Name:\n",
        "\n",
        "@app.route('/form', methods=['GET', 'POST'])\n",
        "def form():\n",
        "    if request.method == 'POST':\n",
        "        # Process form data\n",
        "        name = request.form['name']\n",
        "        return f\"Hello, {name}!\"\n",
        "    return render_template('form.html')\n",
        "\n",
        "if __name__ == '__main__':\n",
        "    app.run(debug=True)\n",
        "\n",
        "\n",
        "\n",
        "if __name__ == '__main__':\n",
        "    app.run(debug=True)\n",
        "\n",
        "\n"
      ],
      "metadata": {
        "id": "9LHI1D-mbs2N"
      },
      "id": "9LHI1D-mbs2N",
      "execution_count": null,
      "outputs": []
    },
    {
      "cell_type": "markdown",
      "source": [
        "41.Write a Flask route that accepts a parameter in the URL and displays it on the page."
      ],
      "metadata": {
        "id": "39iPn7N-e17P"
      },
      "id": "39iPn7N-e17P"
    },
    {
      "cell_type": "code",
      "source": [
        "from flask import Flask\n",
        "\n",
        "app = Flask(__name__)\n",
        "\n",
        "@app.route('/user/')\n",
        "def show_user(username):\n",
        "    return f'User: {username}'\n",
        "\n",
        "if __name__ == '__main__':\n",
        "    app.run(debug=True)"
      ],
      "metadata": {
        "collapsed": true,
        "id": "sm-GIPQKe5Ky"
      },
      "id": "sm-GIPQKe5Ky",
      "execution_count": null,
      "outputs": []
    },
    {
      "cell_type": "markdown",
      "source": [
        "42.How can you implement user authentication in a Flask application?"
      ],
      "metadata": {
        "id": "djzaKwLnfOXr"
      },
      "id": "djzaKwLnfOXr"
    },
    {
      "cell_type": "code",
      "source": [
        "\n",
        "\n",
        "from flask import Flask, render_template, redirect, url_for, flash\n",
        "from flask_login import LoginManager, UserMixin, login_user, login_required, logout_user\n",
        "\n",
        "app = Flask(__name__)\n",
        "app.secret_key = 'supersecretkey'\n",
        "\n",
        "login_manager = LoginManager()\n",
        "login_manager.init_app(app)\n",
        "\n",
        "class User(UserMixin):\n",
        "    def __init__(self, id):\n",
        "        self.id = id\n",
        "\n",
        "@login_manager.user_loader\n",
        "def load_user(user_id):\n",
        "    return User(user_id)\n",
        "\n",
        "@app.route('/login', methods=['GET', 'POST'])\n",
        "def login():\n",
        "    if request.method == 'POST':\n",
        "        user_id = request.form['user_id']\n",
        "        user = User(user_id)\n",
        "        login_user(user)\n",
        "        flash('Logged in successfully.')\n",
        "        return redirect(url_for('protected'))\n",
        "    return render_template('login.html')\n",
        "\n",
        "@app.route('/protected')\n",
        "@login_required\n",
        "def protected():\n",
        "    return 'Logged in as: ' + current_user.id\n",
        "\n",
        "@app.route('/logout')\n",
        "@login_required\n",
        "def logout():\n",
        "    logout_user()\n",
        "    return 'Logged out'\n",
        "\n",
        "if __name__ == '__main__':\n",
        "    app.run(debug=True)"
      ],
      "metadata": {
        "id": "aadGwo_qfPLX"
      },
      "id": "aadGwo_qfPLX",
      "execution_count": null,
      "outputs": []
    },
    {
      "cell_type": "markdown",
      "source": [
        "43.Describe the process of connecting a Flask app to a SQLite database using SQLAlchemy."
      ],
      "metadata": {
        "id": "YSOVXICVfu1A"
      },
      "id": "YSOVXICVfu1A"
    },
    {
      "cell_type": "code",
      "source": [
        "pip install flask-sqlalchemy\n",
        "\n",
        "from flask import Flask\n",
        "from flask_sqlalchemy import SQLAlchemy\n",
        "\n",
        "app = Flask(__name__)\n",
        "app.config['SQLALCHEMY_DATABASE_URI'] = 'sqlite:///mydatabase.db'\n",
        "db = SQLAlchemy(app)\n",
        "\n",
        "class User(db.Model):\n",
        "    id = db.Column(db.Integer, primary_key=True)\n",
        "    username = db.Column(db.String(80), unique=True, nullable=False)\n",
        "\n",
        "@app.route('/')\n",
        "def home():\n",
        "    return \"Hello, World!\"\n",
        "\n",
        "if __name__ == '__main__':\n",
        "    db.create_all()\n",
        "    app.run(debug=True)"
      ],
      "metadata": {
        "id": "yV-67OTzfyYB"
      },
      "id": "yV-67OTzfyYB",
      "execution_count": null,
      "outputs": []
    },
    {
      "cell_type": "markdown",
      "source": [
        "44.How would you create a RESTful API endpoint in Flask that returns JSON data?"
      ],
      "metadata": {
        "id": "ypD4Va3Of2Ed"
      },
      "id": "ypD4Va3Of2Ed"
    },
    {
      "cell_type": "code",
      "source": [
        "from flask import Flask, jsonify\n",
        "\n",
        "app = Flask(__name__)\n",
        "\n",
        "@app.route('/api/data', methods=['GET'])\n",
        "def get_data():\n",
        "    data = {\n",
        "        'name': 'John Doe',\n",
        "        'age': 30,\n",
        "        'city': 'New York'\n",
        "    }\n",
        "    return jsonify(data)\n",
        "\n",
        "if __name__ == '__main__':\n",
        "    app.run(debug=True)\n"
      ],
      "metadata": {
        "id": "h8mDQIwIf8bN"
      },
      "id": "h8mDQIwIf8bN",
      "execution_count": null,
      "outputs": []
    },
    {
      "cell_type": "markdown",
      "source": [
        "45.Explain how to use Flask-WTF to create and validate forms in a Flask application."
      ],
      "metadata": {
        "id": "v5KXKqE8gHk7"
      },
      "id": "v5KXKqE8gHk7"
    },
    {
      "cell_type": "code",
      "source": [
        "pip install flask-wtf\n",
        "\n",
        "from flask_wtf import FlaskForm\n",
        "from wtforms import StringField, SubmitField\n",
        "from wtforms.validators import DataRequired\n",
        "\n",
        "class MyForm(FlaskForm):\n",
        "    name = StringField('Name', validators=[DataRequired()])\n",
        "    submit = SubmitField('Submit')\n",
        "\n",
        "from flask import Flask, render_template, flash\n",
        "from forms import MyForm\n",
        "\n",
        "app = Flask(__name__)\n",
        "app.config['SECRET_KEY'] = 'supersecretkey'\n",
        "\n",
        "@app.route('/form', methods=['GET', 'POST'])\n",
        "def form():\n",
        "    form = MyForm()\n",
        "    if form.validate_on_submit():\n",
        "        flash(f'Hello, {form.name.data}!')\n",
        "    return render_template('form.html', form=form)\n",
        "\n",
        "if __name__ == '__main__':\n",
        "    app.run(debug=True)"
      ],
      "metadata": {
        "id": "vQCU-vgQgIoq"
      },
      "id": "vQCU-vgQgIoq",
      "execution_count": null,
      "outputs": []
    },
    {
      "cell_type": "markdown",
      "source": [
        "46.How can you implement file uploads in a Flask application?"
      ],
      "metadata": {
        "id": "N9T8ROTugPoR"
      },
      "id": "N9T8ROTugPoR"
    },
    {
      "cell_type": "code",
      "source": [
        "from flask import Flask, request, redirect, url_for\n",
        "\n",
        "app = Flask(__name__)\n",
        "\n",
        "@app.route('/upload', methods=['GET', 'POST'])\n",
        "def upload_file():\n",
        "    if request.method == 'POST':\n",
        "        file = request.files['file']\n",
        "        if file:\n",
        "            file.save(f'uploads/{file.filename}')\n",
        "            return 'File uploaded successfully'\n",
        "    return '''\n",
        "\n",
        "    Upload new File\n",
        "    Upload new File\n",
        "\n",
        "\n",
        "\n",
        "\n",
        "    '''\n",
        "\n",
        "if __name__ == '__main__':\n",
        "    app.run(debug=True)"
      ],
      "metadata": {
        "id": "mMAdqwHfgTBf"
      },
      "id": "mMAdqwHfgTBf",
      "execution_count": null,
      "outputs": []
    },
    {
      "cell_type": "markdown",
      "source": [
        "47.Describe the steps to create a Flask blueprint and why you might use one."
      ],
      "metadata": {
        "id": "AYfu-TJighOt"
      },
      "id": "AYfu-TJighOt"
    },
    {
      "cell_type": "code",
      "source": [
        "from flask import Blueprint\n",
        "\n",
        "auth = Blueprint('auth', __name__)\n",
        "\n",
        "@auth.route('/login')\n",
        "def login():\n",
        "    return 'Login Page'\n",
        "\n",
        "@auth.route('/logout')\n",
        "def logout():\n",
        "    return 'Logout Page'\n",
        "\n",
        "\n",
        "from flask import Flask\n",
        "from auth import auth\n",
        "\n",
        "app = Flask(__name__)\n",
        "app.register_blueprint(auth, url_prefix='/auth')\n",
        "\n",
        "if __name__ == '__main__':\n",
        "    app.run(debug=True)\n",
        "\n",
        "\n"
      ],
      "metadata": {
        "id": "YaytiwZQgnWb"
      },
      "id": "YaytiwZQgnWb",
      "execution_count": null,
      "outputs": []
    },
    {
      "cell_type": "markdown",
      "source": [
        "**Why use Blueprints?**\n",
        "\n",
        "Modularity: Blueprints allow you to organize your application into smaller, reusable components.\n",
        "\n",
        "Scalability: They make it easier to manage large applications by breaking them down into smaller parts.\n",
        "\n",
        "Separation of Concerns: Different parts of the application can be developed and maintained independently.\n"
      ],
      "metadata": {
        "id": "mkA20JYEhwGf"
      },
      "id": "mkA20JYEhwGf"
    },
    {
      "cell_type": "markdown",
      "source": [
        "48.How would you deploy a Flask application to a production server using Gunicorn and Nginx?"
      ],
      "metadata": {
        "id": "orgXYd3mhfLb"
      },
      "id": "orgXYd3mhfLb"
    },
    {
      "cell_type": "code",
      "source": [
        "pip install gunicorn\n",
        "\n",
        "gunicorn -w 4 myapp:app\n",
        "\n",
        "sudo apt-get install nginx\n",
        "\n",
        "server {\n",
        "    listen 80;\n",
        "    server_name yourdomain.com;\n",
        "\n",
        "    location / {\n",
        "        proxy_pass http://127.0.0.1:8000;\n",
        "        proxy_set_header Host\n",
        "remote_addr;\n",
        "        proxy_set_header X-Forwarded-For $proxy_add_x_forwarded_for;\n",
        "    }\n",
        "}\n",
        "\n",
        "\n",
        "sudo systemctl restart nginx\n"
      ],
      "metadata": {
        "id": "MOad4dY-h6gp"
      },
      "id": "MOad4dY-h6gp",
      "execution_count": null,
      "outputs": []
    },
    {
      "cell_type": "markdown",
      "source": [
        "\n",
        "### Question 50.Machine Learning:\n",
        "\n",
        "Create a database name Travel_Planner in mysql ,and  create a table name bookings in that which having attributes (user_id INT,  flight_id INT,hotel_id INT, activity_id INT,booking_date DATE) .fill with some dummy value .Now you have to read the content of this table using pandas as dataframe.Show the output"
      ],
      "metadata": {
        "id": "Sgd0Mmdbh_3g"
      },
      "id": "Sgd0Mmdbh_3g"
    },
    {
      "cell_type": "code",
      "source": [
        "#SQL\n",
        "\n",
        "CREATE DATABASE Travel_Planner;\n",
        "\n",
        "USE Travel_Planner;\n",
        "\n",
        "CREATE TABLE bookings (\n",
        "    user_id INT,\n",
        "    flight_id INT,\n",
        "    hotel_id INT,\n",
        "    activity_id INT,\n",
        "    booking_date DATE\n",
        ");\n",
        "\n",
        "INSERT INTO bookings (user_id, flight_id, hotel_id, activity_id, booking_date)\n",
        "VALUES (1, 101, 201, 301, '2023-10-01'),\n",
        "       (2, 102, 202, 302, '2023-10-02'),\n",
        "       (3, 103, 203, 303, '2023-10-03');\n",
        "\n",
        "\n",
        "\n",
        "#Python\n",
        "\n",
        "import pandas as pd\n",
        "import mysql.connector\n",
        "\n",
        "conn = mysql.connector.connect(\n",
        "    host='localhost',\n",
        "    user='root',\n",
        "    password='password',\n",
        "    database='Travel_Planner'\n",
        ")\n",
        "\n",
        "query = \"SELECT * FROM bookings\"\n",
        "df = pd.read_sql(query, conn)\n",
        "print(df)\n",
        "\n"
      ],
      "metadata": {
        "id": "5sK2aZ8Pii0u"
      },
      "id": "5sK2aZ8Pii0u",
      "execution_count": null,
      "outputs": []
    },
    {
      "cell_type": "code",
      "source": [],
      "metadata": {
        "id": "HXgFBt0hiyOr"
      },
      "id": "HXgFBt0hiyOr",
      "execution_count": null,
      "outputs": []
    }
  ],
  "metadata": {
    "colab": {
      "provenance": [],
      "include_colab_link": true
    },
    "language_info": {
      "name": "python"
    },
    "kernelspec": {
      "name": "python3",
      "display_name": "Python 3"
    }
  },
  "nbformat": 4,
  "nbformat_minor": 5
}